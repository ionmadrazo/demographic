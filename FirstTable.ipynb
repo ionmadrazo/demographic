{
 "cells": [
  {
   "cell_type": "code",
   "execution_count": 2,
   "metadata": {
    "collapsed": false
   },
   "outputs": [],
   "source": [
    "library(dplyr)\n",
    "library(readr)\n",
    "library(ggplot2)"
   ]
  },
  {
   "cell_type": "code",
   "execution_count": 3,
   "metadata": {
    "collapsed": true
   },
   "outputs": [],
   "source": [
    "options(repr.plot.height=5)\n",
    "options(repr.matrix.max.rows=20)\n",
    "options(repr.matrix.max.columns=10)"
   ]
  },
  {
   "cell_type": "code",
   "execution_count": 81,
   "metadata": {
    "collapsed": false
   },
   "outputs": [
    {
     "data": {
      "text/html": [
       "<table>\n",
       "<thead><tr><th scope=col>user</th><th scope=col>gender</th><th scope=col>age</th><th scope=col>dataset</th></tr></thead>\n",
       "<tbody>\n",
       "\t<tr><td> 1        </td><td>F         </td><td>1         </td><td>Lenskit-1m</td></tr>\n",
       "\t<tr><td> 2        </td><td>M         </td><td>56        </td><td>Lenskit-1m</td></tr>\n",
       "\t<tr><td> 3        </td><td>M         </td><td>25        </td><td>Lenskit-1m</td></tr>\n",
       "\t<tr><td> 4        </td><td>M         </td><td>45        </td><td>Lenskit-1m</td></tr>\n",
       "\t<tr><td> 5        </td><td>M         </td><td>25        </td><td>Lenskit-1m</td></tr>\n",
       "\t<tr><td> 6        </td><td>F         </td><td>50        </td><td>Lenskit-1m</td></tr>\n",
       "\t<tr><td> 7        </td><td>M         </td><td>35        </td><td>Lenskit-1m</td></tr>\n",
       "\t<tr><td> 8        </td><td>M         </td><td>25        </td><td>Lenskit-1m</td></tr>\n",
       "\t<tr><td> 9        </td><td>M         </td><td>25        </td><td>Lenskit-1m</td></tr>\n",
       "\t<tr><td>10        </td><td>F         </td><td>35        </td><td>Lenskit-1m</td></tr>\n",
       "\t<tr><td>⋮</td><td>⋮</td><td>⋮</td><td>⋮</td></tr>\n",
       "\t<tr><td>6031      </td><td>F         </td><td>18        </td><td>Lenskit-1m</td></tr>\n",
       "\t<tr><td>6032      </td><td>M         </td><td>45        </td><td>Lenskit-1m</td></tr>\n",
       "\t<tr><td>6033      </td><td>M         </td><td>50        </td><td>Lenskit-1m</td></tr>\n",
       "\t<tr><td>6034      </td><td>M         </td><td>25        </td><td>Lenskit-1m</td></tr>\n",
       "\t<tr><td>6035      </td><td>F         </td><td>25        </td><td>Lenskit-1m</td></tr>\n",
       "\t<tr><td>6036      </td><td>F         </td><td>25        </td><td>Lenskit-1m</td></tr>\n",
       "\t<tr><td>6037      </td><td>F         </td><td>45        </td><td>Lenskit-1m</td></tr>\n",
       "\t<tr><td>6038      </td><td>F         </td><td>56        </td><td>Lenskit-1m</td></tr>\n",
       "\t<tr><td>6039      </td><td>F         </td><td>45        </td><td>Lenskit-1m</td></tr>\n",
       "\t<tr><td>6040      </td><td>M         </td><td>25        </td><td>Lenskit-1m</td></tr>\n",
       "</tbody>\n",
       "</table>\n"
      ],
      "text/latex": [
       "\\begin{tabular}{r|llll}\n",
       " user & gender & age & dataset\\\\\n",
       "\\hline\n",
       "\t  1         & F          & 1          & Lenskit-1m\\\\\n",
       "\t  2         & M          & 56         & Lenskit-1m\\\\\n",
       "\t  3         & M          & 25         & Lenskit-1m\\\\\n",
       "\t  4         & M          & 45         & Lenskit-1m\\\\\n",
       "\t  5         & M          & 25         & Lenskit-1m\\\\\n",
       "\t  6         & F          & 50         & Lenskit-1m\\\\\n",
       "\t  7         & M          & 35         & Lenskit-1m\\\\\n",
       "\t  8         & M          & 25         & Lenskit-1m\\\\\n",
       "\t  9         & M          & 25         & Lenskit-1m\\\\\n",
       "\t 10         & F          & 35         & Lenskit-1m\\\\\n",
       "\t ⋮ & ⋮ & ⋮ & ⋮\\\\\n",
       "\t 6031       & F          & 18         & Lenskit-1m\\\\\n",
       "\t 6032       & M          & 45         & Lenskit-1m\\\\\n",
       "\t 6033       & M          & 50         & Lenskit-1m\\\\\n",
       "\t 6034       & M          & 25         & Lenskit-1m\\\\\n",
       "\t 6035       & F          & 25         & Lenskit-1m\\\\\n",
       "\t 6036       & F          & 25         & Lenskit-1m\\\\\n",
       "\t 6037       & F          & 45         & Lenskit-1m\\\\\n",
       "\t 6038       & F          & 56         & Lenskit-1m\\\\\n",
       "\t 6039       & F          & 45         & Lenskit-1m\\\\\n",
       "\t 6040       & M          & 25         & Lenskit-1m\\\\\n",
       "\\end{tabular}\n"
      ],
      "text/markdown": [
       "\n",
       "user | gender | age | dataset | \n",
       "|---|---|---|---|---|---|---|---|---|---|---|---|---|---|---|---|---|---|---|---|---|\n",
       "|  1         | F          | 1          | Lenskit-1m | \n",
       "|  2         | M          | 56         | Lenskit-1m | \n",
       "|  3         | M          | 25         | Lenskit-1m | \n",
       "|  4         | M          | 45         | Lenskit-1m | \n",
       "|  5         | M          | 25         | Lenskit-1m | \n",
       "|  6         | F          | 50         | Lenskit-1m | \n",
       "|  7         | M          | 35         | Lenskit-1m | \n",
       "|  8         | M          | 25         | Lenskit-1m | \n",
       "|  9         | M          | 25         | Lenskit-1m | \n",
       "| 10         | F          | 35         | Lenskit-1m | \n",
       "| ⋮ | ⋮ | ⋮ | ⋮ | \n",
       "| 6031       | F          | 18         | Lenskit-1m | \n",
       "| 6032       | M          | 45         | Lenskit-1m | \n",
       "| 6033       | M          | 50         | Lenskit-1m | \n",
       "| 6034       | M          | 25         | Lenskit-1m | \n",
       "| 6035       | F          | 25         | Lenskit-1m | \n",
       "| 6036       | F          | 25         | Lenskit-1m | \n",
       "| 6037       | F          | 45         | Lenskit-1m | \n",
       "| 6038       | F          | 56         | Lenskit-1m | \n",
       "| 6039       | F          | 45         | Lenskit-1m | \n",
       "| 6040       | M          | 25         | Lenskit-1m | \n",
       "\n",
       "\n"
      ],
      "text/plain": [
       "     user gender age dataset   \n",
       "1     1   F      1   Lenskit-1m\n",
       "2     2   M      56  Lenskit-1m\n",
       "3     3   M      25  Lenskit-1m\n",
       "4     4   M      45  Lenskit-1m\n",
       "5     5   M      25  Lenskit-1m\n",
       "6     6   F      50  Lenskit-1m\n",
       "7     7   M      35  Lenskit-1m\n",
       "8     8   M      25  Lenskit-1m\n",
       "9     9   M      25  Lenskit-1m\n",
       "10   10   F      35  Lenskit-1m\n",
       "⋮    ⋮    ⋮      ⋮   ⋮         \n",
       "6031 6031 F      18  Lenskit-1m\n",
       "6032 6032 M      45  Lenskit-1m\n",
       "6033 6033 M      50  Lenskit-1m\n",
       "6034 6034 M      25  Lenskit-1m\n",
       "6035 6035 F      25  Lenskit-1m\n",
       "6036 6036 F      25  Lenskit-1m\n",
       "6037 6037 F      45  Lenskit-1m\n",
       "6038 6038 F      56  Lenskit-1m\n",
       "6039 6039 F      45  Lenskit-1m\n",
       "6040 6040 M      25  Lenskit-1m"
      ]
     },
     "metadata": {},
     "output_type": "display_data"
    },
    {
     "data": {
      "text/html": [
       "<ol class=list-inline>\n",
       "\t<li>1</li>\n",
       "\t<li>56</li>\n",
       "\t<li>25</li>\n",
       "\t<li>45</li>\n",
       "\t<li>50</li>\n",
       "\t<li>35</li>\n",
       "\t<li>18</li>\n",
       "</ol>\n"
      ],
      "text/latex": [
       "\\begin{enumerate*}\n",
       "\\item 1\n",
       "\\item 56\n",
       "\\item 25\n",
       "\\item 45\n",
       "\\item 50\n",
       "\\item 35\n",
       "\\item 18\n",
       "\\end{enumerate*}\n"
      ],
      "text/markdown": [
       "1. 1\n",
       "2. 56\n",
       "3. 25\n",
       "4. 45\n",
       "5. 50\n",
       "6. 35\n",
       "7. 18\n",
       "\n",
       "\n"
      ],
      "text/plain": [
       "[1] 1  56 25 45 50 35 18\n",
       "Levels: 1 18 25 35 45 50 56"
      ]
     },
     "metadata": {},
     "output_type": "display_data"
    }
   ],
   "source": [
    "usersLK = read_delim(\"data/lk1m/users.dat\", delim=\":\",\n",
    "                   col_names=c(\"user\", \"gender\", \"age\", \"occupation\", \"zip\"),\n",
    "                   col_types=\"i_c_c_c_c\") %>%\n",
    "    mutate(gender=as.factor(gender),\n",
    "           age=as.factor(age),\n",
    "           occupation=as.factor(occupation))\n",
    "usersLK <-  subset(usersLK, select = c(\"user\", \"gender\", \"age\"))\n",
    "usersLK$dataset = as.factor(\"Lenskit-1m\")\n",
    "usersLK\n",
    "unique(usersLK$age)"
   ]
  },
  {
   "cell_type": "code",
   "execution_count": 43,
   "metadata": {
    "collapsed": false
   },
   "outputs": [
    {
     "data": {
      "text/html": [
       "<ol class=list-inline>\n",
       "\t<li>1</li>\n",
       "\t<li>56</li>\n",
       "\t<li>25</li>\n",
       "\t<li>45</li>\n",
       "\t<li>50</li>\n",
       "\t<li>35</li>\n",
       "\t<li>18</li>\n",
       "</ol>\n"
      ],
      "text/latex": [
       "\\begin{enumerate*}\n",
       "\\item 1\n",
       "\\item 56\n",
       "\\item 25\n",
       "\\item 45\n",
       "\\item 50\n",
       "\\item 35\n",
       "\\item 18\n",
       "\\end{enumerate*}\n"
      ],
      "text/markdown": [
       "1. 1\n",
       "2. 56\n",
       "3. 25\n",
       "4. 45\n",
       "5. 50\n",
       "6. 35\n",
       "7. 18\n",
       "\n",
       "\n"
      ],
      "text/plain": [
       "[1] 1  56 25 45 50 35 18\n",
       "Levels: 1 18 25 35 45 50 56"
      ]
     },
     "metadata": {},
     "output_type": "display_data"
    }
   ],
   "source": []
  },
  {
   "cell_type": "code",
   "execution_count": 85,
   "metadata": {
    "collapsed": false,
    "scrolled": true
   },
   "outputs": [
    {
     "name": "stderr",
     "output_type": "stream",
     "text": [
      "Parsed with column specification:\n",
      "cols(\n",
      "  user = col_integer(),\n",
      "  key = col_character(),\n",
      "  gender = col_character(),\n",
      "  age = col_integer()\n",
      ")\n"
     ]
    },
    {
     "data": {
      "text/html": [
       "<table>\n",
       "<thead><tr><th scope=col>user</th><th scope=col>gender</th><th scope=col>age</th><th scope=col>dataset</th></tr></thead>\n",
       "<tbody>\n",
       "\t<tr><td> 1    </td><td>F     </td><td>18    </td><td>LastFM</td></tr>\n",
       "\t<tr><td> 2    </td><td>F     </td><td>NA    </td><td>LastFM</td></tr>\n",
       "\t<tr><td> 3    </td><td>NA    </td><td>NA    </td><td>LastFM</td></tr>\n",
       "\t<tr><td> 4    </td><td>M     </td><td>18    </td><td>LastFM</td></tr>\n",
       "\t<tr><td> 5    </td><td>M     </td><td>25    </td><td>LastFM</td></tr>\n",
       "\t<tr><td> 6    </td><td>M     </td><td>18    </td><td>LastFM</td></tr>\n",
       "\t<tr><td> 7    </td><td>M     </td><td>1     </td><td>LastFM</td></tr>\n",
       "\t<tr><td> 8    </td><td>F     </td><td>18    </td><td>LastFM</td></tr>\n",
       "\t<tr><td> 9    </td><td>F     </td><td>18    </td><td>LastFM</td></tr>\n",
       "\t<tr><td>10    </td><td>M     </td><td>NA    </td><td>LastFM</td></tr>\n",
       "\t<tr><td>⋮</td><td>⋮</td><td>⋮</td><td>⋮</td></tr>\n",
       "\t<tr><td>359338</td><td>F     </td><td>1     </td><td>LastFM</td></tr>\n",
       "\t<tr><td>359339</td><td>M     </td><td>25    </td><td>LastFM</td></tr>\n",
       "\t<tr><td>359340</td><td>F     </td><td>18    </td><td>LastFM</td></tr>\n",
       "\t<tr><td>359341</td><td>F     </td><td>18    </td><td>LastFM</td></tr>\n",
       "\t<tr><td>359342</td><td>M     </td><td>25    </td><td>LastFM</td></tr>\n",
       "\t<tr><td>359343</td><td>M     </td><td>25    </td><td>LastFM</td></tr>\n",
       "\t<tr><td>359344</td><td>M     </td><td>25    </td><td>LastFM</td></tr>\n",
       "\t<tr><td>359345</td><td>M     </td><td>18    </td><td>LastFM</td></tr>\n",
       "\t<tr><td>359346</td><td>M     </td><td>18    </td><td>LastFM</td></tr>\n",
       "\t<tr><td>359347</td><td>M     </td><td>18    </td><td>LastFM</td></tr>\n",
       "</tbody>\n",
       "</table>\n"
      ],
      "text/latex": [
       "\\begin{tabular}{r|llll}\n",
       " user & gender & age & dataset\\\\\n",
       "\\hline\n",
       "\t  1     & F      & 18     & LastFM\\\\\n",
       "\t  2     & F      & NA     & LastFM\\\\\n",
       "\t  3     & NA     & NA     & LastFM\\\\\n",
       "\t  4     & M      & 18     & LastFM\\\\\n",
       "\t  5     & M      & 25     & LastFM\\\\\n",
       "\t  6     & M      & 18     & LastFM\\\\\n",
       "\t  7     & M      & 1      & LastFM\\\\\n",
       "\t  8     & F      & 18     & LastFM\\\\\n",
       "\t  9     & F      & 18     & LastFM\\\\\n",
       "\t 10     & M      & NA     & LastFM\\\\\n",
       "\t ⋮ & ⋮ & ⋮ & ⋮\\\\\n",
       "\t 359338 & F      & 1      & LastFM\\\\\n",
       "\t 359339 & M      & 25     & LastFM\\\\\n",
       "\t 359340 & F      & 18     & LastFM\\\\\n",
       "\t 359341 & F      & 18     & LastFM\\\\\n",
       "\t 359342 & M      & 25     & LastFM\\\\\n",
       "\t 359343 & M      & 25     & LastFM\\\\\n",
       "\t 359344 & M      & 25     & LastFM\\\\\n",
       "\t 359345 & M      & 18     & LastFM\\\\\n",
       "\t 359346 & M      & 18     & LastFM\\\\\n",
       "\t 359347 & M      & 18     & LastFM\\\\\n",
       "\\end{tabular}\n"
      ],
      "text/markdown": [
       "\n",
       "user | gender | age | dataset | \n",
       "|---|---|---|---|---|---|---|---|---|---|---|---|---|---|---|---|---|---|---|---|---|\n",
       "|  1     | F      | 18     | LastFM | \n",
       "|  2     | F      | NA     | LastFM | \n",
       "|  3     | NA     | NA     | LastFM | \n",
       "|  4     | M      | 18     | LastFM | \n",
       "|  5     | M      | 25     | LastFM | \n",
       "|  6     | M      | 18     | LastFM | \n",
       "|  7     | M      | 1      | LastFM | \n",
       "|  8     | F      | 18     | LastFM | \n",
       "|  9     | F      | 18     | LastFM | \n",
       "| 10     | M      | NA     | LastFM | \n",
       "| ⋮ | ⋮ | ⋮ | ⋮ | \n",
       "| 359338 | F      | 1      | LastFM | \n",
       "| 359339 | M      | 25     | LastFM | \n",
       "| 359340 | F      | 18     | LastFM | \n",
       "| 359341 | F      | 18     | LastFM | \n",
       "| 359342 | M      | 25     | LastFM | \n",
       "| 359343 | M      | 25     | LastFM | \n",
       "| 359344 | M      | 25     | LastFM | \n",
       "| 359345 | M      | 18     | LastFM | \n",
       "| 359346 | M      | 18     | LastFM | \n",
       "| 359347 | M      | 18     | LastFM | \n",
       "\n",
       "\n"
      ],
      "text/plain": [
       "       user   gender age dataset\n",
       "1       1     F      18  LastFM \n",
       "2       2     F      NA  LastFM \n",
       "3       3     NA     NA  LastFM \n",
       "4       4     M      18  LastFM \n",
       "5       5     M      25  LastFM \n",
       "6       6     M      18  LastFM \n",
       "7       7     M      1   LastFM \n",
       "8       8     F      18  LastFM \n",
       "9       9     F      18  LastFM \n",
       "10     10     M      NA  LastFM \n",
       "⋮      ⋮      ⋮      ⋮   ⋮      \n",
       "359338 359338 F      1   LastFM \n",
       "359339 359339 M      25  LastFM \n",
       "359340 359340 F      18  LastFM \n",
       "359341 359341 F      18  LastFM \n",
       "359342 359342 M      25  LastFM \n",
       "359343 359343 M      25  LastFM \n",
       "359344 359344 M      25  LastFM \n",
       "359345 359345 M      18  LastFM \n",
       "359346 359346 M      18  LastFM \n",
       "359347 359347 M      18  LastFM "
      ]
     },
     "metadata": {},
     "output_type": "display_data"
    },
    {
     "data": {
      "text/html": [
       "<ol class=list-inline>\n",
       "\t<li>18</li>\n",
       "\t<li>NA</li>\n",
       "\t<li>25</li>\n",
       "\t<li>1</li>\n",
       "\t<li>45</li>\n",
       "\t<li>56</li>\n",
       "\t<li>35</li>\n",
       "</ol>\n"
      ],
      "text/latex": [
       "\\begin{enumerate*}\n",
       "\\item 18\n",
       "\\item NA\n",
       "\\item 25\n",
       "\\item 1\n",
       "\\item 45\n",
       "\\item 56\n",
       "\\item 35\n",
       "\\end{enumerate*}\n"
      ],
      "text/markdown": [
       "1. 18\n",
       "2. NA\n",
       "3. 25\n",
       "4. 1\n",
       "5. 45\n",
       "6. 56\n",
       "7. 35\n",
       "\n",
       "\n"
      ],
      "text/plain": [
       "[1] 18   <NA> 25   1    45   56   35  \n",
       "Levels: 1 18 25 35 45 56"
      ]
     },
     "metadata": {},
     "output_type": "display_data"
    }
   ],
   "source": [
    "#id,key,gender,age\n",
    "\n",
    "usersLastfm = read_delim(\"data/lastfm/lastfm-users.csv\", delim=\",\", \n",
    "                   col_names=c(\"user\", \"key\", \"gender\", \"age\") )\n",
    "usersLastfm <-  subset(usersLastfm, select = c(\"user\", \"gender\", \"age\"))\n",
    "#usersLastfm$age <- as.integer(usersLastfm$age)\n",
    "usersLastfm$age <- as.numeric(as.character(usersLastfm$age))\n",
    "usersLastfm$gender[usersLastfm$gender == \"f\"] <- \"F\"\n",
    "usersLastfm$gender[usersLastfm$gender == \"m\"] <- \"M\"\n",
    "usersLastfm$age[ as.numeric(usersLastfm$age) < 18] <- 1\n",
    "usersLastfm$age[as.numeric(usersLastfm$age) >= 18 & as.numeric(usersLastfm$age) < 25] <- 18\n",
    "usersLastfm$age[as.numeric(usersLastfm$age) >= 25 &  as.numeric(usersLastfm$age) < 35] <- 25\n",
    "usersLastfm$age[as.numeric(usersLastfm$age) >= 35 &  as.numeric(usersLastfm$age) < 45] <- 35\n",
    "usersLastfm$age[as.numeric(usersLastfm$age) >= 45 & as.numeric(usersLastfm$age) < 56] <- 45\n",
    "usersLastfm$age[as.numeric(usersLastfm$age) >= 56 ] <- 56\n",
    "usersLastfm$dataset = as.factor(\"LastFM\")\n",
    "usersLastfm$age = as.factor(usersLastfm$age)\n",
    "usersLastfm\n",
    "unique(usersLastfm$age)"
   ]
  },
  {
   "cell_type": "code",
   "execution_count": 91,
   "metadata": {
    "collapsed": false
   },
   "outputs": [
    {
     "data": {
      "text/html": [
       "<table>\n",
       "<thead><tr><th scope=col>user</th><th scope=col>gender</th><th scope=col>age</th><th scope=col>dataset</th></tr></thead>\n",
       "<tbody>\n",
       "\t<tr><td> 1        </td><td>F         </td><td>1         </td><td>Lenskit-1m</td></tr>\n",
       "\t<tr><td> 2        </td><td>M         </td><td>56        </td><td>Lenskit-1m</td></tr>\n",
       "\t<tr><td> 3        </td><td>M         </td><td>25        </td><td>Lenskit-1m</td></tr>\n",
       "\t<tr><td> 4        </td><td>M         </td><td>45        </td><td>Lenskit-1m</td></tr>\n",
       "\t<tr><td> 5        </td><td>M         </td><td>25        </td><td>Lenskit-1m</td></tr>\n",
       "\t<tr><td> 6        </td><td>F         </td><td>50        </td><td>Lenskit-1m</td></tr>\n",
       "\t<tr><td> 7        </td><td>M         </td><td>35        </td><td>Lenskit-1m</td></tr>\n",
       "\t<tr><td> 8        </td><td>M         </td><td>25        </td><td>Lenskit-1m</td></tr>\n",
       "\t<tr><td> 9        </td><td>M         </td><td>25        </td><td>Lenskit-1m</td></tr>\n",
       "\t<tr><td>10        </td><td>F         </td><td>35        </td><td>Lenskit-1m</td></tr>\n",
       "\t<tr><td>⋮</td><td>⋮</td><td>⋮</td><td>⋮</td></tr>\n",
       "\t<tr><td>359338</td><td>F     </td><td>1     </td><td>LastFM</td></tr>\n",
       "\t<tr><td>359339</td><td>M     </td><td>25    </td><td>LastFM</td></tr>\n",
       "\t<tr><td>359340</td><td>F     </td><td>18    </td><td>LastFM</td></tr>\n",
       "\t<tr><td>359341</td><td>F     </td><td>18    </td><td>LastFM</td></tr>\n",
       "\t<tr><td>359342</td><td>M     </td><td>25    </td><td>LastFM</td></tr>\n",
       "\t<tr><td>359343</td><td>M     </td><td>25    </td><td>LastFM</td></tr>\n",
       "\t<tr><td>359344</td><td>M     </td><td>25    </td><td>LastFM</td></tr>\n",
       "\t<tr><td>359345</td><td>M     </td><td>18    </td><td>LastFM</td></tr>\n",
       "\t<tr><td>359346</td><td>M     </td><td>18    </td><td>LastFM</td></tr>\n",
       "\t<tr><td>359347</td><td>M     </td><td>18    </td><td>LastFM</td></tr>\n",
       "</tbody>\n",
       "</table>\n"
      ],
      "text/latex": [
       "\\begin{tabular}{r|llll}\n",
       " user & gender & age & dataset\\\\\n",
       "\\hline\n",
       "\t  1         & F          & 1          & Lenskit-1m\\\\\n",
       "\t  2         & M          & 56         & Lenskit-1m\\\\\n",
       "\t  3         & M          & 25         & Lenskit-1m\\\\\n",
       "\t  4         & M          & 45         & Lenskit-1m\\\\\n",
       "\t  5         & M          & 25         & Lenskit-1m\\\\\n",
       "\t  6         & F          & 50         & Lenskit-1m\\\\\n",
       "\t  7         & M          & 35         & Lenskit-1m\\\\\n",
       "\t  8         & M          & 25         & Lenskit-1m\\\\\n",
       "\t  9         & M          & 25         & Lenskit-1m\\\\\n",
       "\t 10         & F          & 35         & Lenskit-1m\\\\\n",
       "\t ⋮ & ⋮ & ⋮ & ⋮\\\\\n",
       "\t 359338 & F      & 1      & LastFM\\\\\n",
       "\t 359339 & M      & 25     & LastFM\\\\\n",
       "\t 359340 & F      & 18     & LastFM\\\\\n",
       "\t 359341 & F      & 18     & LastFM\\\\\n",
       "\t 359342 & M      & 25     & LastFM\\\\\n",
       "\t 359343 & M      & 25     & LastFM\\\\\n",
       "\t 359344 & M      & 25     & LastFM\\\\\n",
       "\t 359345 & M      & 18     & LastFM\\\\\n",
       "\t 359346 & M      & 18     & LastFM\\\\\n",
       "\t 359347 & M      & 18     & LastFM\\\\\n",
       "\\end{tabular}\n"
      ],
      "text/markdown": [
       "\n",
       "user | gender | age | dataset | \n",
       "|---|---|---|---|---|---|---|---|---|---|---|---|---|---|---|---|---|---|---|---|---|\n",
       "|  1         | F          | 1          | Lenskit-1m | \n",
       "|  2         | M          | 56         | Lenskit-1m | \n",
       "|  3         | M          | 25         | Lenskit-1m | \n",
       "|  4         | M          | 45         | Lenskit-1m | \n",
       "|  5         | M          | 25         | Lenskit-1m | \n",
       "|  6         | F          | 50         | Lenskit-1m | \n",
       "|  7         | M          | 35         | Lenskit-1m | \n",
       "|  8         | M          | 25         | Lenskit-1m | \n",
       "|  9         | M          | 25         | Lenskit-1m | \n",
       "| 10         | F          | 35         | Lenskit-1m | \n",
       "| ⋮ | ⋮ | ⋮ | ⋮ | \n",
       "| 359338 | F      | 1      | LastFM | \n",
       "| 359339 | M      | 25     | LastFM | \n",
       "| 359340 | F      | 18     | LastFM | \n",
       "| 359341 | F      | 18     | LastFM | \n",
       "| 359342 | M      | 25     | LastFM | \n",
       "| 359343 | M      | 25     | LastFM | \n",
       "| 359344 | M      | 25     | LastFM | \n",
       "| 359345 | M      | 18     | LastFM | \n",
       "| 359346 | M      | 18     | LastFM | \n",
       "| 359347 | M      | 18     | LastFM | \n",
       "\n",
       "\n"
      ],
      "text/plain": [
       "       user   gender age dataset   \n",
       "1       1     F      1   Lenskit-1m\n",
       "2       2     M      56  Lenskit-1m\n",
       "3       3     M      25  Lenskit-1m\n",
       "4       4     M      45  Lenskit-1m\n",
       "5       5     M      25  Lenskit-1m\n",
       "6       6     F      50  Lenskit-1m\n",
       "7       7     M      35  Lenskit-1m\n",
       "8       8     M      25  Lenskit-1m\n",
       "9       9     M      25  Lenskit-1m\n",
       "10     10     F      35  Lenskit-1m\n",
       "⋮      ⋮      ⋮      ⋮   ⋮         \n",
       "365378 359338 F      1   LastFM    \n",
       "365379 359339 M      25  LastFM    \n",
       "365380 359340 F      18  LastFM    \n",
       "365381 359341 F      18  LastFM    \n",
       "365382 359342 M      25  LastFM    \n",
       "365383 359343 M      25  LastFM    \n",
       "365384 359344 M      25  LastFM    \n",
       "365385 359345 M      18  LastFM    \n",
       "365386 359346 M      18  LastFM    \n",
       "365387 359347 M      18  LastFM    "
      ]
     },
     "metadata": {},
     "output_type": "display_data"
    }
   ],
   "source": [
    "users <- rbind(usersLK, usersLastfm)\n",
    "users"
   ]
  },
  {
   "cell_type": "code",
   "execution_count": 102,
   "metadata": {
    "collapsed": false,
    "scrolled": false
   },
   "outputs": [
    {
     "data": {},
     "metadata": {},
     "output_type": "display_data"
    },
    {
     "data": {
      "image/png": "[encoded data removed]",
      "text/plain": [
       "plot without title"
      ]
     },
     "metadata": {},
     "output_type": "display_data"
    }
   ],
   "source": [
    "ggplot(users) +\n",
    "    aes(x=gender,fill=dataset) + scale_y_continuous(labels = scales::percent)+\n",
    "    geom_bar()+facet_grid(. ~ dataset)"
   ]
  },
  {
   "cell_type": "markdown",
   "metadata": {},
   "source": []
  },
  {
   "cell_type": "code",
   "execution_count": 98,
   "metadata": {
    "collapsed": false
   },
   "outputs": [
    {
     "data": {},
     "metadata": {},
     "output_type": "display_data"
    },
    {
     "data": {
      "image/png": "[encoded data removed]",
      "text/plain": [
       "plot without title"
      ]
     },
     "metadata": {},
     "output_type": "display_data"
    }
   ],
   "source": [
    "ggplot(users) +\n",
    "    aes(x=age,fill=dataset) + scale_y_continuous(labels = scales::percent)+\n",
    "    geom_bar()+facet_grid(. ~ dataset)"
   ]
  },
  {
   "cell_type": "code",
   "execution_count": null,
   "metadata": {
    "collapsed": false
   },
   "outputs": [],
   "source": [
    "\n"
   ]
  }
 ],
 "metadata": {
  "anaconda-cloud": {},
  "kernelspec": {
   "display_name": "R [conda env:my-r-env]",
   "language": "R",
   "name": "conda-env-my-r-env-r"
  },
  "language_info": {
   "codemirror_mode": "r",
   "file_extension": ".r",
   "mimetype": "text/x-r-source",
   "name": "R",
   "pygments_lexer": "r",
   "version": "3.3.2"
  }
 },
 "nbformat": 4,
 "nbformat_minor": 1
}
