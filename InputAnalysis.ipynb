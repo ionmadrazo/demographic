{
 "cells": [
  {
   "cell_type": "markdown",
   "metadata": {},
   "source": [
    "# Input Analysis\n",
    "\n",
    "This notebook contains our analysis of the input data ([MovieLens 1M](http://grouplens.org/datasets/movielens/)) to understand the basic demographic distribution before we run experiments."
   ]
  },
  {
   "cell_type": "markdown",
   "metadata": {},
   "source": [
    "## Setup\n",
    "\n",
    "First, we want to load some libraries."
   ]
  },
  {
   "cell_type": "code",
   "execution_count": 1,
   "metadata": {
    "collapsed": false
   },
   "outputs": [
    {
     "name": "stderr",
     "output_type": "stream",
     "text": [
      "\n",
      "Attaching package: 'dplyr'\n",
      "\n",
      "The following objects are masked from 'package:stats':\n",
      "\n",
      "    filter, lag\n",
      "\n",
      "The following objects are masked from 'package:base':\n",
      "\n",
      "    intersect, setdiff, setequal, union\n",
      "\n"
     ]
    }
   ],
   "source": [
    "library(dplyr)\n",
    "library(readr)\n",
    "library(ggplot2)"
   ]
  },
  {
   "cell_type": "code",
   "execution_count": 2,
   "metadata": {
    "collapsed": true
   },
   "outputs": [],
   "source": [
    "options(repr.plot.height=5)\n",
    "options(repr.matrix.max.rows=20)\n",
    "options(repr.matrix.max.columns=10)"
   ]
  },
  {
   "cell_type": "markdown",
   "metadata": {},
   "source": [
    "## Load Data\n",
    "\n",
    "We want to read the ML-1M ratings file:"
   ]
  },
  {
   "cell_type": "code",
   "execution_count": 3,
   "metadata": {
    "collapsed": false
   },
   "outputs": [],
   "source": [
    "ratings = read_delim(\"data/ml-1m/ratings.dat\", delim=\":\",\n",
    "                     col_names=c(\"user\", \"item\", \"rating\", \"timestamp\"),\n",
    "                     col_types=\"i_i_i_i\")"
   ]
  },
  {
   "cell_type": "code",
   "execution_count": 4,
   "metadata": {
    "collapsed": false
   },
   "outputs": [
    {
     "data": {
      "text/html": [
       "<table>\n",
       "<thead><tr><th scope=col>user</th><th scope=col>item</th><th scope=col>rating</th><th scope=col>timestamp</th></tr></thead>\n",
       "<tbody>\n",
       "\t<tr><td>1        </td><td>1193     </td><td>5        </td><td>978300760</td></tr>\n",
       "\t<tr><td>1        </td><td> 661     </td><td>3        </td><td>978302109</td></tr>\n",
       "\t<tr><td>1        </td><td> 914     </td><td>3        </td><td>978301968</td></tr>\n",
       "\t<tr><td>1        </td><td>3408     </td><td>4        </td><td>978300275</td></tr>\n",
       "\t<tr><td>1        </td><td>2355     </td><td>5        </td><td>978824291</td></tr>\n",
       "\t<tr><td>1        </td><td>1197     </td><td>3        </td><td>978302268</td></tr>\n",
       "\t<tr><td>1        </td><td>1287     </td><td>5        </td><td>978302039</td></tr>\n",
       "\t<tr><td>1        </td><td>2804     </td><td>5        </td><td>978300719</td></tr>\n",
       "\t<tr><td>1        </td><td> 594     </td><td>4        </td><td>978302268</td></tr>\n",
       "\t<tr><td>1        </td><td> 919     </td><td>4        </td><td>978301368</td></tr>\n",
       "\t<tr><td>...</td><td>...</td><td>...</td><td>...</td></tr>\n",
       "\t<tr><td>6040     </td><td>2022     </td><td>5        </td><td>956716207</td></tr>\n",
       "\t<tr><td>6040     </td><td>2028     </td><td>5        </td><td>956704519</td></tr>\n",
       "\t<tr><td>6040     </td><td>1080     </td><td>4        </td><td>957717322</td></tr>\n",
       "\t<tr><td>6040     </td><td>1089     </td><td>4        </td><td>956704996</td></tr>\n",
       "\t<tr><td>6040     </td><td>1090     </td><td>3        </td><td>956715518</td></tr>\n",
       "\t<tr><td>6040     </td><td>1091     </td><td>1        </td><td>956716541</td></tr>\n",
       "\t<tr><td>6040     </td><td>1094     </td><td>5        </td><td>956704887</td></tr>\n",
       "\t<tr><td>6040     </td><td> 562     </td><td>5        </td><td>956704746</td></tr>\n",
       "\t<tr><td>6040     </td><td>1096     </td><td>4        </td><td>956715648</td></tr>\n",
       "\t<tr><td>6040     </td><td>1097     </td><td>4        </td><td>956715569</td></tr>\n",
       "</tbody>\n",
       "</table>\n"
      ],
      "text/latex": [
       "\\begin{tabular}{r|llll}\n",
       " user & item & rating & timestamp\\\\\n",
       "\\hline\n",
       "\t 1         & 1193      & 5         & 978300760\\\\\n",
       "\t 1         &  661      & 3         & 978302109\\\\\n",
       "\t 1         &  914      & 3         & 978301968\\\\\n",
       "\t 1         & 3408      & 4         & 978300275\\\\\n",
       "\t 1         & 2355      & 5         & 978824291\\\\\n",
       "\t 1         & 1197      & 3         & 978302268\\\\\n",
       "\t 1         & 1287      & 5         & 978302039\\\\\n",
       "\t 1         & 2804      & 5         & 978300719\\\\\n",
       "\t 1         &  594      & 4         & 978302268\\\\\n",
       "\t 1         &  919      & 4         & 978301368\\\\\n",
       "\t ... & ... & ... & ...\\\\\n",
       "\t 6040      & 2022      & 5         & 956716207\\\\\n",
       "\t 6040      & 2028      & 5         & 956704519\\\\\n",
       "\t 6040      & 1080      & 4         & 957717322\\\\\n",
       "\t 6040      & 1089      & 4         & 956704996\\\\\n",
       "\t 6040      & 1090      & 3         & 956715518\\\\\n",
       "\t 6040      & 1091      & 1         & 956716541\\\\\n",
       "\t 6040      & 1094      & 5         & 956704887\\\\\n",
       "\t 6040      &  562      & 5         & 956704746\\\\\n",
       "\t 6040      & 1096      & 4         & 956715648\\\\\n",
       "\t 6040      & 1097      & 4         & 956715569\\\\\n",
       "\\end{tabular}\n"
      ],
      "text/markdown": [
       "\n",
       "user | item | rating | timestamp | \n",
       "|---|---|---|---|---|---|---|---|---|---|---|---|---|---|---|---|---|---|---|---|---|\n",
       "| 1         | 1193      | 5         | 978300760 | \n",
       "| 1         |  661      | 3         | 978302109 | \n",
       "| 1         |  914      | 3         | 978301968 | \n",
       "| 1         | 3408      | 4         | 978300275 | \n",
       "| 1         | 2355      | 5         | 978824291 | \n",
       "| 1         | 1197      | 3         | 978302268 | \n",
       "| 1         | 1287      | 5         | 978302039 | \n",
       "| 1         | 2804      | 5         | 978300719 | \n",
       "| 1         |  594      | 4         | 978302268 | \n",
       "| 1         |  919      | 4         | 978301368 | \n",
       "| ... | ... | ... | ... | \n",
       "| 6040      | 2022      | 5         | 956716207 | \n",
       "| 6040      | 2028      | 5         | 956704519 | \n",
       "| 6040      | 1080      | 4         | 957717322 | \n",
       "| 6040      | 1089      | 4         | 956704996 | \n",
       "| 6040      | 1090      | 3         | 956715518 | \n",
       "| 6040      | 1091      | 1         | 956716541 | \n",
       "| 6040      | 1094      | 5         | 956704887 | \n",
       "| 6040      |  562      | 5         | 956704746 | \n",
       "| 6040      | 1096      | 4         | 956715648 | \n",
       "| 6040      | 1097      | 4         | 956715569 | \n",
       "\n",
       "\n"
      ],
      "text/plain": [
       "        user item rating timestamp\n",
       "1       1    1193 5      978300760\n",
       "2       1     661 3      978302109\n",
       "3       1     914 3      978301968\n",
       "4       1    3408 4      978300275\n",
       "5       1    2355 5      978824291\n",
       "6       1    1197 3      978302268\n",
       "7       1    1287 5      978302039\n",
       "8       1    2804 5      978300719\n",
       "9       1     594 4      978302268\n",
       "10      1     919 4      978301368\n",
       "...     ...  ...  ...    ...      \n",
       "1000200 6040 2022 5      956716207\n",
       "1000201 6040 2028 5      956704519\n",
       "1000202 6040 1080 4      957717322\n",
       "1000203 6040 1089 4      956704996\n",
       "1000204 6040 1090 3      956715518\n",
       "1000205 6040 1091 1      956716541\n",
       "1000206 6040 1094 5      956704887\n",
       "1000207 6040  562 5      956704746\n",
       "1000208 6040 1096 4      956715648\n",
       "1000209 6040 1097 4      956715569"
      ]
     },
     "metadata": {},
     "output_type": "display_data"
    }
   ],
   "source": [
    "ratings"
   ]
  },
  {
   "cell_type": "code",
   "execution_count": 5,
   "metadata": {
    "collapsed": false
   },
   "outputs": [
    {
     "data": {
      "text/html": [
       "<table>\n",
       "<thead><tr><th scope=col>user</th><th scope=col>gender</th><th scope=col>age</th><th scope=col>occupation</th><th scope=col>zip</th></tr></thead>\n",
       "<tbody>\n",
       "\t<tr><td> 1   </td><td>F    </td><td>1    </td><td>10   </td><td>48067</td></tr>\n",
       "\t<tr><td> 2   </td><td>M    </td><td>56   </td><td>16   </td><td>70072</td></tr>\n",
       "\t<tr><td> 3   </td><td>M    </td><td>25   </td><td>15   </td><td>55117</td></tr>\n",
       "\t<tr><td> 4   </td><td>M    </td><td>45   </td><td>7    </td><td>02460</td></tr>\n",
       "\t<tr><td> 5   </td><td>M    </td><td>25   </td><td>20   </td><td>55455</td></tr>\n",
       "\t<tr><td> 6   </td><td>F    </td><td>50   </td><td>9    </td><td>55117</td></tr>\n",
       "\t<tr><td> 7   </td><td>M    </td><td>35   </td><td>1    </td><td>06810</td></tr>\n",
       "\t<tr><td> 8   </td><td>M    </td><td>25   </td><td>12   </td><td>11413</td></tr>\n",
       "\t<tr><td> 9   </td><td>M    </td><td>25   </td><td>17   </td><td>61614</td></tr>\n",
       "\t<tr><td>10   </td><td>F    </td><td>35   </td><td>1    </td><td>95370</td></tr>\n",
       "\t<tr><td>...</td><td>...</td><td>...</td><td>...</td><td>...</td></tr>\n",
       "\t<tr><td>6031 </td><td>F    </td><td>18   </td><td>0    </td><td>45123</td></tr>\n",
       "\t<tr><td>6032 </td><td>M    </td><td>45   </td><td>7    </td><td>55108</td></tr>\n",
       "\t<tr><td>6033 </td><td>M    </td><td>50   </td><td>13   </td><td>78232</td></tr>\n",
       "\t<tr><td>6034 </td><td>M    </td><td>25   </td><td>14   </td><td>94117</td></tr>\n",
       "\t<tr><td>6035 </td><td>F    </td><td>25   </td><td>1    </td><td>78734</td></tr>\n",
       "\t<tr><td>6036 </td><td>F    </td><td>25   </td><td>15   </td><td>32603</td></tr>\n",
       "\t<tr><td>6037 </td><td>F    </td><td>45   </td><td>1    </td><td>76006</td></tr>\n",
       "\t<tr><td>6038 </td><td>F    </td><td>56   </td><td>1    </td><td>14706</td></tr>\n",
       "\t<tr><td>6039 </td><td>F    </td><td>45   </td><td>0    </td><td>01060</td></tr>\n",
       "\t<tr><td>6040 </td><td>M    </td><td>25   </td><td>6    </td><td>11106</td></tr>\n",
       "</tbody>\n",
       "</table>\n"
      ],
      "text/latex": [
       "\\begin{tabular}{r|lllll}\n",
       " user & gender & age & occupation & zip\\\\\n",
       "\\hline\n",
       "\t  1    & F     & 1     & 10    & 48067\\\\\n",
       "\t  2    & M     & 56    & 16    & 70072\\\\\n",
       "\t  3    & M     & 25    & 15    & 55117\\\\\n",
       "\t  4    & M     & 45    & 7     & 02460\\\\\n",
       "\t  5    & M     & 25    & 20    & 55455\\\\\n",
       "\t  6    & F     & 50    & 9     & 55117\\\\\n",
       "\t  7    & M     & 35    & 1     & 06810\\\\\n",
       "\t  8    & M     & 25    & 12    & 11413\\\\\n",
       "\t  9    & M     & 25    & 17    & 61614\\\\\n",
       "\t 10    & F     & 35    & 1     & 95370\\\\\n",
       "\t ... & ... & ... & ... & ...\\\\\n",
       "\t 6031  & F     & 18    & 0     & 45123\\\\\n",
       "\t 6032  & M     & 45    & 7     & 55108\\\\\n",
       "\t 6033  & M     & 50    & 13    & 78232\\\\\n",
       "\t 6034  & M     & 25    & 14    & 94117\\\\\n",
       "\t 6035  & F     & 25    & 1     & 78734\\\\\n",
       "\t 6036  & F     & 25    & 15    & 32603\\\\\n",
       "\t 6037  & F     & 45    & 1     & 76006\\\\\n",
       "\t 6038  & F     & 56    & 1     & 14706\\\\\n",
       "\t 6039  & F     & 45    & 0     & 01060\\\\\n",
       "\t 6040  & M     & 25    & 6     & 11106\\\\\n",
       "\\end{tabular}\n"
      ],
      "text/markdown": [
       "\n",
       "user | gender | age | occupation | zip | \n",
       "|---|---|---|---|---|---|---|---|---|---|---|---|---|---|---|---|---|---|---|---|---|\n",
       "|  1    | F     | 1     | 10    | 48067 | \n",
       "|  2    | M     | 56    | 16    | 70072 | \n",
       "|  3    | M     | 25    | 15    | 55117 | \n",
       "|  4    | M     | 45    | 7     | 02460 | \n",
       "|  5    | M     | 25    | 20    | 55455 | \n",
       "|  6    | F     | 50    | 9     | 55117 | \n",
       "|  7    | M     | 35    | 1     | 06810 | \n",
       "|  8    | M     | 25    | 12    | 11413 | \n",
       "|  9    | M     | 25    | 17    | 61614 | \n",
       "| 10    | F     | 35    | 1     | 95370 | \n",
       "| ... | ... | ... | ... | ... | \n",
       "| 6031  | F     | 18    | 0     | 45123 | \n",
       "| 6032  | M     | 45    | 7     | 55108 | \n",
       "| 6033  | M     | 50    | 13    | 78232 | \n",
       "| 6034  | M     | 25    | 14    | 94117 | \n",
       "| 6035  | F     | 25    | 1     | 78734 | \n",
       "| 6036  | F     | 25    | 15    | 32603 | \n",
       "| 6037  | F     | 45    | 1     | 76006 | \n",
       "| 6038  | F     | 56    | 1     | 14706 | \n",
       "| 6039  | F     | 45    | 0     | 01060 | \n",
       "| 6040  | M     | 25    | 6     | 11106 | \n",
       "\n",
       "\n"
      ],
      "text/plain": [
       "     user gender age occupation zip  \n",
       "1     1   F      1   10         48067\n",
       "2     2   M      56  16         70072\n",
       "3     3   M      25  15         55117\n",
       "4     4   M      45  7          02460\n",
       "5     5   M      25  20         55455\n",
       "6     6   F      50  9          55117\n",
       "7     7   M      35  1          06810\n",
       "8     8   M      25  12         11413\n",
       "9     9   M      25  17         61614\n",
       "10   10   F      35  1          95370\n",
       "...  ...  ...    ... ...        ...  \n",
       "6031 6031 F      18  0          45123\n",
       "6032 6032 M      45  7          55108\n",
       "6033 6033 M      50  13         78232\n",
       "6034 6034 M      25  14         94117\n",
       "6035 6035 F      25  1          78734\n",
       "6036 6036 F      25  15         32603\n",
       "6037 6037 F      45  1          76006\n",
       "6038 6038 F      56  1          14706\n",
       "6039 6039 F      45  0          01060\n",
       "6040 6040 M      25  6          11106"
      ]
     },
     "metadata": {},
     "output_type": "display_data"
    }
   ],
   "source": [
    "users = read_delim(\"data/ml-1m/users.dat\", delim=\":\",\n",
    "                   col_names=c(\"user\", \"gender\", \"age\", \"occupation\", \"zip\"),\n",
    "                   col_types=\"i_c_c_c_c\") %>%\n",
    "    mutate(gender=as.factor(gender),\n",
    "           age=as.factor(age),\n",
    "           occupation=as.factor(occupation))\n",
    "users"
   ]
  },
  {
   "cell_type": "code",
   "execution_count": 6,
   "metadata": {
    "collapsed": true
   },
   "outputs": [],
   "source": [
    "item.stats = ratings %>%\n",
    "    group_by(item) %>%\n",
    "    summarize(RatingCount=n(),\n",
    "              MeanRating=mean(rating),\n",
    "              MinRating=min(rating),\n",
    "              MaxRating=max(rating)) %>%\n",
    "    mutate(PopRank=rank(-RatingCount))"
   ]
  },
  {
   "cell_type": "code",
   "execution_count": 7,
   "metadata": {
    "collapsed": false
   },
   "outputs": [
    {
     "data": {
      "text/html": [
       "<table>\n",
       "<thead><tr><th scope=col>item</th><th scope=col>RatingCount</th><th scope=col>MeanRating</th><th scope=col>MinRating</th><th scope=col>MaxRating</th><th scope=col>PopRank</th></tr></thead>\n",
       "<tbody>\n",
       "\t<tr><td> 1      </td><td>2077    </td><td>4.146846</td><td>1       </td><td>5       </td><td>  30.0  </td></tr>\n",
       "\t<tr><td> 2      </td><td> 701    </td><td>3.201141</td><td>1       </td><td>5       </td><td> 394.5  </td></tr>\n",
       "\t<tr><td> 3      </td><td> 478    </td><td>3.016736</td><td>1       </td><td>5       </td><td> 650.0  </td></tr>\n",
       "\t<tr><td> 4      </td><td> 170    </td><td>2.729412</td><td>1       </td><td>5       </td><td>1574.0  </td></tr>\n",
       "\t<tr><td> 5      </td><td> 296    </td><td>3.006757</td><td>1       </td><td>5       </td><td>1067.0  </td></tr>\n",
       "\t<tr><td> 6      </td><td> 940    </td><td>3.878723</td><td>1       </td><td>5       </td><td> 234.0  </td></tr>\n",
       "\t<tr><td> 7      </td><td> 458    </td><td>3.410480</td><td>1       </td><td>5       </td><td> 689.5  </td></tr>\n",
       "\t<tr><td> 8      </td><td>  68    </td><td>3.014706</td><td>1       </td><td>5       </td><td>2290.0  </td></tr>\n",
       "\t<tr><td> 9      </td><td> 102    </td><td>2.656863</td><td>1       </td><td>5       </td><td>1994.0  </td></tr>\n",
       "\t<tr><td>10      </td><td> 888    </td><td>3.540541</td><td>1       </td><td>5       </td><td> 260.0  </td></tr>\n",
       "\t<tr><td>...</td><td>...</td><td>...</td><td>...</td><td>...</td><td>...</td></tr>\n",
       "\t<tr><td>3943    </td><td> 96     </td><td>3.052083</td><td>1       </td><td>5       </td><td>2046.5  </td></tr>\n",
       "\t<tr><td>3944    </td><td>  9     </td><td>2.111111</td><td>1       </td><td>5       </td><td>3273.5  </td></tr>\n",
       "\t<tr><td>3945    </td><td> 43     </td><td>1.488372</td><td>1       </td><td>5       </td><td>2609.5  </td></tr>\n",
       "\t<tr><td>3946    </td><td>100     </td><td>2.260000</td><td>1       </td><td>5       </td><td>2013.0  </td></tr>\n",
       "\t<tr><td>3947    </td><td> 55     </td><td>3.472727</td><td>1       </td><td>5       </td><td>2434.5  </td></tr>\n",
       "\t<tr><td>3948    </td><td>862     </td><td>3.635731</td><td>1       </td><td>5       </td><td> 278.0  </td></tr>\n",
       "\t<tr><td>3949    </td><td>304     </td><td>4.115132</td><td>1       </td><td>5       </td><td>1037.5  </td></tr>\n",
       "\t<tr><td>3950    </td><td> 54     </td><td>3.666667</td><td>1       </td><td>5       </td><td>2449.5  </td></tr>\n",
       "\t<tr><td>3951    </td><td> 40     </td><td>3.900000</td><td>1       </td><td>5       </td><td>2663.5  </td></tr>\n",
       "\t<tr><td>3952    </td><td>388     </td><td>3.780928</td><td>1       </td><td>5       </td><td> 820.0  </td></tr>\n",
       "</tbody>\n",
       "</table>\n"
      ],
      "text/latex": [
       "\\begin{tabular}{r|llllll}\n",
       " item & RatingCount & MeanRating & MinRating & MaxRating & PopRank\\\\\n",
       "\\hline\n",
       "\t  1       & 2077     & 4.146846 & 1        & 5        &   30.0  \\\\\n",
       "\t  2       &  701     & 3.201141 & 1        & 5        &  394.5  \\\\\n",
       "\t  3       &  478     & 3.016736 & 1        & 5        &  650.0  \\\\\n",
       "\t  4       &  170     & 2.729412 & 1        & 5        & 1574.0  \\\\\n",
       "\t  5       &  296     & 3.006757 & 1        & 5        & 1067.0  \\\\\n",
       "\t  6       &  940     & 3.878723 & 1        & 5        &  234.0  \\\\\n",
       "\t  7       &  458     & 3.410480 & 1        & 5        &  689.5  \\\\\n",
       "\t  8       &   68     & 3.014706 & 1        & 5        & 2290.0  \\\\\n",
       "\t  9       &  102     & 2.656863 & 1        & 5        & 1994.0  \\\\\n",
       "\t 10       &  888     & 3.540541 & 1        & 5        &  260.0  \\\\\n",
       "\t ... & ... & ... & ... & ... & ...\\\\\n",
       "\t 3943     &  96      & 3.052083 & 1        & 5        & 2046.5  \\\\\n",
       "\t 3944     &   9      & 2.111111 & 1        & 5        & 3273.5  \\\\\n",
       "\t 3945     &  43      & 1.488372 & 1        & 5        & 2609.5  \\\\\n",
       "\t 3946     & 100      & 2.260000 & 1        & 5        & 2013.0  \\\\\n",
       "\t 3947     &  55      & 3.472727 & 1        & 5        & 2434.5  \\\\\n",
       "\t 3948     & 862      & 3.635731 & 1        & 5        &  278.0  \\\\\n",
       "\t 3949     & 304      & 4.115132 & 1        & 5        & 1037.5  \\\\\n",
       "\t 3950     &  54      & 3.666667 & 1        & 5        & 2449.5  \\\\\n",
       "\t 3951     &  40      & 3.900000 & 1        & 5        & 2663.5  \\\\\n",
       "\t 3952     & 388      & 3.780928 & 1        & 5        &  820.0  \\\\\n",
       "\\end{tabular}\n"
      ],
      "text/markdown": [
       "\n",
       "item | RatingCount | MeanRating | MinRating | MaxRating | PopRank | \n",
       "|---|---|---|---|---|---|---|---|---|---|---|---|---|---|---|---|---|---|---|---|---|\n",
       "|  1       | 2077     | 4.146846 | 1        | 5        |   30.0   | \n",
       "|  2       |  701     | 3.201141 | 1        | 5        |  394.5   | \n",
       "|  3       |  478     | 3.016736 | 1        | 5        |  650.0   | \n",
       "|  4       |  170     | 2.729412 | 1        | 5        | 1574.0   | \n",
       "|  5       |  296     | 3.006757 | 1        | 5        | 1067.0   | \n",
       "|  6       |  940     | 3.878723 | 1        | 5        |  234.0   | \n",
       "|  7       |  458     | 3.410480 | 1        | 5        |  689.5   | \n",
       "|  8       |   68     | 3.014706 | 1        | 5        | 2290.0   | \n",
       "|  9       |  102     | 2.656863 | 1        | 5        | 1994.0   | \n",
       "| 10       |  888     | 3.540541 | 1        | 5        |  260.0   | \n",
       "| ... | ... | ... | ... | ... | ... | \n",
       "| 3943     |  96      | 3.052083 | 1        | 5        | 2046.5   | \n",
       "| 3944     |   9      | 2.111111 | 1        | 5        | 3273.5   | \n",
       "| 3945     |  43      | 1.488372 | 1        | 5        | 2609.5   | \n",
       "| 3946     | 100      | 2.260000 | 1        | 5        | 2013.0   | \n",
       "| 3947     |  55      | 3.472727 | 1        | 5        | 2434.5   | \n",
       "| 3948     | 862      | 3.635731 | 1        | 5        |  278.0   | \n",
       "| 3949     | 304      | 4.115132 | 1        | 5        | 1037.5   | \n",
       "| 3950     |  54      | 3.666667 | 1        | 5        | 2449.5   | \n",
       "| 3951     |  40      | 3.900000 | 1        | 5        | 2663.5   | \n",
       "| 3952     | 388      | 3.780928 | 1        | 5        |  820.0   | \n",
       "\n",
       "\n"
      ],
      "text/plain": [
       "     item RatingCount MeanRating MinRating MaxRating PopRank\n",
       "1     1   2077        4.146846   1         5           30.0 \n",
       "2     2    701        3.201141   1         5          394.5 \n",
       "3     3    478        3.016736   1         5          650.0 \n",
       "4     4    170        2.729412   1         5         1574.0 \n",
       "5     5    296        3.006757   1         5         1067.0 \n",
       "6     6    940        3.878723   1         5          234.0 \n",
       "7     7    458        3.410480   1         5          689.5 \n",
       "8     8     68        3.014706   1         5         2290.0 \n",
       "9     9    102        2.656863   1         5         1994.0 \n",
       "10   10    888        3.540541   1         5          260.0 \n",
       "...  ...  ...         ...        ...       ...       ...    \n",
       "3697 3943  96         3.052083   1         5         2046.5 \n",
       "3698 3944   9         2.111111   1         5         3273.5 \n",
       "3699 3945  43         1.488372   1         5         2609.5 \n",
       "3700 3946 100         2.260000   1         5         2013.0 \n",
       "3701 3947  55         3.472727   1         5         2434.5 \n",
       "3702 3948 862         3.635731   1         5          278.0 \n",
       "3703 3949 304         4.115132   1         5         1037.5 \n",
       "3704 3950  54         3.666667   1         5         2449.5 \n",
       "3705 3951  40         3.900000   1         5         2663.5 \n",
       "3706 3952 388         3.780928   1         5          820.0 "
      ]
     },
     "metadata": {},
     "output_type": "display_data"
    }
   ],
   "source": [
    "item.stats"
   ]
  },
  {
   "cell_type": "code",
   "execution_count": 8,
   "metadata": {
    "collapsed": false
   },
   "outputs": [
    {
     "name": "stderr",
     "output_type": "stream",
     "text": [
      "Joining, by = \"item\"\n",
      "Joining, by = \"user\"\n"
     ]
    }
   ],
   "source": [
    "user.stats = ratings %>%\n",
    "    inner_join(item.stats %>% select(item, RatingCount, PopRank)) %>%\n",
    "    group_by(user) %>%\n",
    "    summarize(RatingCount=n(),\n",
    "              MeanRating=mean(rating),\n",
    "              MinRating=min(rating),\n",
    "              MaxRating=max(rating),\n",
    "              MeanPopRank=mean(PopRank),\n",
    "              MedRatingCount=median(RatingCount),\n",
    "              AccountLifetime=max(timestamp) - min(timestamp)) %>%\n",
    "    inner_join(users)"
   ]
  },
  {
   "cell_type": "code",
   "execution_count": 9,
   "metadata": {
    "collapsed": false
   },
   "outputs": [
    {
     "data": {
      "text/html": [
       "<table>\n",
       "<thead><tr><th scope=col>user</th><th scope=col>RatingCount</th><th scope=col>MeanRating</th><th scope=col>MinRating</th><th scope=col>MaxRating</th><th scope=col>MeanPopRank</th><th scope=col>MedRatingCount</th><th scope=col>AccountLifetime</th><th scope=col>gender</th><th scope=col>age</th><th scope=col>occupation</th><th scope=col>zip</th></tr></thead>\n",
       "<tbody>\n",
       "\t<tr><td> 1      </td><td> 53     </td><td>4.188679</td><td>3       </td><td>5       </td><td>397.9811</td><td> 53     </td><td> 524332 </td><td>F       </td><td>1       </td><td>10      </td><td>48067   </td></tr>\n",
       "\t<tr><td> 2      </td><td>129     </td><td>3.713178</td><td>1       </td><td>5       </td><td>454.5698</td><td>129     </td><td>   2050 </td><td>M       </td><td>56      </td><td>16      </td><td>70072   </td></tr>\n",
       "\t<tr><td> 3      </td><td> 51     </td><td>3.901961</td><td>1       </td><td>5       </td><td>289.4706</td><td> 51     </td><td>   1486 </td><td>M       </td><td>25      </td><td>15      </td><td>55117   </td></tr>\n",
       "\t<tr><td> 4      </td><td> 21     </td><td>4.190476</td><td>1       </td><td>5       </td><td>148.5476</td><td> 21     </td><td>    358 </td><td>M       </td><td>45      </td><td>7       </td><td>02460   </td></tr>\n",
       "\t<tr><td> 5      </td><td>198     </td><td>3.146465</td><td>1       </td><td>5       </td><td>832.9268</td><td>198     </td><td>   5513 </td><td>M       </td><td>25      </td><td>20      </td><td>55455   </td></tr>\n",
       "\t<tr><td> 6      </td><td> 71     </td><td>3.901408</td><td>1       </td><td>5       </td><td>626.2958</td><td> 71     </td><td>   2944 </td><td>F       </td><td>50      </td><td>9       </td><td>55117   </td></tr>\n",
       "\t<tr><td> 7      </td><td> 31     </td><td>4.322581</td><td>3       </td><td>5       </td><td>140.9516</td><td> 31     </td><td>    317 </td><td>M       </td><td>35      </td><td>1       </td><td>06810   </td></tr>\n",
       "\t<tr><td> 8      </td><td>139     </td><td>3.884892</td><td>2       </td><td>5       </td><td>658.2374</td><td>139     </td><td>  18354 </td><td>M       </td><td>25      </td><td>12      </td><td>11413   </td></tr>\n",
       "\t<tr><td> 9      </td><td>106     </td><td>3.735849</td><td>2       </td><td>5       </td><td>356.9528</td><td>106     </td><td>   1819 </td><td>M       </td><td>25      </td><td>17      </td><td>61614   </td></tr>\n",
       "\t<tr><td>10      </td><td>401     </td><td>4.114713</td><td>2       </td><td>5       </td><td>589.1633</td><td>401     </td><td>2414313 </td><td>F       </td><td>35      </td><td>1       </td><td>95370   </td></tr>\n",
       "\t<tr><td>...</td><td>...</td><td>...</td><td>...</td><td>...</td><td>...</td><td>...</td><td>...</td><td>...</td><td>...</td><td>...</td><td>...</td></tr>\n",
       "\t<tr><td>6031    </td><td> 51     </td><td>3.666667</td><td>1       </td><td>5       </td><td>553.0588</td><td> 51     </td><td>    1485</td><td>F       </td><td>18      </td><td>0       </td><td>45123   </td></tr>\n",
       "\t<tr><td>6032    </td><td>104     </td><td>4.134615</td><td>1       </td><td>5       </td><td>564.1731</td><td>104     </td><td>    2338</td><td>M       </td><td>45      </td><td>7       </td><td>55108   </td></tr>\n",
       "\t<tr><td>6033    </td><td> 60     </td><td>3.850000</td><td>1       </td><td>5       </td><td>314.3417</td><td> 60     </td><td>     629</td><td>M       </td><td>50      </td><td>13      </td><td>78232   </td></tr>\n",
       "\t<tr><td>6034    </td><td> 21     </td><td>4.095238</td><td>2       </td><td>5       </td><td>787.2619</td><td> 21     </td><td>     617</td><td>M       </td><td>25      </td><td>14      </td><td>94117   </td></tr>\n",
       "\t<tr><td>6035    </td><td>280     </td><td>2.610714</td><td>1       </td><td>5       </td><td>794.7625</td><td>280     </td><td>    2794</td><td>F       </td><td>25      </td><td>1       </td><td>78734   </td></tr>\n",
       "\t<tr><td>6036    </td><td>888     </td><td>3.302928</td><td>1       </td><td>5       </td><td>954.6430</td><td>888     </td><td>   45847</td><td>F       </td><td>25      </td><td>15      </td><td>32603   </td></tr>\n",
       "\t<tr><td>6037    </td><td>202     </td><td>3.717822</td><td>1       </td><td>5       </td><td>561.6485</td><td>202     </td><td>   92843</td><td>F       </td><td>45      </td><td>1       </td><td>76006   </td></tr>\n",
       "\t<tr><td>6038    </td><td> 20     </td><td>3.800000</td><td>1       </td><td>5       </td><td>482.4250</td><td> 20     </td><td>   10377</td><td>F       </td><td>56      </td><td>1       </td><td>14706   </td></tr>\n",
       "\t<tr><td>6039    </td><td>123     </td><td>3.878049</td><td>2       </td><td>5       </td><td>701.7967</td><td>123     </td><td>   52871</td><td>F       </td><td>45      </td><td>0       </td><td>01060   </td></tr>\n",
       "\t<tr><td>6040    </td><td>341     </td><td>3.577713</td><td>1       </td><td>5       </td><td>719.8065</td><td>341     </td><td>41611123</td><td>M       </td><td>25      </td><td>6       </td><td>11106   </td></tr>\n",
       "</tbody>\n",
       "</table>\n"
      ],
      "text/latex": [
       "\\begin{tabular}{r|llllllllllll}\n",
       " user & RatingCount & MeanRating & MinRating & MaxRating & MeanPopRank & MedRatingCount & AccountLifetime & gender & age & occupation & zip\\\\\n",
       "\\hline\n",
       "\t  1       &  53      & 4.188679 & 3        & 5        & 397.9811 &  53      &  524332  & F        & 1        & 10       & 48067   \\\\\n",
       "\t  2       & 129      & 3.713178 & 1        & 5        & 454.5698 & 129      &    2050  & M        & 56       & 16       & 70072   \\\\\n",
       "\t  3       &  51      & 3.901961 & 1        & 5        & 289.4706 &  51      &    1486  & M        & 25       & 15       & 55117   \\\\\n",
       "\t  4       &  21      & 4.190476 & 1        & 5        & 148.5476 &  21      &     358  & M        & 45       & 7        & 02460   \\\\\n",
       "\t  5       & 198      & 3.146465 & 1        & 5        & 832.9268 & 198      &    5513  & M        & 25       & 20       & 55455   \\\\\n",
       "\t  6       &  71      & 3.901408 & 1        & 5        & 626.2958 &  71      &    2944  & F        & 50       & 9        & 55117   \\\\\n",
       "\t  7       &  31      & 4.322581 & 3        & 5        & 140.9516 &  31      &     317  & M        & 35       & 1        & 06810   \\\\\n",
       "\t  8       & 139      & 3.884892 & 2        & 5        & 658.2374 & 139      &   18354  & M        & 25       & 12       & 11413   \\\\\n",
       "\t  9       & 106      & 3.735849 & 2        & 5        & 356.9528 & 106      &    1819  & M        & 25       & 17       & 61614   \\\\\n",
       "\t 10       & 401      & 4.114713 & 2        & 5        & 589.1633 & 401      & 2414313  & F        & 35       & 1        & 95370   \\\\\n",
       "\t ... & ... & ... & ... & ... & ... & ... & ... & ... & ... & ... & ...\\\\\n",
       "\t 6031     &  51      & 3.666667 & 1        & 5        & 553.0588 &  51      &     1485 & F        & 18       & 0        & 45123   \\\\\n",
       "\t 6032     & 104      & 4.134615 & 1        & 5        & 564.1731 & 104      &     2338 & M        & 45       & 7        & 55108   \\\\\n",
       "\t 6033     &  60      & 3.850000 & 1        & 5        & 314.3417 &  60      &      629 & M        & 50       & 13       & 78232   \\\\\n",
       "\t 6034     &  21      & 4.095238 & 2        & 5        & 787.2619 &  21      &      617 & M        & 25       & 14       & 94117   \\\\\n",
       "\t 6035     & 280      & 2.610714 & 1        & 5        & 794.7625 & 280      &     2794 & F        & 25       & 1        & 78734   \\\\\n",
       "\t 6036     & 888      & 3.302928 & 1        & 5        & 954.6430 & 888      &    45847 & F        & 25       & 15       & 32603   \\\\\n",
       "\t 6037     & 202      & 3.717822 & 1        & 5        & 561.6485 & 202      &    92843 & F        & 45       & 1        & 76006   \\\\\n",
       "\t 6038     &  20      & 3.800000 & 1        & 5        & 482.4250 &  20      &    10377 & F        & 56       & 1        & 14706   \\\\\n",
       "\t 6039     & 123      & 3.878049 & 2        & 5        & 701.7967 & 123      &    52871 & F        & 45       & 0        & 01060   \\\\\n",
       "\t 6040     & 341      & 3.577713 & 1        & 5        & 719.8065 & 341      & 41611123 & M        & 25       & 6        & 11106   \\\\\n",
       "\\end{tabular}\n"
      ],
      "text/markdown": [
       "\n",
       "user | RatingCount | MeanRating | MinRating | MaxRating | MeanPopRank | MedRatingCount | AccountLifetime | gender | age | occupation | zip | \n",
       "|---|---|---|---|---|---|---|---|---|---|---|---|---|---|---|---|---|---|---|---|---|\n",
       "|  1       |  53      | 4.188679 | 3        | 5        | 397.9811 |  53      |  524332  | F        | 1        | 10       | 48067    | \n",
       "|  2       | 129      | 3.713178 | 1        | 5        | 454.5698 | 129      |    2050  | M        | 56       | 16       | 70072    | \n",
       "|  3       |  51      | 3.901961 | 1        | 5        | 289.4706 |  51      |    1486  | M        | 25       | 15       | 55117    | \n",
       "|  4       |  21      | 4.190476 | 1        | 5        | 148.5476 |  21      |     358  | M        | 45       | 7        | 02460    | \n",
       "|  5       | 198      | 3.146465 | 1        | 5        | 832.9268 | 198      |    5513  | M        | 25       | 20       | 55455    | \n",
       "|  6       |  71      | 3.901408 | 1        | 5        | 626.2958 |  71      |    2944  | F        | 50       | 9        | 55117    | \n",
       "|  7       |  31      | 4.322581 | 3        | 5        | 140.9516 |  31      |     317  | M        | 35       | 1        | 06810    | \n",
       "|  8       | 139      | 3.884892 | 2        | 5        | 658.2374 | 139      |   18354  | M        | 25       | 12       | 11413    | \n",
       "|  9       | 106      | 3.735849 | 2        | 5        | 356.9528 | 106      |    1819  | M        | 25       | 17       | 61614    | \n",
       "| 10       | 401      | 4.114713 | 2        | 5        | 589.1633 | 401      | 2414313  | F        | 35       | 1        | 95370    | \n",
       "| ... | ... | ... | ... | ... | ... | ... | ... | ... | ... | ... | ... | \n",
       "| 6031     |  51      | 3.666667 | 1        | 5        | 553.0588 |  51      |     1485 | F        | 18       | 0        | 45123    | \n",
       "| 6032     | 104      | 4.134615 | 1        | 5        | 564.1731 | 104      |     2338 | M        | 45       | 7        | 55108    | \n",
       "| 6033     |  60      | 3.850000 | 1        | 5        | 314.3417 |  60      |      629 | M        | 50       | 13       | 78232    | \n",
       "| 6034     |  21      | 4.095238 | 2        | 5        | 787.2619 |  21      |      617 | M        | 25       | 14       | 94117    | \n",
       "| 6035     | 280      | 2.610714 | 1        | 5        | 794.7625 | 280      |     2794 | F        | 25       | 1        | 78734    | \n",
       "| 6036     | 888      | 3.302928 | 1        | 5        | 954.6430 | 888      |    45847 | F        | 25       | 15       | 32603    | \n",
       "| 6037     | 202      | 3.717822 | 1        | 5        | 561.6485 | 202      |    92843 | F        | 45       | 1        | 76006    | \n",
       "| 6038     |  20      | 3.800000 | 1        | 5        | 482.4250 |  20      |    10377 | F        | 56       | 1        | 14706    | \n",
       "| 6039     | 123      | 3.878049 | 2        | 5        | 701.7967 | 123      |    52871 | F        | 45       | 0        | 01060    | \n",
       "| 6040     | 341      | 3.577713 | 1        | 5        | 719.8065 | 341      | 41611123 | M        | 25       | 6        | 11106    | \n",
       "\n",
       "\n"
      ],
      "text/plain": [
       "     user RatingCount MeanRating MinRating MaxRating MeanPopRank MedRatingCount\n",
       "1     1    53         4.188679   3         5         397.9811     53           \n",
       "2     2   129         3.713178   1         5         454.5698    129           \n",
       "3     3    51         3.901961   1         5         289.4706     51           \n",
       "4     4    21         4.190476   1         5         148.5476     21           \n",
       "5     5   198         3.146465   1         5         832.9268    198           \n",
       "6     6    71         3.901408   1         5         626.2958     71           \n",
       "7     7    31         4.322581   3         5         140.9516     31           \n",
       "8     8   139         3.884892   2         5         658.2374    139           \n",
       "9     9   106         3.735849   2         5         356.9528    106           \n",
       "10   10   401         4.114713   2         5         589.1633    401           \n",
       "...  ...  ...         ...        ...       ...       ...         ...           \n",
       "6031 6031  51         3.666667   1         5         553.0588     51           \n",
       "6032 6032 104         4.134615   1         5         564.1731    104           \n",
       "6033 6033  60         3.850000   1         5         314.3417     60           \n",
       "6034 6034  21         4.095238   2         5         787.2619     21           \n",
       "6035 6035 280         2.610714   1         5         794.7625    280           \n",
       "6036 6036 888         3.302928   1         5         954.6430    888           \n",
       "6037 6037 202         3.717822   1         5         561.6485    202           \n",
       "6038 6038  20         3.800000   1         5         482.4250     20           \n",
       "6039 6039 123         3.878049   2         5         701.7967    123           \n",
       "6040 6040 341         3.577713   1         5         719.8065    341           \n",
       "     AccountLifetime gender age occupation zip  \n",
       "1     524332         F      1   10         48067\n",
       "2       2050         M      56  16         70072\n",
       "3       1486         M      25  15         55117\n",
       "4        358         M      45  7          02460\n",
       "5       5513         M      25  20         55455\n",
       "6       2944         F      50  9          55117\n",
       "7        317         M      35  1          06810\n",
       "8      18354         M      25  12         11413\n",
       "9       1819         M      25  17         61614\n",
       "10   2414313         F      35  1          95370\n",
       "...  ...             ...    ... ...        ...  \n",
       "6031     1485        F      18  0          45123\n",
       "6032     2338        M      45  7          55108\n",
       "6033      629        M      50  13         78232\n",
       "6034      617        M      25  14         94117\n",
       "6035     2794        F      25  1          78734\n",
       "6036    45847        F      25  15         32603\n",
       "6037    92843        F      45  1          76006\n",
       "6038    10377        F      56  1          14706\n",
       "6039    52871        F      45  0          01060\n",
       "6040 41611123        M      25  6          11106"
      ]
     },
     "metadata": {},
     "output_type": "display_data"
    }
   ],
   "source": [
    "user.stats"
   ]
  },
  {
   "cell_type": "markdown",
   "metadata": {},
   "source": [
    "## Basic Stats\n",
    "\n",
    "How much data do we have?"
   ]
  },
  {
   "cell_type": "code",
   "execution_count": 10,
   "metadata": {
    "collapsed": false
   },
   "outputs": [
    {
     "data": {
      "text/html": [
       "<table>\n",
       "<thead><tr><th scope=col>Users</th><th scope=col>Items</th><th scope=col>Ratings</th><th scope=col>Density</th></tr></thead>\n",
       "<tbody>\n",
       "\t<tr><td>6040      </td><td>3706      </td><td>1000209   </td><td>0.04468363</td></tr>\n",
       "</tbody>\n",
       "</table>\n"
      ],
      "text/latex": [
       "\\begin{tabular}{r|llll}\n",
       " Users & Items & Ratings & Density\\\\\n",
       "\\hline\n",
       "\t 6040       & 3706       & 1000209    & 0.04468363\\\\\n",
       "\\end{tabular}\n"
      ],
      "text/markdown": [
       "\n",
       "Users | Items | Ratings | Density | \n",
       "|---|\n",
       "| 6040       | 3706       | 1000209    | 0.04468363 | \n",
       "\n",
       "\n"
      ],
      "text/plain": [
       "  Users Items Ratings Density   \n",
       "1 6040  3706  1000209 0.04468363"
      ]
     },
     "metadata": {},
     "output_type": "display_data"
    }
   ],
   "source": [
    "data.frame(Users=nrow(user.stats),\n",
    "           Items=nrow(item.stats),\n",
    "           Ratings=nrow(ratings)) %>%\n",
    "    mutate(Density=Ratings / (Users * Items))"
   ]
  },
  {
   "cell_type": "markdown",
   "metadata": {},
   "source": [
    "Start looking at demographic splits:"
   ]
  },
  {
   "cell_type": "code",
   "execution_count": null,
   "metadata": {
    "collapsed": false
   },
   "outputs": [],
   "source": [
    "ggplot(users) +\n",
    "    aes(x=gender,fill=dataset) +\n",
    "    geom_bar()"
   ]
  },
  {
   "cell_type": "code",
   "execution_count": 12,
   "metadata": {
    "collapsed": false
   },
   "outputs": [
    {
     "data": {},
     "metadata": {},
     "output_type": "display_data"
    },
    {
     "data": {
      "image/png": "[encoded data removed]",
      "text/plain": [
       "plot without title"
      ]
     },
     "metadata": {},
     "output_type": "display_data"
    }
   ],
   "source": [
    "ggplot(users) +\n",
    "    aes(x=age) +\n",
    "    geom_bar()"
   ]
  },
  {
   "cell_type": "markdown",
   "metadata": {},
   "source": [
    "What are the statistics of users per zip code?"
   ]
  },
  {
   "cell_type": "code",
   "execution_count": 13,
   "metadata": {
    "collapsed": false
   },
   "outputs": [
    {
     "data": {
      "text/plain": [
       "   Min. 1st Qu.  Median    Mean 3rd Qu.    Max. \n",
       "  1.000   1.000   1.000   1.756   2.000  19.000 "
      ]
     },
     "metadata": {},
     "output_type": "display_data"
    }
   ],
   "source": [
    "zips = users %>%\n",
    "    group_by(zip) %>%\n",
    "    summarize(nusers=n())\n",
    "summary(zips$nusers)"
   ]
  },
  {
   "cell_type": "code",
   "execution_count": 14,
   "metadata": {
    "collapsed": false
   },
   "outputs": [
    {
     "data": {},
     "metadata": {},
     "output_type": "display_data"
    },
    {
     "data": {
      "image/png": "[encoded data removed]",
      "text/plain": [
       "plot without title"
      ]
     },
     "metadata": {},
     "output_type": "display_data"
    }
   ],
   "source": [
    "ggplot(zips) +\n",
    "    aes(x=nusers) +\n",
    "    geom_histogram(binwidth=1)"
   ]
  },
  {
   "cell_type": "markdown",
   "metadata": {},
   "source": [
    "Per region?"
   ]
  },
  {
   "cell_type": "code",
   "execution_count": 15,
   "metadata": {
    "collapsed": false
   },
   "outputs": [
    {
     "data": {
      "text/plain": [
       "   Min. 1st Qu.  Median    Mean 3rd Qu.    Max. \n",
       "  1.000   2.000   4.000   8.909   9.000 172.000 "
      ]
     },
     "metadata": {},
     "output_type": "display_data"
    }
   ],
   "source": [
    "regions = users %>%\n",
    "    mutate(region=substr(zip, 1, 3)) %>%\n",
    "    group_by(region) %>%\n",
    "    summarize(nusers=n())\n",
    "summary(regions$nusers)"
   ]
  },
  {
   "cell_type": "code",
   "execution_count": 16,
   "metadata": {
    "collapsed": false
   },
   "outputs": [
    {
     "data": {},
     "metadata": {},
     "output_type": "display_data"
    },
    {
     "data": {
      "image/png": "[encoded data removed]",
      "text/plain": [
       "plot without title"
      ]
     },
     "metadata": {},
     "output_type": "display_data"
    }
   ],
   "source": [
    "ggplot(regions) +\n",
    "    aes(x=nusers) +\n",
    "    geom_histogram(binwidth=5)"
   ]
  },
  {
   "cell_type": "markdown",
   "metadata": {},
   "source": [
    "## Per-demographic rating statistics"
   ]
  },
  {
   "cell_type": "markdown",
   "metadata": {},
   "source": [
    "Do different groups have more ratings?"
   ]
  },
  {
   "cell_type": "markdown",
   "metadata": {},
   "source": [
    "### Gender"
   ]
  },
  {
   "cell_type": "code",
   "execution_count": 17,
   "metadata": {
    "collapsed": false
   },
   "outputs": [
    {
     "data": {
      "text/html": [
       "<table>\n",
       "<thead><tr><th scope=col>gender</th><th scope=col>NUsers</th><th scope=col>MeanRatingCount</th><th scope=col>RCErr</th><th scope=col>MeanAvgRating</th><th scope=col>AvgRatingErr</th><th scope=col>MeanPop</th></tr></thead>\n",
       "<tbody>\n",
       "\t<tr><td>F         </td><td>1709      </td><td>144.2013  </td><td>4.088308  </td><td>3.729465  </td><td>0.01000872</td><td>616.8265  </td></tr>\n",
       "\t<tr><td>M         </td><td>4331      </td><td>174.0404  </td><td>3.050227  </td><td>3.692145  </td><td>0.00661471</td><td>565.9058  </td></tr>\n",
       "</tbody>\n",
       "</table>\n"
      ],
      "text/latex": [
       "\\begin{tabular}{r|lllllll}\n",
       " gender & NUsers & MeanRatingCount & RCErr & MeanAvgRating & AvgRatingErr & MeanPop\\\\\n",
       "\\hline\n",
       "\t F          & 1709       & 144.2013   & 4.088308   & 3.729465   & 0.01000872 & 616.8265  \\\\\n",
       "\t M          & 4331       & 174.0404   & 3.050227   & 3.692145   & 0.00661471 & 565.9058  \\\\\n",
       "\\end{tabular}\n"
      ],
      "text/markdown": [
       "\n",
       "gender | NUsers | MeanRatingCount | RCErr | MeanAvgRating | AvgRatingErr | MeanPop | \n",
       "|---|---|\n",
       "| F          | 1709       | 144.2013   | 4.088308   | 3.729465   | 0.01000872 | 616.8265   | \n",
       "| M          | 4331       | 174.0404   | 3.050227   | 3.692145   | 0.00661471 | 565.9058   | \n",
       "\n",
       "\n"
      ],
      "text/plain": [
       "  gender NUsers MeanRatingCount RCErr    MeanAvgRating AvgRatingErr MeanPop \n",
       "1 F      1709   144.2013        4.088308 3.729465      0.01000872   616.8265\n",
       "2 M      4331   174.0404        3.050227 3.692145      0.00661471   565.9058"
      ]
     },
     "metadata": {},
     "output_type": "display_data"
    }
   ],
   "source": [
    "gender.stats = user.stats %>%\n",
    "    group_by(gender) %>%\n",
    "    summarize(NUsers=n(),\n",
    "              MeanRatingCount=mean(RatingCount),\n",
    "              RCErr=sd(RatingCount) / sqrt(n()),\n",
    "              MeanAvgRating=mean(MeanRating),\n",
    "              AvgRatingErr=sd(MeanRating) / sqrt(n()),\n",
    "              MeanPop=mean(MeanPopRank))\n",
    "gender.stats"
   ]
  },
  {
   "cell_type": "code",
   "execution_count": 18,
   "metadata": {
    "collapsed": false
   },
   "outputs": [
    {
     "data": {},
     "metadata": {},
     "output_type": "display_data"
    },
    {
     "data": {
      "image/png": "[encoded data removed]",
      "text/plain": [
       "plot without title"
      ]
     },
     "metadata": {},
     "output_type": "display_data"
    }
   ],
   "source": [
    "ggplot(gender.stats) +\n",
    "    aes(x=gender, y=MeanRatingCount, \n",
    "        ymin=MeanRatingCount-RCErr,\n",
    "        ymax=MeanRatingCount+RCErr) +\n",
    "    geom_bar(stat=\"identity\") + geom_errorbar(width=0.2)"
   ]
  },
  {
   "cell_type": "code",
   "execution_count": 19,
   "metadata": {
    "collapsed": false
   },
   "outputs": [
    {
     "data": {},
     "metadata": {},
     "output_type": "display_data"
    },
    {
     "data": {
      "image/png": "[encoded data removed]",
      "text/plain": [
       "plot without title"
      ]
     },
     "metadata": {},
     "output_type": "display_data"
    }
   ],
   "source": [
    "ggplot(gender.stats) +\n",
    "    aes(x=gender, y=MeanAvgRating, \n",
    "        ymin=MeanAvgRating-AvgRatingErr,\n",
    "        ymax=MeanAvgRating+AvgRatingErr) +\n",
    "    geom_bar(stat=\"identity\") + geom_errorbar(width=0.2)"
   ]
  },
  {
   "cell_type": "markdown",
   "metadata": {},
   "source": [
    "Now, let's examine popularity preference."
   ]
  },
  {
   "cell_type": "code",
   "execution_count": 20,
   "metadata": {
    "collapsed": false
   },
   "outputs": [
    {
     "data": {},
     "metadata": {},
     "output_type": "display_data"
    },
    {
     "data": {
      "image/png": "[encoded data removed]",
      "text/plain": [
       "plot without title"
      ]
     },
     "metadata": {},
     "output_type": "display_data"
    }
   ],
   "source": [
    "ggplot(gender.stats) +\n",
    "    aes(x=gender, y=MeanPop) +\n",
    "    geom_bar(stat=\"identity\") +\n",
    "    ylab(\"Mean Average Popularity (lower is more popular)\") +\n",
    "    ggtitle(\"Popularity Preference by Gender\")"
   ]
  },
  {
   "cell_type": "markdown",
   "metadata": {},
   "source": [
    "Male users - of which there are considerably more - tend to rate more popular movies. This is expected - the dominant group's movies will, by nature, be more popular - but it does document that demographics and popularity will confound."
   ]
  },
  {
   "cell_type": "markdown",
   "metadata": {},
   "source": [
    "### Age"
   ]
  },
  {
   "cell_type": "code",
   "execution_count": 21,
   "metadata": {
    "collapsed": false
   },
   "outputs": [
    {
     "data": {
      "text/html": [
       "<table>\n",
       "<thead><tr><th scope=col>age</th><th scope=col>NUsers</th><th scope=col>MeanRatingCount</th><th scope=col>RCErr</th><th scope=col>MeanAvgRating</th><th scope=col>AvgRatingErr</th><th scope=col>MeanPop</th></tr></thead>\n",
       "<tbody>\n",
       "\t<tr><td>1          </td><td> 222       </td><td>122.5721   </td><td>9.222686   </td><td>3.621055   </td><td>0.031579911</td><td>646.8739   </td></tr>\n",
       "\t<tr><td>18         </td><td>1103       </td><td>166.3971   </td><td>5.523255   </td><td>3.620671   </td><td>0.013457093</td><td>554.2323   </td></tr>\n",
       "\t<tr><td>25         </td><td>2096       </td><td>188.7195   </td><td>4.549564   </td><td>3.667680   </td><td>0.009041619</td><td>551.3487   </td></tr>\n",
       "\t<tr><td>35         </td><td>1193       </td><td>166.8089   </td><td>5.748490   </td><td>3.743372   </td><td>0.011960702</td><td>572.7603   </td></tr>\n",
       "\t<tr><td>45         </td><td> 550       </td><td>152.0600   </td><td>8.180004   </td><td>3.770965   </td><td>0.017591735</td><td>620.9656   </td></tr>\n",
       "\t<tr><td>50         </td><td> 496       </td><td>146.1492   </td><td>8.069795   </td><td>3.795452   </td><td>0.018509621</td><td>630.7887   </td></tr>\n",
       "\t<tr><td>56         </td><td> 380       </td><td>102.0526   </td><td>6.275718   </td><td>3.834176   </td><td>0.023388193</td><td>675.8898   </td></tr>\n",
       "</tbody>\n",
       "</table>\n"
      ],
      "text/latex": [
       "\\begin{tabular}{r|lllllll}\n",
       " age & NUsers & MeanRatingCount & RCErr & MeanAvgRating & AvgRatingErr & MeanPop\\\\\n",
       "\\hline\n",
       "\t 1           &  222        & 122.5721    & 9.222686    & 3.621055    & 0.031579911 & 646.8739   \\\\\n",
       "\t 18          & 1103        & 166.3971    & 5.523255    & 3.620671    & 0.013457093 & 554.2323   \\\\\n",
       "\t 25          & 2096        & 188.7195    & 4.549564    & 3.667680    & 0.009041619 & 551.3487   \\\\\n",
       "\t 35          & 1193        & 166.8089    & 5.748490    & 3.743372    & 0.011960702 & 572.7603   \\\\\n",
       "\t 45          &  550        & 152.0600    & 8.180004    & 3.770965    & 0.017591735 & 620.9656   \\\\\n",
       "\t 50          &  496        & 146.1492    & 8.069795    & 3.795452    & 0.018509621 & 630.7887   \\\\\n",
       "\t 56          &  380        & 102.0526    & 6.275718    & 3.834176    & 0.023388193 & 675.8898   \\\\\n",
       "\\end{tabular}\n"
      ],
      "text/markdown": [
       "\n",
       "age | NUsers | MeanRatingCount | RCErr | MeanAvgRating | AvgRatingErr | MeanPop | \n",
       "|---|---|---|---|---|---|---|\n",
       "| 1           |  222        | 122.5721    | 9.222686    | 3.621055    | 0.031579911 | 646.8739    | \n",
       "| 18          | 1103        | 166.3971    | 5.523255    | 3.620671    | 0.013457093 | 554.2323    | \n",
       "| 25          | 2096        | 188.7195    | 4.549564    | 3.667680    | 0.009041619 | 551.3487    | \n",
       "| 35          | 1193        | 166.8089    | 5.748490    | 3.743372    | 0.011960702 | 572.7603    | \n",
       "| 45          |  550        | 152.0600    | 8.180004    | 3.770965    | 0.017591735 | 620.9656    | \n",
       "| 50          |  496        | 146.1492    | 8.069795    | 3.795452    | 0.018509621 | 630.7887    | \n",
       "| 56          |  380        | 102.0526    | 6.275718    | 3.834176    | 0.023388193 | 675.8898    | \n",
       "\n",
       "\n"
      ],
      "text/plain": [
       "  age NUsers MeanRatingCount RCErr    MeanAvgRating AvgRatingErr MeanPop \n",
       "1 1    222   122.5721        9.222686 3.621055      0.031579911  646.8739\n",
       "2 18  1103   166.3971        5.523255 3.620671      0.013457093  554.2323\n",
       "3 25  2096   188.7195        4.549564 3.667680      0.009041619  551.3487\n",
       "4 35  1193   166.8089        5.748490 3.743372      0.011960702  572.7603\n",
       "5 45   550   152.0600        8.180004 3.770965      0.017591735  620.9656\n",
       "6 50   496   146.1492        8.069795 3.795452      0.018509621  630.7887\n",
       "7 56   380   102.0526        6.275718 3.834176      0.023388193  675.8898"
      ]
     },
     "metadata": {},
     "output_type": "display_data"
    }
   ],
   "source": [
    "age.stats = user.stats %>%\n",
    "    group_by(age) %>%\n",
    "    summarize(NUsers=n(),\n",
    "              MeanRatingCount=mean(RatingCount),\n",
    "              RCErr=sd(RatingCount) / sqrt(n()),\n",
    "              MeanAvgRating=mean(MeanRating),\n",
    "              AvgRatingErr=sd(MeanRating) / sqrt(n()),\n",
    "              MeanPop=mean(MeanPopRank))\n",
    "age.stats"
   ]
  },
  {
   "cell_type": "code",
   "execution_count": 22,
   "metadata": {
    "collapsed": false
   },
   "outputs": [
    {
     "data": {},
     "metadata": {},
     "output_type": "display_data"
    },
    {
     "data": {
      "image/png": "[encoded data removed]",
      "text/plain": [
       "plot without title"
      ]
     },
     "metadata": {},
     "output_type": "display_data"
    }
   ],
   "source": [
    "ggplot(age.stats) +\n",
    "    aes(x=age, y=MeanRatingCount, \n",
    "        ymin=MeanRatingCount-RCErr,\n",
    "        ymax=MeanRatingCount+RCErr) +\n",
    "    geom_bar(stat=\"identity\") + geom_errorbar(width=0.2)"
   ]
  },
  {
   "cell_type": "code",
   "execution_count": 23,
   "metadata": {
    "collapsed": false
   },
   "outputs": [
    {
     "data": {},
     "metadata": {},
     "output_type": "display_data"
    },
    {
     "data": {
      "image/png": "[encoded data removed]",
      "text/plain": [
       "plot without title"
      ]
     },
     "metadata": {},
     "output_type": "display_data"
    }
   ],
   "source": [
    "ggplot(age.stats) +\n",
    "    aes(x=age, y=MeanAvgRating, \n",
    "        ymin=MeanAvgRating-AvgRatingErr,\n",
    "        ymax=MeanAvgRating+AvgRatingErr) +\n",
    "    geom_bar(stat=\"identity\") + geom_errorbar(width=0.2)"
   ]
  },
  {
   "cell_type": "code",
   "execution_count": 24,
   "metadata": {
    "collapsed": false
   },
   "outputs": [
    {
     "data": {},
     "metadata": {},
     "output_type": "display_data"
    },
    {
     "data": {
      "image/png": "[encoded data removed]",
      "text/plain": [
       "plot without title"
      ]
     },
     "metadata": {},
     "output_type": "display_data"
    }
   ],
   "source": [
    "ggplot(age.stats) +\n",
    "    aes(x=age, y=MeanPop) +\n",
    "    geom_bar(stat=\"identity\") +\n",
    "    ylab(\"Mean Average Popularity (lower is more popular)\") +\n",
    "    ggtitle(\"Popularity Preference by Age\")"
   ]
  },
  {
   "cell_type": "markdown",
   "metadata": {},
   "source": [
    "We see the same issue here - dominant age brackets like more popular stuff."
   ]
  },
  {
   "cell_type": "markdown",
   "metadata": {
    "collapsed": true
   },
   "source": [
    "## Intersections\n",
    "\n",
    "Let's look at both age and gender."
   ]
  },
  {
   "cell_type": "code",
   "execution_count": 25,
   "metadata": {
    "collapsed": true
   },
   "outputs": [],
   "source": [
    "cross.stats = user.stats %>%\n",
    "    group_by(age, gender) %>%\n",
    "    summarize(nusers=n(),\n",
    "              MeanCount=mean(RatingCount),\n",
    "              MeanAvgRating=mean(MeanRating))"
   ]
  },
  {
   "cell_type": "code",
   "execution_count": 26,
   "metadata": {
    "collapsed": false
   },
   "outputs": [
    {
     "data": {},
     "metadata": {},
     "output_type": "display_data"
    },
    {
     "data": {
      "image/png": "[encoded data removed]",
      "text/plain": [
       "plot without title"
      ]
     },
     "metadata": {},
     "output_type": "display_data"
    }
   ],
   "source": [
    "ggplot(cross.stats) +\n",
    "    aes(x=age, y=gender, fill=nusers) +\n",
    "    geom_tile()"
   ]
  },
  {
   "cell_type": "code",
   "execution_count": 27,
   "metadata": {
    "collapsed": false
   },
   "outputs": [
    {
     "data": {},
     "metadata": {},
     "output_type": "display_data"
    },
    {
     "data": {
      "image/png": "[encoded data removed]",
      "text/plain": [
       "plot without title"
      ]
     },
     "metadata": {},
     "output_type": "display_data"
    }
   ],
   "source": [
    "ggplot(cross.stats) +\n",
    "    aes(x=age, y=gender, fill=MeanCount) +\n",
    "    geom_tile()"
   ]
  },
  {
   "cell_type": "code",
   "execution_count": 28,
   "metadata": {
    "collapsed": false
   },
   "outputs": [
    {
     "data": {},
     "metadata": {},
     "output_type": "display_data"
    },
    {
     "data": {
      "image/png": "[encoded data removed]",
      "text/plain": [
       "plot without title"
      ]
     },
     "metadata": {},
     "output_type": "display_data"
    }
   ],
   "source": [
    "ggplot(cross.stats) +\n",
    "    aes(x=age, y=gender, fill=MeanAvgRating) +\n",
    "    geom_tile()"
   ]
  },
  {
   "cell_type": "code",
   "execution_count": null,
   "metadata": {
    "collapsed": true
   },
   "outputs": [],
   "source": []
  }
 ],
 "metadata": {
  "anaconda-cloud": {},
  "kernelspec": {
   "display_name": "R",
   "language": "R",
   "name": "ir"
  },
  "language_info": {
   "codemirror_mode": "r",
   "file_extension": ".r",
   "mimetype": "text/x-r-source",
   "name": "R",
   "pygments_lexer": "r",
   "version": "3.3.2"
  }
 },
 "nbformat": 4,
 "nbformat_minor": 2
}
