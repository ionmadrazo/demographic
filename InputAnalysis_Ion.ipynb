{
 "cells": [
  {
   "cell_type": "code",
   "execution_count": 2,
   "metadata": {
    "collapsed": false
   },
   "outputs": [],
   "source": [
    "\n",
    "library(dplyr)\n",
    "library(readr)\n",
    "library(ggplot2)\n"
   ]
  },
  {
   "cell_type": "code",
   "execution_count": null,
   "metadata": {
    "collapsed": true
   },
   "outputs": [],
   "source": []
  },
  {
   "cell_type": "code",
   "execution_count": 3,
   "metadata": {
    "collapsed": true
   },
   "outputs": [],
   "source": [
    "options(repr.plot.height=5)\n",
    "options(repr.matrix.max.rows=20)\n",
    "options(repr.matrix.max.columns=10)"
   ]
  },
  {
   "cell_type": "code",
   "execution_count": 33,
   "metadata": {
    "collapsed": true
   },
   "outputs": [],
   "source": [
    "drawplot = function(plot, file=NA, width=5, height=3, ...) {\n",
    "    if (!is.na(file)) {\n",
    "        png(paste(file, \"png\", sep=\".\"), width=width, height=height, units='in', res=600, ...)\n",
    "        print(plot)\n",
    "        dev.off()\n",
    "        pdf(paste(file, \"pdf\", sep=\".\"), width=width, height=height, ...)\n",
    "        print(plot)\n",
    "        dev.off()\n",
    "    }\n",
    "    plot\n",
    "}"
   ]
  },
  {
   "cell_type": "code",
   "execution_count": 58,
   "metadata": {
    "collapsed": false
   },
   "outputs": [
    {
     "data": {
      "text/html": [
       "<table>\n",
       "<thead><tr><th scope=col>user</th><th scope=col>gender</th><th scope=col>age</th><th scope=col>occupation</th><th scope=col>zip</th><th scope=col>DataSet</th></tr></thead>\n",
       "<tbody>\n",
       "\t<tr><td> 1   </td><td>F    </td><td>1    </td><td>10   </td><td>48067</td><td>ML-1M</td></tr>\n",
       "\t<tr><td> 2   </td><td>M    </td><td>56   </td><td>16   </td><td>70072</td><td>ML-1M</td></tr>\n",
       "\t<tr><td> 3   </td><td>M    </td><td>25   </td><td>15   </td><td>55117</td><td>ML-1M</td></tr>\n",
       "\t<tr><td> 4   </td><td>M    </td><td>45   </td><td>7    </td><td>02460</td><td>ML-1M</td></tr>\n",
       "\t<tr><td> 5   </td><td>M    </td><td>25   </td><td>20   </td><td>55455</td><td>ML-1M</td></tr>\n",
       "\t<tr><td> 6   </td><td>F    </td><td>50   </td><td>9    </td><td>55117</td><td>ML-1M</td></tr>\n",
       "\t<tr><td> 7   </td><td>M    </td><td>35   </td><td>1    </td><td>06810</td><td>ML-1M</td></tr>\n",
       "\t<tr><td> 8   </td><td>M    </td><td>25   </td><td>12   </td><td>11413</td><td>ML-1M</td></tr>\n",
       "\t<tr><td> 9   </td><td>M    </td><td>25   </td><td>17   </td><td>61614</td><td>ML-1M</td></tr>\n",
       "\t<tr><td>10   </td><td>F    </td><td>35   </td><td>1    </td><td>95370</td><td>ML-1M</td></tr>\n",
       "\t<tr><td>⋮</td><td>⋮</td><td>⋮</td><td>⋮</td><td>⋮</td><td>⋮</td></tr>\n",
       "\t<tr><td>6031 </td><td>F    </td><td>18   </td><td>0    </td><td>45123</td><td>ML-1M</td></tr>\n",
       "\t<tr><td>6032 </td><td>M    </td><td>45   </td><td>7    </td><td>55108</td><td>ML-1M</td></tr>\n",
       "\t<tr><td>6033 </td><td>M    </td><td>50   </td><td>13   </td><td>78232</td><td>ML-1M</td></tr>\n",
       "\t<tr><td>6034 </td><td>M    </td><td>25   </td><td>14   </td><td>94117</td><td>ML-1M</td></tr>\n",
       "\t<tr><td>6035 </td><td>F    </td><td>25   </td><td>1    </td><td>78734</td><td>ML-1M</td></tr>\n",
       "\t<tr><td>6036 </td><td>F    </td><td>25   </td><td>15   </td><td>32603</td><td>ML-1M</td></tr>\n",
       "\t<tr><td>6037 </td><td>F    </td><td>45   </td><td>1    </td><td>76006</td><td>ML-1M</td></tr>\n",
       "\t<tr><td>6038 </td><td>F    </td><td>56   </td><td>1    </td><td>14706</td><td>ML-1M</td></tr>\n",
       "\t<tr><td>6039 </td><td>F    </td><td>45   </td><td>0    </td><td>01060</td><td>ML-1M</td></tr>\n",
       "\t<tr><td>6040 </td><td>M    </td><td>25   </td><td>6    </td><td>11106</td><td>ML-1M</td></tr>\n",
       "</tbody>\n",
       "</table>\n"
      ],
      "text/latex": [
       "\\begin{tabular}{r|llllll}\n",
       " user & gender & age & occupation & zip & DataSet\\\\\n",
       "\\hline\n",
       "\t  1    & F     & 1     & 10    & 48067 & ML-1M\\\\\n",
       "\t  2    & M     & 56    & 16    & 70072 & ML-1M\\\\\n",
       "\t  3    & M     & 25    & 15    & 55117 & ML-1M\\\\\n",
       "\t  4    & M     & 45    & 7     & 02460 & ML-1M\\\\\n",
       "\t  5    & M     & 25    & 20    & 55455 & ML-1M\\\\\n",
       "\t  6    & F     & 50    & 9     & 55117 & ML-1M\\\\\n",
       "\t  7    & M     & 35    & 1     & 06810 & ML-1M\\\\\n",
       "\t  8    & M     & 25    & 12    & 11413 & ML-1M\\\\\n",
       "\t  9    & M     & 25    & 17    & 61614 & ML-1M\\\\\n",
       "\t 10    & F     & 35    & 1     & 95370 & ML-1M\\\\\n",
       "\t ⋮ & ⋮ & ⋮ & ⋮ & ⋮ & ⋮\\\\\n",
       "\t 6031  & F     & 18    & 0     & 45123 & ML-1M\\\\\n",
       "\t 6032  & M     & 45    & 7     & 55108 & ML-1M\\\\\n",
       "\t 6033  & M     & 50    & 13    & 78232 & ML-1M\\\\\n",
       "\t 6034  & M     & 25    & 14    & 94117 & ML-1M\\\\\n",
       "\t 6035  & F     & 25    & 1     & 78734 & ML-1M\\\\\n",
       "\t 6036  & F     & 25    & 15    & 32603 & ML-1M\\\\\n",
       "\t 6037  & F     & 45    & 1     & 76006 & ML-1M\\\\\n",
       "\t 6038  & F     & 56    & 1     & 14706 & ML-1M\\\\\n",
       "\t 6039  & F     & 45    & 0     & 01060 & ML-1M\\\\\n",
       "\t 6040  & M     & 25    & 6     & 11106 & ML-1M\\\\\n",
       "\\end{tabular}\n"
      ],
      "text/markdown": [
       "\n",
       "user | gender | age | occupation | zip | DataSet | \n",
       "|---|---|---|---|---|---|---|---|---|---|---|---|---|---|---|---|---|---|---|---|---|\n",
       "|  1    | F     | 1     | 10    | 48067 | ML-1M | \n",
       "|  2    | M     | 56    | 16    | 70072 | ML-1M | \n",
       "|  3    | M     | 25    | 15    | 55117 | ML-1M | \n",
       "|  4    | M     | 45    | 7     | 02460 | ML-1M | \n",
       "|  5    | M     | 25    | 20    | 55455 | ML-1M | \n",
       "|  6    | F     | 50    | 9     | 55117 | ML-1M | \n",
       "|  7    | M     | 35    | 1     | 06810 | ML-1M | \n",
       "|  8    | M     | 25    | 12    | 11413 | ML-1M | \n",
       "|  9    | M     | 25    | 17    | 61614 | ML-1M | \n",
       "| 10    | F     | 35    | 1     | 95370 | ML-1M | \n",
       "| ⋮ | ⋮ | ⋮ | ⋮ | ⋮ | ⋮ | \n",
       "| 6031  | F     | 18    | 0     | 45123 | ML-1M | \n",
       "| 6032  | M     | 45    | 7     | 55108 | ML-1M | \n",
       "| 6033  | M     | 50    | 13    | 78232 | ML-1M | \n",
       "| 6034  | M     | 25    | 14    | 94117 | ML-1M | \n",
       "| 6035  | F     | 25    | 1     | 78734 | ML-1M | \n",
       "| 6036  | F     | 25    | 15    | 32603 | ML-1M | \n",
       "| 6037  | F     | 45    | 1     | 76006 | ML-1M | \n",
       "| 6038  | F     | 56    | 1     | 14706 | ML-1M | \n",
       "| 6039  | F     | 45    | 0     | 01060 | ML-1M | \n",
       "| 6040  | M     | 25    | 6     | 11106 | ML-1M | \n",
       "\n",
       "\n"
      ],
      "text/plain": [
       "     user gender age occupation zip   DataSet\n",
       "1     1   F      1   10         48067 ML-1M  \n",
       "2     2   M      56  16         70072 ML-1M  \n",
       "3     3   M      25  15         55117 ML-1M  \n",
       "4     4   M      45  7          02460 ML-1M  \n",
       "5     5   M      25  20         55455 ML-1M  \n",
       "6     6   F      50  9          55117 ML-1M  \n",
       "7     7   M      35  1          06810 ML-1M  \n",
       "8     8   M      25  12         11413 ML-1M  \n",
       "9     9   M      25  17         61614 ML-1M  \n",
       "10   10   F      35  1          95370 ML-1M  \n",
       "⋮    ⋮    ⋮      ⋮   ⋮          ⋮     ⋮      \n",
       "6031 6031 F      18  0          45123 ML-1M  \n",
       "6032 6032 M      45  7          55108 ML-1M  \n",
       "6033 6033 M      50  13         78232 ML-1M  \n",
       "6034 6034 M      25  14         94117 ML-1M  \n",
       "6035 6035 F      25  1          78734 ML-1M  \n",
       "6036 6036 F      25  15         32603 ML-1M  \n",
       "6037 6037 F      45  1          76006 ML-1M  \n",
       "6038 6038 F      56  1          14706 ML-1M  \n",
       "6039 6039 F      45  0          01060 ML-1M  \n",
       "6040 6040 M      25  6          11106 ML-1M  "
      ]
     },
     "metadata": {},
     "output_type": "display_data"
    }
   ],
   "source": [
    "usersLK = read_delim(\"data/lk1m/users.dat\", delim=\":\",\n",
    "                   col_names=c(\"user\", \"gender\", \"age\", \"occupation\", \"zip\"),\n",
    "                   col_types=\"i_c_c_c_c\") %>%\n",
    "    mutate(gender=as.factor(gender),\n",
    "           age=as.factor(age),\n",
    "           occupation=as.factor(occupation),\n",
    "           DataSet = \"ML-1M\")\n",
    "\n",
    "usersLK\n"
   ]
  },
  {
   "cell_type": "code",
   "execution_count": 59,
   "metadata": {
    "collapsed": false,
    "scrolled": false
   },
   "outputs": [
    {
     "name": "stderr",
     "output_type": "stream",
     "text": [
      "Parsed with column specification:\n",
      "cols(\n",
      "  user = col_integer(),\n",
      "  key = col_character(),\n",
      "  gender = col_character(),\n",
      "  age = col_integer()\n",
      ")\n"
     ]
    },
    {
     "data": {
      "text/html": [
       "<table>\n",
       "<thead><tr><th scope=col>user</th><th scope=col>gender</th><th scope=col>age</th><th scope=col>DataSet</th></tr></thead>\n",
       "<tbody>\n",
       "\t<tr><td> 1    </td><td>F     </td><td>18    </td><td>LastFM</td></tr>\n",
       "\t<tr><td> 2    </td><td>F     </td><td>NA    </td><td>LastFM</td></tr>\n",
       "\t<tr><td> 3    </td><td>NA    </td><td>NA    </td><td>LastFM</td></tr>\n",
       "\t<tr><td> 4    </td><td>M     </td><td>18    </td><td>LastFM</td></tr>\n",
       "\t<tr><td> 5    </td><td>M     </td><td>25    </td><td>LastFM</td></tr>\n",
       "\t<tr><td> 6    </td><td>M     </td><td>18    </td><td>LastFM</td></tr>\n",
       "\t<tr><td> 7    </td><td>M     </td><td>1     </td><td>LastFM</td></tr>\n",
       "\t<tr><td> 8    </td><td>F     </td><td>18    </td><td>LastFM</td></tr>\n",
       "\t<tr><td> 9    </td><td>F     </td><td>18    </td><td>LastFM</td></tr>\n",
       "\t<tr><td>10    </td><td>M     </td><td>NA    </td><td>LastFM</td></tr>\n",
       "\t<tr><td>⋮</td><td>⋮</td><td>⋮</td><td>⋮</td></tr>\n",
       "\t<tr><td>359338</td><td>F     </td><td>1     </td><td>LastFM</td></tr>\n",
       "\t<tr><td>359339</td><td>M     </td><td>25    </td><td>LastFM</td></tr>\n",
       "\t<tr><td>359340</td><td>F     </td><td>18    </td><td>LastFM</td></tr>\n",
       "\t<tr><td>359341</td><td>F     </td><td>18    </td><td>LastFM</td></tr>\n",
       "\t<tr><td>359342</td><td>M     </td><td>25    </td><td>LastFM</td></tr>\n",
       "\t<tr><td>359343</td><td>M     </td><td>25    </td><td>LastFM</td></tr>\n",
       "\t<tr><td>359344</td><td>M     </td><td>25    </td><td>LastFM</td></tr>\n",
       "\t<tr><td>359345</td><td>M     </td><td>18    </td><td>LastFM</td></tr>\n",
       "\t<tr><td>359346</td><td>M     </td><td>18    </td><td>LastFM</td></tr>\n",
       "\t<tr><td>359347</td><td>M     </td><td>18    </td><td>LastFM</td></tr>\n",
       "</tbody>\n",
       "</table>\n"
      ],
      "text/latex": [
       "\\begin{tabular}{r|llll}\n",
       " user & gender & age & DataSet\\\\\n",
       "\\hline\n",
       "\t  1     & F      & 18     & LastFM\\\\\n",
       "\t  2     & F      & NA     & LastFM\\\\\n",
       "\t  3     & NA     & NA     & LastFM\\\\\n",
       "\t  4     & M      & 18     & LastFM\\\\\n",
       "\t  5     & M      & 25     & LastFM\\\\\n",
       "\t  6     & M      & 18     & LastFM\\\\\n",
       "\t  7     & M      & 1      & LastFM\\\\\n",
       "\t  8     & F      & 18     & LastFM\\\\\n",
       "\t  9     & F      & 18     & LastFM\\\\\n",
       "\t 10     & M      & NA     & LastFM\\\\\n",
       "\t ⋮ & ⋮ & ⋮ & ⋮\\\\\n",
       "\t 359338 & F      & 1      & LastFM\\\\\n",
       "\t 359339 & M      & 25     & LastFM\\\\\n",
       "\t 359340 & F      & 18     & LastFM\\\\\n",
       "\t 359341 & F      & 18     & LastFM\\\\\n",
       "\t 359342 & M      & 25     & LastFM\\\\\n",
       "\t 359343 & M      & 25     & LastFM\\\\\n",
       "\t 359344 & M      & 25     & LastFM\\\\\n",
       "\t 359345 & M      & 18     & LastFM\\\\\n",
       "\t 359346 & M      & 18     & LastFM\\\\\n",
       "\t 359347 & M      & 18     & LastFM\\\\\n",
       "\\end{tabular}\n"
      ],
      "text/markdown": [
       "\n",
       "user | gender | age | DataSet | \n",
       "|---|---|---|---|---|---|---|---|---|---|---|---|---|---|---|---|---|---|---|---|---|\n",
       "|  1     | F      | 18     | LastFM | \n",
       "|  2     | F      | NA     | LastFM | \n",
       "|  3     | NA     | NA     | LastFM | \n",
       "|  4     | M      | 18     | LastFM | \n",
       "|  5     | M      | 25     | LastFM | \n",
       "|  6     | M      | 18     | LastFM | \n",
       "|  7     | M      | 1      | LastFM | \n",
       "|  8     | F      | 18     | LastFM | \n",
       "|  9     | F      | 18     | LastFM | \n",
       "| 10     | M      | NA     | LastFM | \n",
       "| ⋮ | ⋮ | ⋮ | ⋮ | \n",
       "| 359338 | F      | 1      | LastFM | \n",
       "| 359339 | M      | 25     | LastFM | \n",
       "| 359340 | F      | 18     | LastFM | \n",
       "| 359341 | F      | 18     | LastFM | \n",
       "| 359342 | M      | 25     | LastFM | \n",
       "| 359343 | M      | 25     | LastFM | \n",
       "| 359344 | M      | 25     | LastFM | \n",
       "| 359345 | M      | 18     | LastFM | \n",
       "| 359346 | M      | 18     | LastFM | \n",
       "| 359347 | M      | 18     | LastFM | \n",
       "\n",
       "\n"
      ],
      "text/plain": [
       "       user   gender age DataSet\n",
       "1       1     F      18  LastFM \n",
       "2       2     F      NA  LastFM \n",
       "3       3     NA     NA  LastFM \n",
       "4       4     M      18  LastFM \n",
       "5       5     M      25  LastFM \n",
       "6       6     M      18  LastFM \n",
       "7       7     M      1   LastFM \n",
       "8       8     F      18  LastFM \n",
       "9       9     F      18  LastFM \n",
       "10     10     M      NA  LastFM \n",
       "⋮      ⋮      ⋮      ⋮   ⋮      \n",
       "359338 359338 F      1   LastFM \n",
       "359339 359339 M      25  LastFM \n",
       "359340 359340 F      18  LastFM \n",
       "359341 359341 F      18  LastFM \n",
       "359342 359342 M      25  LastFM \n",
       "359343 359343 M      25  LastFM \n",
       "359344 359344 M      25  LastFM \n",
       "359345 359345 M      18  LastFM \n",
       "359346 359346 M      18  LastFM \n",
       "359347 359347 M      18  LastFM "
      ]
     },
     "metadata": {},
     "output_type": "display_data"
    },
    {
     "data": {
      "text/html": [
       "<ol class=list-inline>\n",
       "\t<li>18</li>\n",
       "\t<li>NA</li>\n",
       "\t<li>25</li>\n",
       "\t<li>1</li>\n",
       "\t<li>45</li>\n",
       "\t<li>56</li>\n",
       "\t<li>35</li>\n",
       "</ol>\n"
      ],
      "text/latex": [
       "\\begin{enumerate*}\n",
       "\\item 18\n",
       "\\item NA\n",
       "\\item 25\n",
       "\\item 1\n",
       "\\item 45\n",
       "\\item 56\n",
       "\\item 35\n",
       "\\end{enumerate*}\n"
      ],
      "text/markdown": [
       "1. 18\n",
       "2. NA\n",
       "3. 25\n",
       "4. 1\n",
       "5. 45\n",
       "6. 56\n",
       "7. 35\n",
       "\n",
       "\n"
      ],
      "text/plain": [
       "[1] 18   <NA> 25   1    45   56   35  \n",
       "Levels: 1 18 25 35 45 56"
      ]
     },
     "metadata": {},
     "output_type": "display_data"
    }
   ],
   "source": [
    "#id,key,gender,age\n",
    "\n",
    "usersLastfm = read_delim(\"data/lastfm/lastfm-users.csv\", delim=\",\", \n",
    "                   col_names=c(\"user\", \"key\", \"gender\", \"age\") )\n",
    "usersLastfm <-  subset(usersLastfm, select = c(\"user\", \"gender\", \"age\"))\n",
    "#usersLastfm$age <- as.integer(usersLastfm$age)\n",
    "usersLastfm$age <- as.numeric(as.character(usersLastfm$age))\n",
    "usersLastfm$gender[usersLastfm$gender == \"f\"] <- \"F\"\n",
    "usersLastfm$gender[usersLastfm$gender == \"m\"] <- \"M\"\n",
    "usersLastfm$age[ as.numeric(usersLastfm$age) < 18] <- 1\n",
    "usersLastfm$age[as.numeric(usersLastfm$age) >= 18 & as.numeric(usersLastfm$age) < 25] <- 18\n",
    "usersLastfm$age[as.numeric(usersLastfm$age) >= 25 &  as.numeric(usersLastfm$age) < 35] <- 25\n",
    "usersLastfm$age[as.numeric(usersLastfm$age) >= 35 &  as.numeric(usersLastfm$age) < 45] <- 35\n",
    "usersLastfm$age[as.numeric(usersLastfm$age) >= 45 & as.numeric(usersLastfm$age) < 56] <- 45\n",
    "usersLastfm$age[as.numeric(usersLastfm$age) >= 56 ] <- 56\n",
    "usersLastfm$DataSet = as.factor(\"LastFM\")\n",
    "usersLastfm$age = as.factor(usersLastfm$age)\n",
    "usersLastfm\n",
    "unique(usersLastfm$age)"
   ]
  },
  {
   "cell_type": "code",
   "execution_count": 64,
   "metadata": {
    "collapsed": false,
    "scrolled": false
   },
   "outputs": [
    {
     "data": {},
     "metadata": {},
     "output_type": "display_data"
    },
    {
     "data": {
      "image/png": "[encoded data removed]",
      "text/plain": [
       "plot without title"
      ]
     },
     "metadata": {},
     "output_type": "display_data"
    }
   ],
   "source": [
    "genders.m1=\n",
    "    usersLK %>%\n",
    "    group_by(gender) %>%\n",
    "    summarize(count=n()) %>%\n",
    "    ungroup() %>%\n",
    "    mutate(Proportion=count/sum(count), DataSet=\"ML-1M\")\n",
    "#genders.m1\n",
    "\n",
    "genders.lfm=\n",
    "    usersLastfm %>%\n",
    "    group_by(gender) %>%\n",
    "    summarize(count=n()) %>%\n",
    "    ungroup() %>%\n",
    "    mutate(Proportion=count/sum(count), DataSet=\"LastFM\")\n",
    "#genders.lfm\n",
    "\n",
    "genders.all = rbind(genders.m1,genders.lfm)\n",
    "#genders.all\n",
    "ggplot(genders.all) +  aes(x=gender,y=Proportion,fill=DataSet) +\n",
    "geom_bar(stat='identity',position = \"dodge\")"
   ]
  },
  {
   "cell_type": "code",
   "execution_count": 65,
   "metadata": {
    "collapsed": false
   },
   "outputs": [
    {
     "data": {},
     "metadata": {},
     "output_type": "display_data"
    },
    {
     "data": {
      "image/png": "[encoded data removed]",
      "text/plain": [
       "plot without title"
      ]
     },
     "metadata": {},
     "output_type": "display_data"
    }
   ],
   "source": [
    "age.m1=\n",
    "    usersLK %>%\n",
    "    group_by(age) %>%\n",
    "    summarize(count=n()) %>%\n",
    "    ungroup() %>%\n",
    "    mutate(Proportion=count/sum(count),\n",
    "           DataSet=\"ML-1M\")\n",
    "#genders.m1\n",
    "\n",
    "age.lfm=\n",
    "    usersLastfm %>%\n",
    "    group_by(age) %>%\n",
    "    summarize(count=n()) %>%\n",
    "    ungroup() %>%\n",
    "    mutate(Proportion=count/sum(count),\n",
    "          DataSet=\"LastFM\")\n",
    "#genders.lfm\n",
    "\n",
    "age.all = rbind(age.m1,age.lfm)\n",
    "#genders.all\n",
    "#age.all$age[ as.numeric(age.all$age) == 1] <- \"das\"\n",
    "#age.all$agestr <- replace(age.all$age, age.all$age == 1, \"[1-17]\")\n",
    "\n",
    "ggplot(age.all) +  aes(x=age,y=Proportion,fill=DataSet) +\n",
    "geom_bar(stat='identity',position = \"dodge\")"
   ]
  },
  {
   "cell_type": "code",
   "execution_count": 66,
   "metadata": {
    "collapsed": false
   },
   "outputs": [
    {
     "data": {
      "text/html": [
       "<table>\n",
       "<thead><tr><th scope=col>DemoValue</th><th scope=col>count</th><th scope=col>Proportion</th><th scope=col>DataSet</th><th scope=col>DemoChar</th></tr></thead>\n",
       "<tbody>\n",
       "\t<tr><td>F         </td><td>  1709    </td><td>0.28294702</td><td>ML-1M     </td><td>Gender    </td></tr>\n",
       "\t<tr><td>M         </td><td>  4331    </td><td>0.71705298</td><td>ML-1M     </td><td>Gender    </td></tr>\n",
       "\t<tr><td>F         </td><td> 84930    </td><td>0.23634537</td><td>LastFM    </td><td>Gender    </td></tr>\n",
       "\t<tr><td>M         </td><td>241642    </td><td>0.67244752</td><td>LastFM    </td><td>Gender    </td></tr>\n",
       "\t<tr><td>NA        </td><td> 32775    </td><td>0.09120711</td><td>LastFM    </td><td>Gender    </td></tr>\n",
       "\t<tr><td>1         </td><td>   222    </td><td>0.03675497</td><td>ML-1M     </td><td>Age       </td></tr>\n",
       "\t<tr><td>18        </td><td>  1103    </td><td>0.18261589</td><td>ML-1M     </td><td>Age       </td></tr>\n",
       "\t<tr><td>25        </td><td>  2096    </td><td>0.34701987</td><td>ML-1M     </td><td>Age       </td></tr>\n",
       "\t<tr><td>35        </td><td>  1193    </td><td>0.19751656</td><td>ML-1M     </td><td>Age       </td></tr>\n",
       "\t<tr><td>45        </td><td>   550    </td><td>0.09105960</td><td>ML-1M     </td><td>Age       </td></tr>\n",
       "\t<tr><td>50        </td><td>   496    </td><td>0.08211921</td><td>ML-1M     </td><td>Age       </td></tr>\n",
       "\t<tr><td>56        </td><td>   380    </td><td>0.06291391</td><td>ML-1M     </td><td>Age       </td></tr>\n",
       "\t<tr><td>1         </td><td> 21534    </td><td>0.05992536</td><td>LastFM    </td><td>Age       </td></tr>\n",
       "\t<tr><td>18        </td><td>147001    </td><td>0.40907813</td><td>LastFM    </td><td>Age       </td></tr>\n",
       "\t<tr><td>25        </td><td> 85600    </td><td>0.23820986</td><td>LastFM    </td><td>Age       </td></tr>\n",
       "\t<tr><td>35        </td><td> 20765    </td><td>0.05778537</td><td>LastFM    </td><td>Age       </td></tr>\n",
       "\t<tr><td>45        </td><td>  5937    </td><td>0.01652164</td><td>LastFM    </td><td>Age       </td></tr>\n",
       "\t<tr><td>56        </td><td>  3610    </td><td>0.01004600</td><td>LastFM    </td><td>Age       </td></tr>\n",
       "\t<tr><td>NA        </td><td> 74900    </td><td>0.20843363</td><td>LastFM    </td><td>Age       </td></tr>\n",
       "</tbody>\n",
       "</table>\n"
      ],
      "text/latex": [
       "\\begin{tabular}{r|lllll}\n",
       " DemoValue & count & Proportion & DataSet & DemoChar\\\\\n",
       "\\hline\n",
       "\t F          &   1709     & 0.28294702 & ML-1M      & Gender    \\\\\n",
       "\t M          &   4331     & 0.71705298 & ML-1M      & Gender    \\\\\n",
       "\t F          &  84930     & 0.23634537 & LastFM     & Gender    \\\\\n",
       "\t M          & 241642     & 0.67244752 & LastFM     & Gender    \\\\\n",
       "\t NA         &  32775     & 0.09120711 & LastFM     & Gender    \\\\\n",
       "\t 1          &    222     & 0.03675497 & ML-1M      & Age       \\\\\n",
       "\t 18         &   1103     & 0.18261589 & ML-1M      & Age       \\\\\n",
       "\t 25         &   2096     & 0.34701987 & ML-1M      & Age       \\\\\n",
       "\t 35         &   1193     & 0.19751656 & ML-1M      & Age       \\\\\n",
       "\t 45         &    550     & 0.09105960 & ML-1M      & Age       \\\\\n",
       "\t 50         &    496     & 0.08211921 & ML-1M      & Age       \\\\\n",
       "\t 56         &    380     & 0.06291391 & ML-1M      & Age       \\\\\n",
       "\t 1          &  21534     & 0.05992536 & LastFM     & Age       \\\\\n",
       "\t 18         & 147001     & 0.40907813 & LastFM     & Age       \\\\\n",
       "\t 25         &  85600     & 0.23820986 & LastFM     & Age       \\\\\n",
       "\t 35         &  20765     & 0.05778537 & LastFM     & Age       \\\\\n",
       "\t 45         &   5937     & 0.01652164 & LastFM     & Age       \\\\\n",
       "\t 56         &   3610     & 0.01004600 & LastFM     & Age       \\\\\n",
       "\t NA         &  74900     & 0.20843363 & LastFM     & Age       \\\\\n",
       "\\end{tabular}\n"
      ],
      "text/markdown": [
       "\n",
       "DemoValue | count | Proportion | DataSet | DemoChar | \n",
       "|---|---|---|---|---|---|---|---|---|---|---|---|---|---|---|---|---|---|---|\n",
       "| F          |   1709     | 0.28294702 | ML-1M      | Gender     | \n",
       "| M          |   4331     | 0.71705298 | ML-1M      | Gender     | \n",
       "| F          |  84930     | 0.23634537 | LastFM     | Gender     | \n",
       "| M          | 241642     | 0.67244752 | LastFM     | Gender     | \n",
       "| NA         |  32775     | 0.09120711 | LastFM     | Gender     | \n",
       "| 1          |    222     | 0.03675497 | ML-1M      | Age        | \n",
       "| 18         |   1103     | 0.18261589 | ML-1M      | Age        | \n",
       "| 25         |   2096     | 0.34701987 | ML-1M      | Age        | \n",
       "| 35         |   1193     | 0.19751656 | ML-1M      | Age        | \n",
       "| 45         |    550     | 0.09105960 | ML-1M      | Age        | \n",
       "| 50         |    496     | 0.08211921 | ML-1M      | Age        | \n",
       "| 56         |    380     | 0.06291391 | ML-1M      | Age        | \n",
       "| 1          |  21534     | 0.05992536 | LastFM     | Age        | \n",
       "| 18         | 147001     | 0.40907813 | LastFM     | Age        | \n",
       "| 25         |  85600     | 0.23820986 | LastFM     | Age        | \n",
       "| 35         |  20765     | 0.05778537 | LastFM     | Age        | \n",
       "| 45         |   5937     | 0.01652164 | LastFM     | Age        | \n",
       "| 56         |   3610     | 0.01004600 | LastFM     | Age        | \n",
       "| NA         |  74900     | 0.20843363 | LastFM     | Age        | \n",
       "\n",
       "\n"
      ],
      "text/plain": [
       "   DemoValue count  Proportion DataSet DemoChar\n",
       "1  F           1709 0.28294702 ML-1M   Gender  \n",
       "2  M           4331 0.71705298 ML-1M   Gender  \n",
       "3  F          84930 0.23634537 LastFM  Gender  \n",
       "4  M         241642 0.67244752 LastFM  Gender  \n",
       "5  NA         32775 0.09120711 LastFM  Gender  \n",
       "6  1            222 0.03675497 ML-1M   Age     \n",
       "7  18          1103 0.18261589 ML-1M   Age     \n",
       "8  25          2096 0.34701987 ML-1M   Age     \n",
       "9  35          1193 0.19751656 ML-1M   Age     \n",
       "10 45           550 0.09105960 ML-1M   Age     \n",
       "11 50           496 0.08211921 ML-1M   Age     \n",
       "12 56           380 0.06291391 ML-1M   Age     \n",
       "13 1          21534 0.05992536 LastFM  Age     \n",
       "14 18        147001 0.40907813 LastFM  Age     \n",
       "15 25         85600 0.23820986 LastFM  Age     \n",
       "16 35         20765 0.05778537 LastFM  Age     \n",
       "17 45          5937 0.01652164 LastFM  Age     \n",
       "18 56          3610 0.01004600 LastFM  Age     \n",
       "19 NA         74900 0.20843363 LastFM  Age     "
      ]
     },
     "metadata": {},
     "output_type": "display_data"
    }
   ],
   "source": [
    "everything =\n",
    "    rbind(genders.all %>% rename(DemoValue=gender) %>% mutate(DemoChar=\"Gender\"),\n",
    "          age.all %>% rename(DemoValue=age) %>% mutate(DemoChar=\"Age\"))\n",
    "everything"
   ]
  },
  {
   "cell_type": "code",
   "execution_count": 67,
   "metadata": {
    "collapsed": false
   },
   "outputs": [
    {
     "data": {},
     "metadata": {},
     "output_type": "display_data"
    },
    {
     "data": {
      "image/png": "[encoded data removed]",
      "text/plain": [
       "plot without title"
      ]
     },
     "metadata": {},
     "output_type": "display_data"
    }
   ],
   "source": [
    "ggplot(everything) +  aes(x=DemoValue,y=Proportion,fill=DataSet) +\n",
    "geom_bar(stat='identity',position = \"dodge\")+\n",
    "    facet_grid(. ~ DemoChar, scales=\"free\")"
   ]
  },
  {
   "cell_type": "code",
   "execution_count": 76,
   "metadata": {
    "collapsed": false
   },
   "outputs": [
    {
     "data": {},
     "metadata": {},
     "output_type": "display_data"
    },
    {
     "data": {
      "image/png": "[encoded data removed]",
      "text/plain": [
       "plot without title"
      ]
     },
     "metadata": {},
     "output_type": "display_data"
    }
   ],
   "source": [
    "drawplot(file=\"demo-everything\", width=8, height=2.5, {\n",
    "    ggplot(everything) +  aes(x=DemoValue,y=Proportion, fill=DataSet) +\n",
    "        geom_bar(stat='identity',position = \"dodge\") +\n",
    "        facet_grid(. ~ DemoChar, scales=\"free\", space=\"free_x\") +\n",
    "        xlab(\"Demographic Characteristic\") +\n",
    "        theme_bw() +\n",
    "        theme(axis.text.x = element_text(angle=45, vjust=1, hjust=1))\n",
    "})"
   ]
  },
  {
   "cell_type": "code",
   "execution_count": 70,
   "metadata": {
    "collapsed": true
   },
   "outputs": [],
   "source": [
    "drawplot = function(plot, file=NA, width=5, height=3, ...) {\n",
    "    if (!is.na(file)) {\n",
    "        png(paste(file, \"png\", sep=\".\"), width=width, height=height, units='in', res=600, ...)\n",
    "        print(plot)\n",
    "        dev.off()\n",
    "        pdf(paste(file, \"pdf\", sep=\".\"), width=width, height=height, ...)\n",
    "        print(plot)\n",
    "        dev.off()\n",
    "    }\n",
    "    plot\n",
    "}"
   ]
  },
  {
   "cell_type": "markdown",
   "metadata": {},
   "source": []
  }
 ],
 "metadata": {
  "anaconda-cloud": {},
  "kernelspec": {
   "display_name": "R [conda env:my-r-env]",
   "language": "R",
   "name": "conda-env-my-r-env-r"
  },
  "language_info": {
   "codemirror_mode": "r",
   "file_extension": ".r",
   "mimetype": "text/x-r-source",
   "name": "R",
   "pygments_lexer": "r",
   "version": "3.3.2"
  }
 },
 "nbformat": 4,
 "nbformat_minor": 1
}
