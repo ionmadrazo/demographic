{
 "cells": [
  {
   "cell_type": "markdown",
   "metadata": {},
   "source": [
    "# LastFM Input Analysis"
   ]
  },
  {
   "cell_type": "markdown",
   "metadata": {},
   "source": [
    "## Setup"
   ]
  },
  {
   "cell_type": "code",
   "execution_count": 1,
   "metadata": {
    "collapsed": false
   },
   "outputs": [
    {
     "name": "stderr",
     "output_type": "stream",
     "text": [
      "\n",
      "Attaching package: 'dplyr'\n",
      "\n",
      "The following objects are masked from 'package:stats':\n",
      "\n",
      "    filter, lag\n",
      "\n",
      "The following objects are masked from 'package:base':\n",
      "\n",
      "    intersect, setdiff, setequal, union\n",
      "\n"
     ]
    }
   ],
   "source": [
    "library(feather)\n",
    "library(readr)\n",
    "library(reshape2)\n",
    "library(dplyr)\n",
    "library(ggplot2)"
   ]
  },
  {
   "cell_type": "code",
   "execution_count": 2,
   "metadata": {
    "collapsed": true
   },
   "outputs": [],
   "source": [
    "options(repr.matrix.max.rows = 20, repr.plot.height=4.5)"
   ]
  },
  {
   "cell_type": "markdown",
   "metadata": {},
   "source": [
    "## Input"
   ]
  },
  {
   "cell_type": "code",
   "execution_count": 4,
   "metadata": {
    "collapsed": false
   },
   "outputs": [
    {
     "name": "stderr",
     "output_type": "stream",
     "text": [
      "Parsed with column specification:\n",
      "cols(\n",
      "  id = col_integer(),\n",
      "  key = col_character(),\n",
      "  gender = col_character(),\n",
      "  age = col_integer(),\n",
      "  country = col_character()\n",
      ")\n"
     ]
    },
    {
     "data": {
      "text/html": [
       "<table>\n",
       "<thead><tr><th scope=col>id</th><th scope=col>key</th><th scope=col>gender</th><th scope=col>age</th><th scope=col>country</th></tr></thead>\n",
       "<tbody>\n",
       "\t<tr><td> 1                                      </td><td>00000c289a1829a808ac09c00daf10bc3c4e223b</td><td>f                                       </td><td>22                                      </td><td>Germany                                 </td></tr>\n",
       "\t<tr><td> 2                                      </td><td>00001411dc427966b17297bf4d69e7e193135d89</td><td>f                                       </td><td>NA                                      </td><td>Canada                                  </td></tr>\n",
       "\t<tr><td> 3                                      </td><td>00004d2ac9316e22dc007ab2243d6fcb239e707d</td><td>NA                                      </td><td>NA                                      </td><td>Germany                                 </td></tr>\n",
       "\t<tr><td> 4                                      </td><td>000063d3fe1cf2ba248b9e3c3f0334845a27a6bf</td><td>m                                       </td><td>19                                      </td><td>Mexico                                  </td></tr>\n",
       "\t<tr><td> 5                                      </td><td>00007a47085b9aab8af55f52ec8846ac479ac4fe</td><td>m                                       </td><td>28                                      </td><td>United States                           </td></tr>\n",
       "\t<tr><td> 6                                      </td><td>0000c176103e538d5c9828e695fed4f7ae42dd01</td><td>m                                       </td><td>20                                      </td><td>United Kingdom                          </td></tr>\n",
       "\t<tr><td> 7                                      </td><td>0000ee7dd906373efa37f4e1185bfe1e3f8695ae</td><td>m                                       </td><td>17                                      </td><td>Finland                                 </td></tr>\n",
       "\t<tr><td> 8                                      </td><td>0000ef373bbd0d89ce796abae961f2705e8c1faf</td><td>f                                       </td><td>22                                      </td><td>Poland                                  </td></tr>\n",
       "\t<tr><td> 9                                      </td><td>0000f687d4fe9c1ed49620fbc5ed5b0d7798ea20</td><td>f                                       </td><td>24                                      </td><td>Spain                                   </td></tr>\n",
       "\t<tr><td>10                                      </td><td>0001399387da41d557219578fb08b12afa25ab67</td><td>m                                       </td><td>NA                                      </td><td>Ukraine                                 </td></tr>\n",
       "\t<tr><td>...</td><td>...</td><td>...</td><td>...</td><td>...</td></tr>\n",
       "\t<tr><td>359338                                  </td><td>fffd3df081c03829a9ea4699e2d85e868d7a791b</td><td>f                                       </td><td>17                                      </td><td>New Zealand                             </td></tr>\n",
       "\t<tr><td>359339                                  </td><td>fffe1f0fc9eb1432b98eb25b2c950850796a4a8b</td><td>m                                       </td><td>26                                      </td><td>China                                   </td></tr>\n",
       "\t<tr><td>359340                                  </td><td>fffe356b9dab2fae1f887fabb1f08ab4976c91bb</td><td>f                                       </td><td>23                                      </td><td>Germany                                 </td></tr>\n",
       "\t<tr><td>359341                                  </td><td>fffe3e8eb1b2db8dcb3f3fe753552d5803d085f1</td><td>f                                       </td><td>19                                      </td><td>United Kingdom                          </td></tr>\n",
       "\t<tr><td>359342                                  </td><td>fffe454af08a58c7bafe77491b586711f6b5e6f1</td><td>m                                       </td><td>28                                      </td><td>Austria                                 </td></tr>\n",
       "\t<tr><td>359343                                  </td><td>fffe7823f67b433b45f22056467db921c1d3d7d0</td><td>m                                       </td><td>25                                      </td><td>Germany                                 </td></tr>\n",
       "\t<tr><td>359344                                  </td><td>fffe8637bd8234309e871409c7ebef99a720afc1</td><td>m                                       </td><td>25                                      </td><td>Brazil                                  </td></tr>\n",
       "\t<tr><td>359345                                  </td><td>fffe8c7f952d9b960a56ed4dcb40a415d924b224</td><td>m                                       </td><td>20                                      </td><td>United States                           </td></tr>\n",
       "\t<tr><td>359346                                  </td><td>ffff9af9ae04d263dae91cb838b1f3a6725f5ffb</td><td>m                                       </td><td>20                                      </td><td>Russian Federation                      </td></tr>\n",
       "\t<tr><td>359347                                  </td><td>ffff9ef87a7d9494ada2f9ade4b9ff637c0759ac</td><td>m                                       </td><td>21                                      </td><td>Belgium                                 </td></tr>\n",
       "</tbody>\n",
       "</table>\n"
      ],
      "text/latex": [
       "\\begin{tabular}{r|lllll}\n",
       " id & key & gender & age & country\\\\\n",
       "\\hline\n",
       "\t  1                                       & 00000c289a1829a808ac09c00daf10bc3c4e223b & f                                        & 22                                       & Germany                                 \\\\\n",
       "\t  2                                       & 00001411dc427966b17297bf4d69e7e193135d89 & f                                        & NA                                       & Canada                                  \\\\\n",
       "\t  3                                       & 00004d2ac9316e22dc007ab2243d6fcb239e707d & NA                                       & NA                                       & Germany                                 \\\\\n",
       "\t  4                                       & 000063d3fe1cf2ba248b9e3c3f0334845a27a6bf & m                                        & 19                                       & Mexico                                  \\\\\n",
       "\t  5                                       & 00007a47085b9aab8af55f52ec8846ac479ac4fe & m                                        & 28                                       & United States                           \\\\\n",
       "\t  6                                       & 0000c176103e538d5c9828e695fed4f7ae42dd01 & m                                        & 20                                       & United Kingdom                          \\\\\n",
       "\t  7                                       & 0000ee7dd906373efa37f4e1185bfe1e3f8695ae & m                                        & 17                                       & Finland                                 \\\\\n",
       "\t  8                                       & 0000ef373bbd0d89ce796abae961f2705e8c1faf & f                                        & 22                                       & Poland                                  \\\\\n",
       "\t  9                                       & 0000f687d4fe9c1ed49620fbc5ed5b0d7798ea20 & f                                        & 24                                       & Spain                                   \\\\\n",
       "\t 10                                       & 0001399387da41d557219578fb08b12afa25ab67 & m                                        & NA                                       & Ukraine                                 \\\\\n",
       "\t ... & ... & ... & ... & ...\\\\\n",
       "\t 359338                                   & fffd3df081c03829a9ea4699e2d85e868d7a791b & f                                        & 17                                       & New Zealand                             \\\\\n",
       "\t 359339                                   & fffe1f0fc9eb1432b98eb25b2c950850796a4a8b & m                                        & 26                                       & China                                   \\\\\n",
       "\t 359340                                   & fffe356b9dab2fae1f887fabb1f08ab4976c91bb & f                                        & 23                                       & Germany                                 \\\\\n",
       "\t 359341                                   & fffe3e8eb1b2db8dcb3f3fe753552d5803d085f1 & f                                        & 19                                       & United Kingdom                          \\\\\n",
       "\t 359342                                   & fffe454af08a58c7bafe77491b586711f6b5e6f1 & m                                        & 28                                       & Austria                                 \\\\\n",
       "\t 359343                                   & fffe7823f67b433b45f22056467db921c1d3d7d0 & m                                        & 25                                       & Germany                                 \\\\\n",
       "\t 359344                                   & fffe8637bd8234309e871409c7ebef99a720afc1 & m                                        & 25                                       & Brazil                                  \\\\\n",
       "\t 359345                                   & fffe8c7f952d9b960a56ed4dcb40a415d924b224 & m                                        & 20                                       & United States                           \\\\\n",
       "\t 359346                                   & ffff9af9ae04d263dae91cb838b1f3a6725f5ffb & m                                        & 20                                       & Russian Federation                      \\\\\n",
       "\t 359347                                   & ffff9ef87a7d9494ada2f9ade4b9ff637c0759ac & m                                        & 21                                       & Belgium                                 \\\\\n",
       "\\end{tabular}\n"
      ],
      "text/markdown": [
       "\n",
       "id | key | gender | age | country | \n",
       "|---|---|---|---|---|---|---|---|---|---|---|---|---|---|---|---|---|---|---|---|---|\n",
       "|  1                                       | 00000c289a1829a808ac09c00daf10bc3c4e223b | f                                        | 22                                       | Germany                                  | \n",
       "|  2                                       | 00001411dc427966b17297bf4d69e7e193135d89 | f                                        | NA                                       | Canada                                   | \n",
       "|  3                                       | 00004d2ac9316e22dc007ab2243d6fcb239e707d | NA                                       | NA                                       | Germany                                  | \n",
       "|  4                                       | 000063d3fe1cf2ba248b9e3c3f0334845a27a6bf | m                                        | 19                                       | Mexico                                   | \n",
       "|  5                                       | 00007a47085b9aab8af55f52ec8846ac479ac4fe | m                                        | 28                                       | United States                            | \n",
       "|  6                                       | 0000c176103e538d5c9828e695fed4f7ae42dd01 | m                                        | 20                                       | United Kingdom                           | \n",
       "|  7                                       | 0000ee7dd906373efa37f4e1185bfe1e3f8695ae | m                                        | 17                                       | Finland                                  | \n",
       "|  8                                       | 0000ef373bbd0d89ce796abae961f2705e8c1faf | f                                        | 22                                       | Poland                                   | \n",
       "|  9                                       | 0000f687d4fe9c1ed49620fbc5ed5b0d7798ea20 | f                                        | 24                                       | Spain                                    | \n",
       "| 10                                       | 0001399387da41d557219578fb08b12afa25ab67 | m                                        | NA                                       | Ukraine                                  | \n",
       "| ... | ... | ... | ... | ... | \n",
       "| 359338                                   | fffd3df081c03829a9ea4699e2d85e868d7a791b | f                                        | 17                                       | New Zealand                              | \n",
       "| 359339                                   | fffe1f0fc9eb1432b98eb25b2c950850796a4a8b | m                                        | 26                                       | China                                    | \n",
       "| 359340                                   | fffe356b9dab2fae1f887fabb1f08ab4976c91bb | f                                        | 23                                       | Germany                                  | \n",
       "| 359341                                   | fffe3e8eb1b2db8dcb3f3fe753552d5803d085f1 | f                                        | 19                                       | United Kingdom                           | \n",
       "| 359342                                   | fffe454af08a58c7bafe77491b586711f6b5e6f1 | m                                        | 28                                       | Austria                                  | \n",
       "| 359343                                   | fffe7823f67b433b45f22056467db921c1d3d7d0 | m                                        | 25                                       | Germany                                  | \n",
       "| 359344                                   | fffe8637bd8234309e871409c7ebef99a720afc1 | m                                        | 25                                       | Brazil                                   | \n",
       "| 359345                                   | fffe8c7f952d9b960a56ed4dcb40a415d924b224 | m                                        | 20                                       | United States                            | \n",
       "| 359346                                   | ffff9af9ae04d263dae91cb838b1f3a6725f5ffb | m                                        | 20                                       | Russian Federation                       | \n",
       "| 359347                                   | ffff9ef87a7d9494ada2f9ade4b9ff637c0759ac | m                                        | 21                                       | Belgium                                  | \n",
       "\n",
       "\n"
      ],
      "text/plain": [
       "       id     key                                      gender age\n",
       "1       1     00000c289a1829a808ac09c00daf10bc3c4e223b f      22 \n",
       "2       2     00001411dc427966b17297bf4d69e7e193135d89 f      NA \n",
       "3       3     00004d2ac9316e22dc007ab2243d6fcb239e707d NA     NA \n",
       "4       4     000063d3fe1cf2ba248b9e3c3f0334845a27a6bf m      19 \n",
       "5       5     00007a47085b9aab8af55f52ec8846ac479ac4fe m      28 \n",
       "6       6     0000c176103e538d5c9828e695fed4f7ae42dd01 m      20 \n",
       "7       7     0000ee7dd906373efa37f4e1185bfe1e3f8695ae m      17 \n",
       "8       8     0000ef373bbd0d89ce796abae961f2705e8c1faf f      22 \n",
       "9       9     0000f687d4fe9c1ed49620fbc5ed5b0d7798ea20 f      24 \n",
       "10     10     0001399387da41d557219578fb08b12afa25ab67 m      NA \n",
       "...    ...    ...                                      ...    ...\n",
       "359338 359338 fffd3df081c03829a9ea4699e2d85e868d7a791b f      17 \n",
       "359339 359339 fffe1f0fc9eb1432b98eb25b2c950850796a4a8b m      26 \n",
       "359340 359340 fffe356b9dab2fae1f887fabb1f08ab4976c91bb f      23 \n",
       "359341 359341 fffe3e8eb1b2db8dcb3f3fe753552d5803d085f1 f      19 \n",
       "359342 359342 fffe454af08a58c7bafe77491b586711f6b5e6f1 m      28 \n",
       "359343 359343 fffe7823f67b433b45f22056467db921c1d3d7d0 m      25 \n",
       "359344 359344 fffe8637bd8234309e871409c7ebef99a720afc1 m      25 \n",
       "359345 359345 fffe8c7f952d9b960a56ed4dcb40a415d924b224 m      20 \n",
       "359346 359346 ffff9af9ae04d263dae91cb838b1f3a6725f5ffb m      20 \n",
       "359347 359347 ffff9ef87a7d9494ada2f9ade4b9ff637c0759ac m      21 \n",
       "       country           \n",
       "1      Germany           \n",
       "2      Canada            \n",
       "3      Germany           \n",
       "4      Mexico            \n",
       "5      United States     \n",
       "6      United Kingdom    \n",
       "7      Finland           \n",
       "8      Poland            \n",
       "9      Spain             \n",
       "10     Ukraine           \n",
       "...    ...               \n",
       "359338 New Zealand       \n",
       "359339 China             \n",
       "359340 Germany           \n",
       "359341 United Kingdom    \n",
       "359342 Austria           \n",
       "359343 Germany           \n",
       "359344 Brazil            \n",
       "359345 United States     \n",
       "359346 Russian Federation\n",
       "359347 Belgium           "
      ]
     },
     "metadata": {},
     "output_type": "display_data"
    }
   ],
   "source": [
    "users = read_csv(\"build/lastfm-users.csv\")\n",
    "users"
   ]
  },
  {
   "cell_type": "code",
   "execution_count": 7,
   "metadata": {
    "collapsed": false
   },
   "outputs": [
    {
     "data": {
      "text/html": [
       "<table>\n",
       "<thead><tr><th scope=col>user</th><th scope=col>item</th><th scope=col>count</th></tr></thead>\n",
       "<tbody>\n",
       "\t<tr><td>1   </td><td> 1  </td><td>2137</td></tr>\n",
       "\t<tr><td>1   </td><td> 2  </td><td>1099</td></tr>\n",
       "\t<tr><td>1   </td><td> 3  </td><td> 897</td></tr>\n",
       "\t<tr><td>1   </td><td> 4  </td><td> 717</td></tr>\n",
       "\t<tr><td>1   </td><td> 5  </td><td> 706</td></tr>\n",
       "\t<tr><td>1   </td><td> 6  </td><td> 691</td></tr>\n",
       "\t<tr><td>1   </td><td> 7  </td><td> 545</td></tr>\n",
       "\t<tr><td>1   </td><td> 8  </td><td> 507</td></tr>\n",
       "\t<tr><td>1   </td><td> 9  </td><td> 424</td></tr>\n",
       "\t<tr><td>1   </td><td>10  </td><td> 403</td></tr>\n",
       "\t<tr><td>...</td><td>...</td><td>...</td></tr>\n",
       "\t<tr><td>358716</td><td>11096 </td><td>   4  </td></tr>\n",
       "\t<tr><td>358716</td><td> 1152 </td><td>   4  </td></tr>\n",
       "\t<tr><td>358717</td><td>  590 </td><td>2037  </td></tr>\n",
       "\t<tr><td>358717</td><td>  173 </td><td>1948  </td></tr>\n",
       "\t<tr><td>358717</td><td>  800 </td><td>1517  </td></tr>\n",
       "\t<tr><td>358717</td><td>  862 </td><td>1494  </td></tr>\n",
       "\t<tr><td>358717</td><td> 1516 </td><td>1128  </td></tr>\n",
       "\t<tr><td>358717</td><td> 5547 </td><td>1126  </td></tr>\n",
       "\t<tr><td>358717</td><td>  768 </td><td>1094  </td></tr>\n",
       "\t<tr><td>358717</td><td> 3796 </td><td>  NA  </td></tr>\n",
       "</tbody>\n",
       "</table>\n"
      ],
      "text/latex": [
       "\\begin{tabular}{r|lll}\n",
       " user & item & count\\\\\n",
       "\\hline\n",
       "\t 1    &  1   & 2137\\\\\n",
       "\t 1    &  2   & 1099\\\\\n",
       "\t 1    &  3   &  897\\\\\n",
       "\t 1    &  4   &  717\\\\\n",
       "\t 1    &  5   &  706\\\\\n",
       "\t 1    &  6   &  691\\\\\n",
       "\t 1    &  7   &  545\\\\\n",
       "\t 1    &  8   &  507\\\\\n",
       "\t 1    &  9   &  424\\\\\n",
       "\t 1    & 10   &  403\\\\\n",
       "\t ... & ... & ...\\\\\n",
       "\t 358716 & 11096  &    4  \\\\\n",
       "\t 358716 &  1152  &    4  \\\\\n",
       "\t 358717 &   590  & 2037  \\\\\n",
       "\t 358717 &   173  & 1948  \\\\\n",
       "\t 358717 &   800  & 1517  \\\\\n",
       "\t 358717 &   862  & 1494  \\\\\n",
       "\t 358717 &  1516  & 1128  \\\\\n",
       "\t 358717 &  5547  & 1126  \\\\\n",
       "\t 358717 &   768  & 1094  \\\\\n",
       "\t 358717 &  3796  &   NA  \\\\\n",
       "\\end{tabular}\n"
      ],
      "text/markdown": [
       "\n",
       "user | item | count | \n",
       "|---|---|---|---|---|---|---|---|---|---|---|---|---|---|---|---|---|---|---|---|---|\n",
       "| 1    |  1   | 2137 | \n",
       "| 1    |  2   | 1099 | \n",
       "| 1    |  3   |  897 | \n",
       "| 1    |  4   |  717 | \n",
       "| 1    |  5   |  706 | \n",
       "| 1    |  6   |  691 | \n",
       "| 1    |  7   |  545 | \n",
       "| 1    |  8   |  507 | \n",
       "| 1    |  9   |  424 | \n",
       "| 1    | 10   |  403 | \n",
       "| ... | ... | ... | \n",
       "| 358716 | 11096  |    4   | \n",
       "| 358716 |  1152  |    4   | \n",
       "| 358717 |   590  | 2037   | \n",
       "| 358717 |   173  | 1948   | \n",
       "| 358717 |   800  | 1517   | \n",
       "| 358717 |   862  | 1494   | \n",
       "| 358717 |  1516  | 1128   | \n",
       "| 358717 |  5547  | 1126   | \n",
       "| 358717 |   768  | 1094   | \n",
       "| 358717 |  3796  |   NA   | \n",
       "\n",
       "\n"
      ],
      "text/plain": [
       "        user   item  count\n",
       "1       1       1    2137 \n",
       "2       1       2    1099 \n",
       "3       1       3     897 \n",
       "4       1       4     717 \n",
       "5       1       5     706 \n",
       "6       1       6     691 \n",
       "7       1       7     545 \n",
       "8       1       8     507 \n",
       "9       1       9     424 \n",
       "10      1      10     403 \n",
       "...     ...    ...   ...  \n",
       "6683554 358716 11096    4 \n",
       "6683555 358716  1152    4 \n",
       "6683556 358717   590 2037 \n",
       "6683557 358717   173 1948 \n",
       "6683558 358717   800 1517 \n",
       "6683559 358717   862 1494 \n",
       "6683560 358717  1516 1128 \n",
       "6683561 358717  5547 1126 \n",
       "6683562 358717   768 1094 \n",
       "6683563 358717  3796   NA "
      ]
     },
     "metadata": {},
     "output_type": "display_data"
    }
   ],
   "source": [
    "play_counts = read_feather(\"build/lastfm-play-counts.fth\")\n",
    "play_counts"
   ]
  },
  {
   "cell_type": "markdown",
   "metadata": {},
   "source": [
    "## Summarize"
   ]
  },
  {
   "cell_type": "code",
   "execution_count": 10,
   "metadata": {
    "collapsed": false
   },
   "outputs": [
    {
     "data": {
      "text/html": [
       "<table>\n",
       "<thead><tr><th scope=col>user</th><th scope=col>ArtistCount</th><th scope=col>PlayCount</th><th scope=col>MeanPlays</th></tr></thead>\n",
       "<tbody>\n",
       "\t<tr><td> 1         </td><td>49         </td><td> 16716     </td><td> 341.142857</td></tr>\n",
       "\t<tr><td> 2         </td><td>51         </td><td>119921     </td><td>2351.392157</td></tr>\n",
       "\t<tr><td> 3         </td><td>46         </td><td>  5770     </td><td> 125.434783</td></tr>\n",
       "\t<tr><td> 4         </td><td>48         </td><td>   572     </td><td>  11.916667</td></tr>\n",
       "\t<tr><td> 5         </td><td>49         </td><td>  6048     </td><td> 123.428571</td></tr>\n",
       "\t<tr><td> 6         </td><td>50         </td><td> 25424     </td><td> 508.480000</td></tr>\n",
       "\t<tr><td> 7         </td><td>49         </td><td>  7252     </td><td> 148.000000</td></tr>\n",
       "\t<tr><td> 8         </td><td>55         </td><td>  3240     </td><td>  58.909091</td></tr>\n",
       "\t<tr><td> 9         </td><td>48         </td><td>   248     </td><td>   5.166667</td></tr>\n",
       "\t<tr><td>10         </td><td>57         </td><td> 12401     </td><td> 217.561404</td></tr>\n",
       "\t<tr><td>...</td><td>...</td><td>...</td><td>...</td></tr>\n",
       "\t<tr><td>358708    </td><td>44        </td><td> 2063     </td><td>  46.88636</td></tr>\n",
       "\t<tr><td>358709    </td><td>49        </td><td> 2157     </td><td>  44.02041</td></tr>\n",
       "\t<tr><td>358710    </td><td>47        </td><td> 1104     </td><td>  23.48936</td></tr>\n",
       "\t<tr><td>358711    </td><td>54        </td><td>14840     </td><td> 274.81481</td></tr>\n",
       "\t<tr><td>358712    </td><td>48        </td><td> 8816     </td><td> 183.66667</td></tr>\n",
       "\t<tr><td>358713    </td><td>42        </td><td> 2933     </td><td>  69.83333</td></tr>\n",
       "\t<tr><td>358714    </td><td>48        </td><td>15064     </td><td> 313.83333</td></tr>\n",
       "\t<tr><td>358715    </td><td>42        </td><td>  811     </td><td>  19.30952</td></tr>\n",
       "\t<tr><td>358716    </td><td>40        </td><td>  419     </td><td>  10.47500</td></tr>\n",
       "\t<tr><td>358717    </td><td> 7        </td><td>10344     </td><td>1477.71429</td></tr>\n",
       "</tbody>\n",
       "</table>\n"
      ],
      "text/latex": [
       "\\begin{tabular}{r|llll}\n",
       " user & ArtistCount & PlayCount & MeanPlays\\\\\n",
       "\\hline\n",
       "\t  1          & 49          &  16716      &  341.142857\\\\\n",
       "\t  2          & 51          & 119921      & 2351.392157\\\\\n",
       "\t  3          & 46          &   5770      &  125.434783\\\\\n",
       "\t  4          & 48          &    572      &   11.916667\\\\\n",
       "\t  5          & 49          &   6048      &  123.428571\\\\\n",
       "\t  6          & 50          &  25424      &  508.480000\\\\\n",
       "\t  7          & 49          &   7252      &  148.000000\\\\\n",
       "\t  8          & 55          &   3240      &   58.909091\\\\\n",
       "\t  9          & 48          &    248      &    5.166667\\\\\n",
       "\t 10          & 57          &  12401      &  217.561404\\\\\n",
       "\t ... & ... & ... & ...\\\\\n",
       "\t 358708     & 44         &  2063      &   46.88636\\\\\n",
       "\t 358709     & 49         &  2157      &   44.02041\\\\\n",
       "\t 358710     & 47         &  1104      &   23.48936\\\\\n",
       "\t 358711     & 54         & 14840      &  274.81481\\\\\n",
       "\t 358712     & 48         &  8816      &  183.66667\\\\\n",
       "\t 358713     & 42         &  2933      &   69.83333\\\\\n",
       "\t 358714     & 48         & 15064      &  313.83333\\\\\n",
       "\t 358715     & 42         &   811      &   19.30952\\\\\n",
       "\t 358716     & 40         &   419      &   10.47500\\\\\n",
       "\t 358717     &  7         & 10344      & 1477.71429\\\\\n",
       "\\end{tabular}\n"
      ],
      "text/markdown": [
       "\n",
       "user | ArtistCount | PlayCount | MeanPlays | \n",
       "|---|---|---|---|---|---|---|---|---|---|---|---|---|---|---|---|---|---|---|---|---|\n",
       "|  1          | 49          |  16716      |  341.142857 | \n",
       "|  2          | 51          | 119921      | 2351.392157 | \n",
       "|  3          | 46          |   5770      |  125.434783 | \n",
       "|  4          | 48          |    572      |   11.916667 | \n",
       "|  5          | 49          |   6048      |  123.428571 | \n",
       "|  6          | 50          |  25424      |  508.480000 | \n",
       "|  7          | 49          |   7252      |  148.000000 | \n",
       "|  8          | 55          |   3240      |   58.909091 | \n",
       "|  9          | 48          |    248      |    5.166667 | \n",
       "| 10          | 57          |  12401      |  217.561404 | \n",
       "| ... | ... | ... | ... | \n",
       "| 358708     | 44         |  2063      |   46.88636 | \n",
       "| 358709     | 49         |  2157      |   44.02041 | \n",
       "| 358710     | 47         |  1104      |   23.48936 | \n",
       "| 358711     | 54         | 14840      |  274.81481 | \n",
       "| 358712     | 48         |  8816      |  183.66667 | \n",
       "| 358713     | 42         |  2933      |   69.83333 | \n",
       "| 358714     | 48         | 15064      |  313.83333 | \n",
       "| 358715     | 42         |   811      |   19.30952 | \n",
       "| 358716     | 40         |   419      |   10.47500 | \n",
       "| 358717     |  7         | 10344      | 1477.71429 | \n",
       "\n",
       "\n"
      ],
      "text/plain": [
       "       user   ArtistCount PlayCount MeanPlays  \n",
       "1       1     49           16716     341.142857\n",
       "2       2     51          119921    2351.392157\n",
       "3       3     46            5770     125.434783\n",
       "4       4     48             572      11.916667\n",
       "5       5     49            6048     123.428571\n",
       "6       6     50           25424     508.480000\n",
       "7       7     49            7252     148.000000\n",
       "8       8     55            3240      58.909091\n",
       "9       9     48             248       5.166667\n",
       "10     10     57           12401     217.561404\n",
       "...    ...    ...         ...       ...        \n",
       "139401 358708 44           2063       46.88636 \n",
       "139402 358709 49           2157       44.02041 \n",
       "139403 358710 47           1104       23.48936 \n",
       "139404 358711 54          14840      274.81481 \n",
       "139405 358712 48           8816      183.66667 \n",
       "139406 358713 42           2933       69.83333 \n",
       "139407 358714 48          15064      313.83333 \n",
       "139408 358715 42            811       19.30952 \n",
       "139409 358716 40            419       10.47500 \n",
       "139410 358717  7          10344     1477.71429 "
      ]
     },
     "metadata": {},
     "output_type": "display_data"
    }
   ],
   "source": [
    "user.summary = play_counts %>%\n",
    "    filter(!is.na(count)) %>%\n",
    "    group_by(user) %>%\n",
    "    summarize(ArtistCount=n(),\n",
    "              PlayCount=sum(count),\n",
    "              MeanPlays=mean(count))\n",
    "user.summary"
   ]
  },
  {
   "cell_type": "code",
   "execution_count": 27,
   "metadata": {
    "collapsed": false
   },
   "outputs": [
    {
     "data": {
      "text/plain": [
       "  ArtistCount       PlayCount        MeanPlays      \n",
       " Min.   :  1.00   Min.   :     1   Min.   :    1.0  \n",
       " 1st Qu.: 45.00   1st Qu.:  2323   1st Qu.:   50.1  \n",
       " Median : 48.00   Median :  6020   Median :  125.1  \n",
       " Mean   : 47.94   Mean   : 10296   Mean   :  213.8  \n",
       " 3rd Qu.: 51.00   3rd Qu.: 12887   3rd Qu.:  265.0  \n",
       " Max.   :149.00   Max.   :428354   Max.   :17794.6  "
      ]
     },
     "metadata": {},
     "output_type": "display_data"
    }
   ],
   "source": [
    "summary(select(user.summary, -user))"
   ]
  },
  {
   "cell_type": "code",
   "execution_count": 23,
   "metadata": {
    "collapsed": false
   },
   "outputs": [
    {
     "data": {},
     "metadata": {},
     "output_type": "display_data"
    },
    {
     "data": {
      "image/png": "[encoded data removed]",
      "text/plain": [
       "plot without title"
      ]
     },
     "metadata": {},
     "output_type": "display_data"
    }
   ],
   "source": [
    "ggplot(melt(user.summary, id.vars = \"user\")) +\n",
    "    aes(x=value) +\n",
    "    geom_histogram(bins=50) +\n",
    "    facet_grid(~ variable, scales=\"free\")"
   ]
  },
  {
   "cell_type": "code",
   "execution_count": 11,
   "metadata": {
    "collapsed": false
   },
   "outputs": [
    {
     "data": {
      "text/html": [
       "<table>\n",
       "<thead><tr><th scope=col>item</th><th scope=col>UserCount</th><th scope=col>PlayCount</th><th scope=col>MeanPlays</th></tr></thead>\n",
       "<tbody>\n",
       "\t<tr><td> 1      </td><td>   38   </td><td>   6445 </td><td>169.6053</td></tr>\n",
       "\t<tr><td> 2      </td><td> 3334   </td><td>1472716 </td><td>441.7265</td></tr>\n",
       "\t<tr><td> 3      </td><td>  360   </td><td>  70100 </td><td>194.7222</td></tr>\n",
       "\t<tr><td> 4      </td><td>  592   </td><td> 171508 </td><td>289.7095</td></tr>\n",
       "\t<tr><td> 5      </td><td>  516   </td><td>  94094 </td><td>182.3527</td></tr>\n",
       "\t<tr><td> 6      </td><td>18815   </td><td>5182190 </td><td>275.4286</td></tr>\n",
       "\t<tr><td> 7      </td><td>   84   </td><td>  17953 </td><td>213.7262</td></tr>\n",
       "\t<tr><td> 8      </td><td> 1202   </td><td> 392386 </td><td>326.4443</td></tr>\n",
       "\t<tr><td> 9      </td><td>   95   </td><td>  22695 </td><td>238.8947</td></tr>\n",
       "\t<tr><td>10      </td><td>  109   </td><td>  28980 </td><td>265.8716</td></tr>\n",
       "\t<tr><td>...</td><td>...</td><td>...</td><td>...</td></tr>\n",
       "\t<tr><td>126158</td><td>1     </td><td> 62   </td><td> 62   </td></tr>\n",
       "\t<tr><td>126159</td><td>1     </td><td> 40   </td><td> 40   </td></tr>\n",
       "\t<tr><td>126160</td><td>1     </td><td> 14   </td><td> 14   </td></tr>\n",
       "\t<tr><td>126161</td><td>1     </td><td>200   </td><td>200   </td></tr>\n",
       "\t<tr><td>126162</td><td>1     </td><td>177   </td><td>177   </td></tr>\n",
       "\t<tr><td>126163</td><td>1     </td><td> 17   </td><td> 17   </td></tr>\n",
       "\t<tr><td>126164</td><td>1     </td><td> 72   </td><td> 72   </td></tr>\n",
       "\t<tr><td>126165</td><td>1     </td><td> 31   </td><td> 31   </td></tr>\n",
       "\t<tr><td>126166</td><td>1     </td><td> 26   </td><td> 26   </td></tr>\n",
       "\t<tr><td>126167</td><td>1     </td><td>  8   </td><td>  8   </td></tr>\n",
       "</tbody>\n",
       "</table>\n"
      ],
      "text/latex": [
       "\\begin{tabular}{r|llll}\n",
       " item & UserCount & PlayCount & MeanPlays\\\\\n",
       "\\hline\n",
       "\t  1       &    38    &    6445  & 169.6053\\\\\n",
       "\t  2       &  3334    & 1472716  & 441.7265\\\\\n",
       "\t  3       &   360    &   70100  & 194.7222\\\\\n",
       "\t  4       &   592    &  171508  & 289.7095\\\\\n",
       "\t  5       &   516    &   94094  & 182.3527\\\\\n",
       "\t  6       & 18815    & 5182190  & 275.4286\\\\\n",
       "\t  7       &    84    &   17953  & 213.7262\\\\\n",
       "\t  8       &  1202    &  392386  & 326.4443\\\\\n",
       "\t  9       &    95    &   22695  & 238.8947\\\\\n",
       "\t 10       &   109    &   28980  & 265.8716\\\\\n",
       "\t ... & ... & ... & ...\\\\\n",
       "\t 126158 & 1      &  62    &  62   \\\\\n",
       "\t 126159 & 1      &  40    &  40   \\\\\n",
       "\t 126160 & 1      &  14    &  14   \\\\\n",
       "\t 126161 & 1      & 200    & 200   \\\\\n",
       "\t 126162 & 1      & 177    & 177   \\\\\n",
       "\t 126163 & 1      &  17    &  17   \\\\\n",
       "\t 126164 & 1      &  72    &  72   \\\\\n",
       "\t 126165 & 1      &  31    &  31   \\\\\n",
       "\t 126166 & 1      &  26    &  26   \\\\\n",
       "\t 126167 & 1      &   8    &   8   \\\\\n",
       "\\end{tabular}\n"
      ],
      "text/markdown": [
       "\n",
       "item | UserCount | PlayCount | MeanPlays | \n",
       "|---|---|---|---|---|---|---|---|---|---|---|---|---|---|---|---|---|---|---|---|---|\n",
       "|  1       |    38    |    6445  | 169.6053 | \n",
       "|  2       |  3334    | 1472716  | 441.7265 | \n",
       "|  3       |   360    |   70100  | 194.7222 | \n",
       "|  4       |   592    |  171508  | 289.7095 | \n",
       "|  5       |   516    |   94094  | 182.3527 | \n",
       "|  6       | 18815    | 5182190  | 275.4286 | \n",
       "|  7       |    84    |   17953  | 213.7262 | \n",
       "|  8       |  1202    |  392386  | 326.4443 | \n",
       "|  9       |    95    |   22695  | 238.8947 | \n",
       "| 10       |   109    |   28980  | 265.8716 | \n",
       "| ... | ... | ... | ... | \n",
       "| 126158 | 1      |  62    |  62    | \n",
       "| 126159 | 1      |  40    |  40    | \n",
       "| 126160 | 1      |  14    |  14    | \n",
       "| 126161 | 1      | 200    | 200    | \n",
       "| 126162 | 1      | 177    | 177    | \n",
       "| 126163 | 1      |  17    |  17    | \n",
       "| 126164 | 1      |  72    |  72    | \n",
       "| 126165 | 1      |  31    |  31    | \n",
       "| 126166 | 1      |  26    |  26    | \n",
       "| 126167 | 1      |   8    |   8    | \n",
       "\n",
       "\n"
      ],
      "text/plain": [
       "       item   UserCount PlayCount MeanPlays\n",
       "1       1        38        6445   169.6053 \n",
       "2       2      3334     1472716   441.7265 \n",
       "3       3       360       70100   194.7222 \n",
       "4       4       592      171508   289.7095 \n",
       "5       5       516       94094   182.3527 \n",
       "6       6     18815     5182190   275.4286 \n",
       "7       7        84       17953   213.7262 \n",
       "8       8      1202      392386   326.4443 \n",
       "9       9        95       22695   238.8947 \n",
       "10     10       109       28980   265.8716 \n",
       "...    ...    ...       ...       ...      \n",
       "126156 126158 1          62        62      \n",
       "126157 126159 1          40        40      \n",
       "126158 126160 1          14        14      \n",
       "126159 126161 1         200       200      \n",
       "126160 126162 1         177       177      \n",
       "126161 126163 1          17        17      \n",
       "126162 126164 1          72        72      \n",
       "126163 126165 1          31        31      \n",
       "126164 126166 1          26        26      \n",
       "126165 126167 1           8         8      "
      ]
     },
     "metadata": {},
     "output_type": "display_data"
    }
   ],
   "source": [
    "artist.summary = play_counts %>%\n",
    "    filter(!is.na(count)) %>%\n",
    "    group_by(item) %>%\n",
    "    summarize(UserCount=n(),\n",
    "              PlayCount=sum(count),\n",
    "              MeanPlays=mean(count))\n",
    "artist.summary"
   ]
  },
  {
   "cell_type": "code",
   "execution_count": 26,
   "metadata": {
    "collapsed": false
   },
   "outputs": [
    {
     "data": {
      "text/plain": [
       "   UserCount          PlayCount          MeanPlays       \n",
       " Min.   :    1.00   Min.   :       1   Min.   :    1.00  \n",
       " 1st Qu.:    1.00   1st Qu.:      91   1st Qu.:   43.71  \n",
       " Median :    4.00   Median :     409   Median :   99.06  \n",
       " Mean   :   52.98   Mean   :   11377   Mean   :  140.24  \n",
       " 3rd Qu.:   14.00   3rd Qu.:    1974   3rd Qu.:  178.00  \n",
       " Max.   :29835.00   Max.   :11736130   Max.   :16647.33  "
      ]
     },
     "metadata": {},
     "output_type": "display_data"
    }
   ],
   "source": [
    "summary(select(artist.summary, -item))"
   ]
  },
  {
   "cell_type": "code",
   "execution_count": 25,
   "metadata": {
    "collapsed": false
   },
   "outputs": [
    {
     "data": {},
     "metadata": {},
     "output_type": "display_data"
    },
    {
     "data": {
      "image/png": "[encoded data removed]",
      "text/plain": [
       "plot without title"
      ]
     },
     "metadata": {},
     "output_type": "display_data"
    }
   ],
   "source": [
    "ggplot(melt(artist.summary, id.vars = \"item\")) +\n",
    "    aes(x=value) +\n",
    "    geom_histogram(bins=50) +\n",
    "    facet_grid(~ variable, scales=\"free\")"
   ]
  },
  {
   "cell_type": "markdown",
   "metadata": {},
   "source": [
    "## Demographic Summary"
   ]
  },
  {
   "cell_type": "code",
   "execution_count": 48,
   "metadata": {
    "collapsed": false
   },
   "outputs": [
    {
     "data": {},
     "metadata": {},
     "output_type": "display_data"
    },
    {
     "data": {
      "image/png": "[encoded data removed]",
      "text/plain": [
       "plot without title"
      ]
     },
     "metadata": {},
     "output_type": "display_data"
    }
   ],
   "source": [
    "ggplot(users) +\n",
    "    aes(x=gender) +\n",
    "    geom_bar()"
   ]
  },
  {
   "cell_type": "code",
   "execution_count": 44,
   "metadata": {
    "collapsed": true
   },
   "outputs": [],
   "source": [
    "?stat_bin"
   ]
  },
  {
   "cell_type": "code",
   "execution_count": 34,
   "metadata": {
    "collapsed": false
   },
   "outputs": [
    {
     "name": "stderr",
     "output_type": "stream",
     "text": [
      "`stat_bin()` using `bins = 30`. Pick better value with `binwidth`.\n"
     ]
    },
    {
     "data": {},
     "metadata": {},
     "output_type": "display_data"
    },
    {
     "data": {
      "image/png": "[encoded data removed]",
      "text/plain": [
       "plot without title"
      ]
     },
     "metadata": {},
     "output_type": "display_data"
    }
   ],
   "source": [
    "ggplot(users %>% filter(age >= 0, age < 100)) +\n",
    "    aes(x=age) +\n",
    "    geom_histogram()"
   ]
  },
  {
   "cell_type": "markdown",
   "metadata": {},
   "source": [
    "## Split Summary by Demographics"
   ]
  },
  {
   "cell_type": "code",
   "execution_count": 36,
   "metadata": {
    "collapsed": false
   },
   "outputs": [
    {
     "name": "stderr",
     "output_type": "stream",
     "text": [
      "Joining, by = \"user\"\n"
     ]
    }
   ],
   "source": [
    "udata = users %>% rename(user=id) %>% inner_join(user.summary)"
   ]
  },
  {
   "cell_type": "code",
   "execution_count": 38,
   "metadata": {
    "collapsed": false
   },
   "outputs": [
    {
     "name": "stderr",
     "output_type": "stream",
     "text": [
      "`stat_bin()` using `bins = 30`. Pick better value with `binwidth`.\n"
     ]
    },
    {
     "data": {},
     "metadata": {},
     "output_type": "display_data"
    },
    {
     "data": {
      "image/png": "[encoded data removed]",
      "text/plain": [
       "plot without title"
      ]
     },
     "metadata": {},
     "output_type": "display_data"
    }
   ],
   "source": [
    "ggplot(udata) +\n",
    "    aes(x=ArtistCount) +\n",
    "    geom_histogram() +\n",
    "    facet_grid(~ gender, scales=\"free\")"
   ]
  },
  {
   "cell_type": "code",
   "execution_count": 49,
   "metadata": {
    "collapsed": false
   },
   "outputs": [
    {
     "name": "stderr",
     "output_type": "stream",
     "text": [
      "`stat_bin()` using `bins = 30`. Pick better value with `binwidth`.\n"
     ]
    },
    {
     "data": {},
     "metadata": {},
     "output_type": "display_data"
    },
    {
     "data": {
      "image/png": "[encoded data removed]",
      "text/plain": [
       "plot without title"
      ]
     },
     "metadata": {},
     "output_type": "display_data"
    }
   ],
   "source": [
    "ggplot(udata) +\n",
    "    aes(x=PlayCount) +\n",
    "    geom_histogram() +\n",
    "    facet_grid(~ gender, scales=\"free\")"
   ]
  },
  {
   "cell_type": "code",
   "execution_count": 43,
   "metadata": {
    "collapsed": false
   },
   "outputs": [
    {
     "data": {},
     "metadata": {},
     "output_type": "display_data"
    },
    {
     "data": {
      "image/png": "[encoded data removed]",
      "text/plain": [
       "plot without title"
      ]
     },
     "metadata": {},
     "output_type": "display_data"
    }
   ],
   "source": [
    "ggplot(udata %>% group_by(gender) %>% summarize(plays=sum(PlayCount))) +\n",
    "    aes(x=gender, y=plays) +\n",
    "    geom_bar(stat='identity')"
   ]
  },
  {
   "cell_type": "code",
   "execution_count": null,
   "metadata": {
    "collapsed": true
   },
   "outputs": [],
   "source": []
  }
 ],
 "metadata": {
  "kernelspec": {
   "display_name": "R",
   "language": "R",
   "name": "ir"
  },
  "language_info": {
   "codemirror_mode": "r",
   "file_extension": ".r",
   "mimetype": "text/x-r-source",
   "name": "R",
   "pygments_lexer": "r",
   "version": "3.3.2"
  }
 },
 "nbformat": 4,
 "nbformat_minor": 2
}
