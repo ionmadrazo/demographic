{
 "cells": [
  {
   "cell_type": "markdown",
   "metadata": {},
   "source": [
    "# LastFM Output Analysis"
   ]
  },
  {
   "cell_type": "markdown",
   "metadata": {},
   "source": [
    "## Setup\n",
    "\n",
    "Libraries:"
   ]
  },
  {
   "cell_type": "code",
   "execution_count": 1,
   "metadata": {
    "collapsed": false
   },
   "outputs": [
    {
     "name": "stderr",
     "output_type": "stream",
     "text": [
      "\n",
      "Attaching package: 'dplyr'\n",
      "\n",
      "The following objects are masked from 'package:plyr':\n",
      "\n",
      "    arrange, count, desc, failwith, id, mutate, rename, summarise,\n",
      "    summarize\n",
      "\n",
      "The following object is masked from 'package:MASS':\n",
      "\n",
      "    select\n",
      "\n",
      "The following objects are masked from 'package:stats':\n",
      "\n",
      "    filter, lag\n",
      "\n",
      "The following objects are masked from 'package:base':\n",
      "\n",
      "    intersect, setdiff, setequal, union\n",
      "\n"
     ]
    }
   ],
   "source": [
    "library(MASS)\n",
    "library(plyr)\n",
    "library(dplyr)\n",
    "library(readr)\n",
    "library(ggplot2)\n",
    "library(reshape2)"
   ]
  },
  {
   "cell_type": "markdown",
   "metadata": {},
   "source": [
    "Options:"
   ]
  },
  {
   "cell_type": "code",
   "execution_count": 2,
   "metadata": {
    "collapsed": true
   },
   "outputs": [],
   "source": [
    "options(repr.plot.height=5)\n",
    "options(repr.matrix.max.rows=20)\n",
    "options(repr.matrix.max.columns=10)"
   ]
  },
  {
   "cell_type": "markdown",
   "metadata": {},
   "source": [
    "## Input data"
   ]
  },
  {
   "cell_type": "code",
   "execution_count": 3,
   "metadata": {
    "collapsed": false
   },
   "outputs": [
    {
     "name": "stderr",
     "output_type": "stream",
     "text": [
      "Parsed with column specification:\n",
      "cols(\n",
      "  id = col_integer(),\n",
      "  key = col_character(),\n",
      "  gender = col_character(),\n",
      "  age = col_integer()\n",
      ")\n"
     ]
    },
    {
     "data": {
      "text/html": [
       "<table>\n",
       "<thead><tr><th scope=col>id</th><th scope=col>key</th><th scope=col>gender</th><th scope=col>age</th></tr></thead>\n",
       "<tbody>\n",
       "\t<tr><td> 1                                      </td><td>00000c289a1829a808ac09c00daf10bc3c4e223b</td><td>f                                       </td><td>22                                      </td></tr>\n",
       "\t<tr><td> 2                                      </td><td>00001411dc427966b17297bf4d69e7e193135d89</td><td>f                                       </td><td>NA                                      </td></tr>\n",
       "\t<tr><td> 3                                      </td><td>00004d2ac9316e22dc007ab2243d6fcb239e707d</td><td>NA                                      </td><td>NA                                      </td></tr>\n",
       "\t<tr><td> 4                                      </td><td>000063d3fe1cf2ba248b9e3c3f0334845a27a6bf</td><td>m                                       </td><td>19                                      </td></tr>\n",
       "\t<tr><td> 5                                      </td><td>00007a47085b9aab8af55f52ec8846ac479ac4fe</td><td>m                                       </td><td>28                                      </td></tr>\n",
       "\t<tr><td> 6                                      </td><td>0000c176103e538d5c9828e695fed4f7ae42dd01</td><td>m                                       </td><td>20                                      </td></tr>\n",
       "\t<tr><td> 7                                      </td><td>0000ee7dd906373efa37f4e1185bfe1e3f8695ae</td><td>m                                       </td><td>17                                      </td></tr>\n",
       "\t<tr><td> 8                                      </td><td>0000ef373bbd0d89ce796abae961f2705e8c1faf</td><td>f                                       </td><td>22                                      </td></tr>\n",
       "\t<tr><td> 9                                      </td><td>0000f687d4fe9c1ed49620fbc5ed5b0d7798ea20</td><td>f                                       </td><td>24                                      </td></tr>\n",
       "\t<tr><td>10                                      </td><td>0001399387da41d557219578fb08b12afa25ab67</td><td>m                                       </td><td>NA                                      </td></tr>\n",
       "\t<tr><td>...</td><td>...</td><td>...</td><td>...</td></tr>\n",
       "\t<tr><td>359338                                  </td><td>fffd3df081c03829a9ea4699e2d85e868d7a791b</td><td>f                                       </td><td>17                                      </td></tr>\n",
       "\t<tr><td>359339                                  </td><td>fffe1f0fc9eb1432b98eb25b2c950850796a4a8b</td><td>m                                       </td><td>26                                      </td></tr>\n",
       "\t<tr><td>359340                                  </td><td>fffe356b9dab2fae1f887fabb1f08ab4976c91bb</td><td>f                                       </td><td>23                                      </td></tr>\n",
       "\t<tr><td>359341                                  </td><td>fffe3e8eb1b2db8dcb3f3fe753552d5803d085f1</td><td>f                                       </td><td>19                                      </td></tr>\n",
       "\t<tr><td>359342                                  </td><td>fffe454af08a58c7bafe77491b586711f6b5e6f1</td><td>m                                       </td><td>28                                      </td></tr>\n",
       "\t<tr><td>359343                                  </td><td>fffe7823f67b433b45f22056467db921c1d3d7d0</td><td>m                                       </td><td>25                                      </td></tr>\n",
       "\t<tr><td>359344                                  </td><td>fffe8637bd8234309e871409c7ebef99a720afc1</td><td>m                                       </td><td>25                                      </td></tr>\n",
       "\t<tr><td>359345                                  </td><td>fffe8c7f952d9b960a56ed4dcb40a415d924b224</td><td>m                                       </td><td>20                                      </td></tr>\n",
       "\t<tr><td>359346                                  </td><td>ffff9af9ae04d263dae91cb838b1f3a6725f5ffb</td><td>m                                       </td><td>20                                      </td></tr>\n",
       "\t<tr><td>359347                                  </td><td>ffff9ef87a7d9494ada2f9ade4b9ff637c0759ac</td><td>m                                       </td><td>21                                      </td></tr>\n",
       "</tbody>\n",
       "</table>\n"
      ],
      "text/latex": [
       "\\begin{tabular}{r|llll}\n",
       " id & key & gender & age\\\\\n",
       "\\hline\n",
       "\t  1                                       & 00000c289a1829a808ac09c00daf10bc3c4e223b & f                                        & 22                                      \\\\\n",
       "\t  2                                       & 00001411dc427966b17297bf4d69e7e193135d89 & f                                        & NA                                      \\\\\n",
       "\t  3                                       & 00004d2ac9316e22dc007ab2243d6fcb239e707d & NA                                       & NA                                      \\\\\n",
       "\t  4                                       & 000063d3fe1cf2ba248b9e3c3f0334845a27a6bf & m                                        & 19                                      \\\\\n",
       "\t  5                                       & 00007a47085b9aab8af55f52ec8846ac479ac4fe & m                                        & 28                                      \\\\\n",
       "\t  6                                       & 0000c176103e538d5c9828e695fed4f7ae42dd01 & m                                        & 20                                      \\\\\n",
       "\t  7                                       & 0000ee7dd906373efa37f4e1185bfe1e3f8695ae & m                                        & 17                                      \\\\\n",
       "\t  8                                       & 0000ef373bbd0d89ce796abae961f2705e8c1faf & f                                        & 22                                      \\\\\n",
       "\t  9                                       & 0000f687d4fe9c1ed49620fbc5ed5b0d7798ea20 & f                                        & 24                                      \\\\\n",
       "\t 10                                       & 0001399387da41d557219578fb08b12afa25ab67 & m                                        & NA                                      \\\\\n",
       "\t ... & ... & ... & ...\\\\\n",
       "\t 359338                                   & fffd3df081c03829a9ea4699e2d85e868d7a791b & f                                        & 17                                      \\\\\n",
       "\t 359339                                   & fffe1f0fc9eb1432b98eb25b2c950850796a4a8b & m                                        & 26                                      \\\\\n",
       "\t 359340                                   & fffe356b9dab2fae1f887fabb1f08ab4976c91bb & f                                        & 23                                      \\\\\n",
       "\t 359341                                   & fffe3e8eb1b2db8dcb3f3fe753552d5803d085f1 & f                                        & 19                                      \\\\\n",
       "\t 359342                                   & fffe454af08a58c7bafe77491b586711f6b5e6f1 & m                                        & 28                                      \\\\\n",
       "\t 359343                                   & fffe7823f67b433b45f22056467db921c1d3d7d0 & m                                        & 25                                      \\\\\n",
       "\t 359344                                   & fffe8637bd8234309e871409c7ebef99a720afc1 & m                                        & 25                                      \\\\\n",
       "\t 359345                                   & fffe8c7f952d9b960a56ed4dcb40a415d924b224 & m                                        & 20                                      \\\\\n",
       "\t 359346                                   & ffff9af9ae04d263dae91cb838b1f3a6725f5ffb & m                                        & 20                                      \\\\\n",
       "\t 359347                                   & ffff9ef87a7d9494ada2f9ade4b9ff637c0759ac & m                                        & 21                                      \\\\\n",
       "\\end{tabular}\n"
      ],
      "text/markdown": [
       "\n",
       "id | key | gender | age | \n",
       "|---|---|---|---|---|---|---|---|---|---|---|---|---|---|---|---|---|---|---|---|---|\n",
       "|  1                                       | 00000c289a1829a808ac09c00daf10bc3c4e223b | f                                        | 22                                       | \n",
       "|  2                                       | 00001411dc427966b17297bf4d69e7e193135d89 | f                                        | NA                                       | \n",
       "|  3                                       | 00004d2ac9316e22dc007ab2243d6fcb239e707d | NA                                       | NA                                       | \n",
       "|  4                                       | 000063d3fe1cf2ba248b9e3c3f0334845a27a6bf | m                                        | 19                                       | \n",
       "|  5                                       | 00007a47085b9aab8af55f52ec8846ac479ac4fe | m                                        | 28                                       | \n",
       "|  6                                       | 0000c176103e538d5c9828e695fed4f7ae42dd01 | m                                        | 20                                       | \n",
       "|  7                                       | 0000ee7dd906373efa37f4e1185bfe1e3f8695ae | m                                        | 17                                       | \n",
       "|  8                                       | 0000ef373bbd0d89ce796abae961f2705e8c1faf | f                                        | 22                                       | \n",
       "|  9                                       | 0000f687d4fe9c1ed49620fbc5ed5b0d7798ea20 | f                                        | 24                                       | \n",
       "| 10                                       | 0001399387da41d557219578fb08b12afa25ab67 | m                                        | NA                                       | \n",
       "| ... | ... | ... | ... | \n",
       "| 359338                                   | fffd3df081c03829a9ea4699e2d85e868d7a791b | f                                        | 17                                       | \n",
       "| 359339                                   | fffe1f0fc9eb1432b98eb25b2c950850796a4a8b | m                                        | 26                                       | \n",
       "| 359340                                   | fffe356b9dab2fae1f887fabb1f08ab4976c91bb | f                                        | 23                                       | \n",
       "| 359341                                   | fffe3e8eb1b2db8dcb3f3fe753552d5803d085f1 | f                                        | 19                                       | \n",
       "| 359342                                   | fffe454af08a58c7bafe77491b586711f6b5e6f1 | m                                        | 28                                       | \n",
       "| 359343                                   | fffe7823f67b433b45f22056467db921c1d3d7d0 | m                                        | 25                                       | \n",
       "| 359344                                   | fffe8637bd8234309e871409c7ebef99a720afc1 | m                                        | 25                                       | \n",
       "| 359345                                   | fffe8c7f952d9b960a56ed4dcb40a415d924b224 | m                                        | 20                                       | \n",
       "| 359346                                   | ffff9af9ae04d263dae91cb838b1f3a6725f5ffb | m                                        | 20                                       | \n",
       "| 359347                                   | ffff9ef87a7d9494ada2f9ade4b9ff637c0759ac | m                                        | 21                                       | \n",
       "\n",
       "\n"
      ],
      "text/plain": [
       "       id     key                                      gender age\n",
       "1       1     00000c289a1829a808ac09c00daf10bc3c4e223b f      22 \n",
       "2       2     00001411dc427966b17297bf4d69e7e193135d89 f      NA \n",
       "3       3     00004d2ac9316e22dc007ab2243d6fcb239e707d NA     NA \n",
       "4       4     000063d3fe1cf2ba248b9e3c3f0334845a27a6bf m      19 \n",
       "5       5     00007a47085b9aab8af55f52ec8846ac479ac4fe m      28 \n",
       "6       6     0000c176103e538d5c9828e695fed4f7ae42dd01 m      20 \n",
       "7       7     0000ee7dd906373efa37f4e1185bfe1e3f8695ae m      17 \n",
       "8       8     0000ef373bbd0d89ce796abae961f2705e8c1faf f      22 \n",
       "9       9     0000f687d4fe9c1ed49620fbc5ed5b0d7798ea20 f      24 \n",
       "10     10     0001399387da41d557219578fb08b12afa25ab67 m      NA \n",
       "...    ...    ...                                      ...    ...\n",
       "359338 359338 fffd3df081c03829a9ea4699e2d85e868d7a791b f      17 \n",
       "359339 359339 fffe1f0fc9eb1432b98eb25b2c950850796a4a8b m      26 \n",
       "359340 359340 fffe356b9dab2fae1f887fabb1f08ab4976c91bb f      23 \n",
       "359341 359341 fffe3e8eb1b2db8dcb3f3fe753552d5803d085f1 f      19 \n",
       "359342 359342 fffe454af08a58c7bafe77491b586711f6b5e6f1 m      28 \n",
       "359343 359343 fffe7823f67b433b45f22056467db921c1d3d7d0 m      25 \n",
       "359344 359344 fffe8637bd8234309e871409c7ebef99a720afc1 m      25 \n",
       "359345 359345 fffe8c7f952d9b960a56ed4dcb40a415d924b224 m      20 \n",
       "359346 359346 ffff9af9ae04d263dae91cb838b1f3a6725f5ffb m      20 \n",
       "359347 359347 ffff9ef87a7d9494ada2f9ade4b9ff637c0759ac m      21 "
      ]
     },
     "metadata": {},
     "output_type": "display_data"
    }
   ],
   "source": [
    "users.meta = read_csv(\"build/lastfm-users.csv\") %>%\n",
    "    mutate(gender=as.factor(gender),\n",
    "           age=as.factor(age))\n",
    "users.meta"
   ]
  },
  {
   "cell_type": "code",
   "execution_count": 4,
   "metadata": {
    "collapsed": false
   },
   "outputs": [
    {
     "name": "stderr",
     "output_type": "stream",
     "text": [
      "Parsed with column specification:\n",
      "cols(\n",
      "  DataSet = col_character(),\n",
      "  Partition = col_integer(),\n",
      "  Algorithm = col_character(),\n",
      "  User = col_integer(),\n",
      "  TestTime = col_double(),\n",
      "  TopN.nDCG = col_double(),\n",
      "  Rank = col_integer(),\n",
      "  RecipRank = col_double(),\n",
      "  AvgPrec = col_double(),\n",
      "  Precision = col_double(),\n",
      "  Recall = col_double(),\n",
      "  F1 = col_double(),\n",
      "  `1R.TopN.nDCG` = col_character(),\n",
      "  `1R.Rank` = col_character(),\n",
      "  `1R.RecipRank` = col_character(),\n",
      "  `1R.AvgPrec` = col_character(),\n",
      "  `1R.Precision` = col_character(),\n",
      "  `1R.Recall` = col_character(),\n",
      "  `1R.F1` = col_character()\n",
      ")\n",
      "Joining, by = \"user\"\n"
     ]
    },
    {
     "data": {
      "text/html": [
       "<table>\n",
       "<thead><tr><th scope=col>DataSet</th><th scope=col>Partition</th><th scope=col>Algorithm</th><th scope=col>user</th><th scope=col>TestTime</th><th scope=col>TopN.nDCG</th><th scope=col>Rank</th><th scope=col>RecipRank</th><th scope=col>AvgPrec</th><th scope=col>Precision</th><th scope=col>...</th><th scope=col>F1</th><th scope=col>1R.TopN.nDCG</th><th scope=col>1R.Rank</th><th scope=col>1R.RecipRank</th><th scope=col>1R.AvgPrec</th><th scope=col>1R.Precision</th><th scope=col>1R.Recall</th><th scope=col>1R.F1</th><th scope=col>gender</th><th scope=col>age</th></tr></thead>\n",
       "<tbody>\n",
       "\t<tr><td>LastFM.UI </td><td>2         </td><td>PopCt     </td><td>11        </td><td>0.274     </td><td>NaN       </td><td>NA        </td><td>0.0000000 </td><td>0.0000000 </td><td>0.00      </td><td>...       </td><td>0.00000000</td><td>NA        </td><td>NA        </td><td>NA        </td><td>NA        </td><td>NA        </td><td>NA        </td><td>NA        </td><td>m         </td><td>27        </td></tr>\n",
       "\t<tr><td>LastFM.UI </td><td>2         </td><td>Pop       </td><td>11        </td><td>0.287     </td><td>NaN       </td><td>NA        </td><td>0.0000000 </td><td>0.0000000 </td><td>0.00      </td><td>...       </td><td>0.00000000</td><td>NA        </td><td>NA        </td><td>NA        </td><td>NA        </td><td>NA        </td><td>NA        </td><td>NA        </td><td>m         </td><td>27        </td></tr>\n",
       "\t<tr><td>LastFM    </td><td>1         </td><td>Pop       </td><td>69        </td><td>0.452     </td><td>NaN       </td><td>NA        </td><td>0.0000000 </td><td>0.0000000 </td><td>0.00      </td><td>...       </td><td>0.00000000</td><td>NA        </td><td>NA        </td><td>NA        </td><td>NA        </td><td>NA        </td><td>NA        </td><td>NA        </td><td>f         </td><td>23        </td></tr>\n",
       "\t<tr><td>LastFM.UI </td><td>3         </td><td>Pop       </td><td> 1        </td><td>0.350     </td><td>NaN       </td><td>NA        </td><td>0.0000000 </td><td>0.0000000 </td><td>0.00      </td><td>...       </td><td>0.00000000</td><td>NA        </td><td>NA        </td><td>NA        </td><td>NA        </td><td>NA        </td><td>NA        </td><td>NA        </td><td>f         </td><td>22        </td></tr>\n",
       "\t<tr><td>LastFM.UI </td><td>3         </td><td>PopCt     </td><td> 1        </td><td>0.341     </td><td>NaN       </td><td>NA        </td><td>0.0000000 </td><td>0.0000000 </td><td>0.00      </td><td>...       </td><td>0.00000000</td><td>NA        </td><td>NA        </td><td>NA        </td><td>NA        </td><td>NA        </td><td>NA        </td><td>NA        </td><td>f         </td><td>22        </td></tr>\n",
       "\t<tr><td>LastFM.UI </td><td>4         </td><td>Pop       </td><td>70        </td><td>0.303     </td><td>NaN       </td><td>NA        </td><td>0.0000000 </td><td>0.0000000 </td><td>0.00      </td><td>...       </td><td>0.00000000</td><td>NA        </td><td>NA        </td><td>NA        </td><td>NA        </td><td>NA        </td><td>NA        </td><td>NA        </td><td>f         </td><td>22        </td></tr>\n",
       "\t<tr><td>LastFM.UI </td><td>2         </td><td>PopCt     </td><td>21        </td><td>0.093     </td><td>NaN       </td><td>NA        </td><td>0.0000000 </td><td>0.0000000 </td><td>0.00      </td><td>...       </td><td>0.00000000</td><td>NA        </td><td>NA        </td><td>NA        </td><td>NA        </td><td>NA        </td><td>NA        </td><td>NA        </td><td>m         </td><td>NA        </td></tr>\n",
       "\t<tr><td>LastFM.UI </td><td>4         </td><td>PopCt     </td><td>70        </td><td>0.283     </td><td>NaN       </td><td>NA        </td><td>0.0000000 </td><td>0.0000000 </td><td>0.00      </td><td>...       </td><td>0.00000000</td><td>NA        </td><td>NA        </td><td>NA        </td><td>NA        </td><td>NA        </td><td>NA        </td><td>NA        </td><td>f         </td><td>22        </td></tr>\n",
       "\t<tr><td>LastFM.UI </td><td>2         </td><td>Pop       </td><td>21        </td><td>0.089     </td><td>NaN       </td><td>NA        </td><td>0.0000000 </td><td>0.0000000 </td><td>0.00      </td><td>...       </td><td>0.00000000</td><td>NA        </td><td>NA        </td><td>NA        </td><td>NA        </td><td>NA        </td><td>NA        </td><td>NA        </td><td>m         </td><td>NA        </td></tr>\n",
       "\t<tr><td>LastFM    </td><td>1         </td><td>Pop       </td><td>92        </td><td>0.086     </td><td>NaN       </td><td> 3        </td><td>0.3333333 </td><td>0.1766667 </td><td>0.02      </td><td>...       </td><td>0.03809524</td><td>NA        </td><td>NA        </td><td>NA        </td><td>NA        </td><td>NA        </td><td>NA        </td><td>NA        </td><td>m         </td><td>27        </td></tr>\n",
       "\t<tr><td>...</td><td>...</td><td>...</td><td>...</td><td>...</td><td>...</td><td>...</td><td>...</td><td>...</td><td>...</td><td>   </td><td>...</td><td>...</td><td>...</td><td>...</td><td>...</td><td>...</td><td>...</td><td>...</td><td>...</td><td>...</td></tr>\n",
       "\t<tr><td>LastFM    </td><td>1         </td><td>II-B      </td><td>358474    </td><td>1.182     </td><td>NaN       </td><td>20        </td><td>0.05000000</td><td>0.04318182</td><td>0.02      </td><td>...       </td><td>0.03809524</td><td>NA        </td><td>NA        </td><td>NA        </td><td>NA        </td><td>NA        </td><td>NA        </td><td>NA        </td><td>m         </td><td>19        </td></tr>\n",
       "\t<tr><td>LastFM    </td><td>1         </td><td>II-B      </td><td>358502    </td><td>1.367     </td><td>NaN       </td><td> 3        </td><td>0.33333333</td><td>0.24982747</td><td>0.03      </td><td>...       </td><td>0.05714286</td><td>NA        </td><td>NA        </td><td>NA        </td><td>NA        </td><td>NA        </td><td>NA        </td><td>NA        </td><td>f         </td><td>21        </td></tr>\n",
       "\t<tr><td>LastFM    </td><td>1         </td><td>II-B      </td><td>358533    </td><td>1.495     </td><td>NaN       </td><td> 1        </td><td>1.00000000</td><td>0.36844505</td><td>0.03      </td><td>...       </td><td>0.05714286</td><td>NA        </td><td>NA        </td><td>NA        </td><td>NA        </td><td>NA        </td><td>NA        </td><td>NA        </td><td>m         </td><td>30        </td></tr>\n",
       "\t<tr><td>LastFM    </td><td>1         </td><td>II-B      </td><td>358581    </td><td>1.551     </td><td>NaN       </td><td>11        </td><td>0.09090909</td><td>0.09090909</td><td>0.01      </td><td>...       </td><td>0.01904762</td><td>NA        </td><td>NA        </td><td>NA        </td><td>NA        </td><td>NA        </td><td>NA        </td><td>NA        </td><td>m         </td><td>25        </td></tr>\n",
       "\t<tr><td>LastFM    </td><td>1         </td><td>II-B      </td><td>358587    </td><td>1.615     </td><td>NaN       </td><td> 1        </td><td>1.00000000</td><td>1.00000000</td><td>0.02      </td><td>...       </td><td>0.03809524</td><td>NA        </td><td>NA        </td><td>NA        </td><td>NA        </td><td>NA        </td><td>NA        </td><td>NA        </td><td>m         </td><td>NA        </td></tr>\n",
       "\t<tr><td>LastFM    </td><td>1         </td><td>II-B      </td><td>358646    </td><td>1.559     </td><td>NaN       </td><td> 4        </td><td>0.25000000</td><td>0.14500000</td><td>0.02      </td><td>...       </td><td>0.03809524</td><td>NA        </td><td>NA        </td><td>NA        </td><td>NA        </td><td>NA        </td><td>NA        </td><td>NA        </td><td>f         </td><td>26        </td></tr>\n",
       "\t<tr><td>LastFM    </td><td>1         </td><td>II-B      </td><td>358661    </td><td>1.494     </td><td>NaN       </td><td>20        </td><td>0.05000000</td><td>0.04329237</td><td>0.03      </td><td>...       </td><td>0.05714286</td><td>NA        </td><td>NA        </td><td>NA        </td><td>NA        </td><td>NA        </td><td>NA        </td><td>NA        </td><td>m         </td><td>31        </td></tr>\n",
       "\t<tr><td>LastFM    </td><td>1         </td><td>II-B      </td><td>358667    </td><td>1.588     </td><td>NaN       </td><td>17        </td><td>0.05882353</td><td>0.06181564</td><td>0.03      </td><td>...       </td><td>0.05714286</td><td>NA        </td><td>NA        </td><td>NA        </td><td>NA        </td><td>NA        </td><td>NA        </td><td>NA        </td><td>m         </td><td>20        </td></tr>\n",
       "\t<tr><td>LastFM    </td><td>1         </td><td>II-B      </td><td>358707    </td><td>1.479     </td><td>NaN       </td><td>37        </td><td>0.02702703</td><td>0.02702703</td><td>0.01      </td><td>...       </td><td>0.01904762</td><td>NA        </td><td>NA        </td><td>NA        </td><td>NA        </td><td>NA        </td><td>NA        </td><td>NA        </td><td>m         </td><td>31        </td></tr>\n",
       "\t<tr><td>LastFM    </td><td>1         </td><td>II-B      </td><td>358714    </td><td>1.461     </td><td>NaN       </td><td> 2        </td><td>0.50000000</td><td>0.27696742</td><td>0.05      </td><td>...       </td><td>0.09523810</td><td>NA        </td><td>NA        </td><td>NA        </td><td>NA        </td><td>NA        </td><td>NA        </td><td>NA        </td><td>m         </td><td>21        </td></tr>\n",
       "</tbody>\n",
       "</table>\n"
      ],
      "text/latex": [
       "\\begin{tabular}{r|lllllllllllllllllllll}\n",
       " DataSet & Partition & Algorithm & user & TestTime & TopN.nDCG & Rank & RecipRank & AvgPrec & Precision & ... & F1 & 1R.TopN.nDCG & 1R.Rank & 1R.RecipRank & 1R.AvgPrec & 1R.Precision & 1R.Recall & 1R.F1 & gender & age\\\\\n",
       "\\hline\n",
       "\t LastFM.UI  & 2          & PopCt      & 11         & 0.274      & NaN        & NA         & 0.0000000  & 0.0000000  & 0.00       & ...        & 0.00000000 & NA         & NA         & NA         & NA         & NA         & NA         & NA         & m          & 27        \\\\\n",
       "\t LastFM.UI  & 2          & Pop        & 11         & 0.287      & NaN        & NA         & 0.0000000  & 0.0000000  & 0.00       & ...        & 0.00000000 & NA         & NA         & NA         & NA         & NA         & NA         & NA         & m          & 27        \\\\\n",
       "\t LastFM     & 1          & Pop        & 69         & 0.452      & NaN        & NA         & 0.0000000  & 0.0000000  & 0.00       & ...        & 0.00000000 & NA         & NA         & NA         & NA         & NA         & NA         & NA         & f          & 23        \\\\\n",
       "\t LastFM.UI  & 3          & Pop        &  1         & 0.350      & NaN        & NA         & 0.0000000  & 0.0000000  & 0.00       & ...        & 0.00000000 & NA         & NA         & NA         & NA         & NA         & NA         & NA         & f          & 22        \\\\\n",
       "\t LastFM.UI  & 3          & PopCt      &  1         & 0.341      & NaN        & NA         & 0.0000000  & 0.0000000  & 0.00       & ...        & 0.00000000 & NA         & NA         & NA         & NA         & NA         & NA         & NA         & f          & 22        \\\\\n",
       "\t LastFM.UI  & 4          & Pop        & 70         & 0.303      & NaN        & NA         & 0.0000000  & 0.0000000  & 0.00       & ...        & 0.00000000 & NA         & NA         & NA         & NA         & NA         & NA         & NA         & f          & 22        \\\\\n",
       "\t LastFM.UI  & 2          & PopCt      & 21         & 0.093      & NaN        & NA         & 0.0000000  & 0.0000000  & 0.00       & ...        & 0.00000000 & NA         & NA         & NA         & NA         & NA         & NA         & NA         & m          & NA        \\\\\n",
       "\t LastFM.UI  & 4          & PopCt      & 70         & 0.283      & NaN        & NA         & 0.0000000  & 0.0000000  & 0.00       & ...        & 0.00000000 & NA         & NA         & NA         & NA         & NA         & NA         & NA         & f          & 22        \\\\\n",
       "\t LastFM.UI  & 2          & Pop        & 21         & 0.089      & NaN        & NA         & 0.0000000  & 0.0000000  & 0.00       & ...        & 0.00000000 & NA         & NA         & NA         & NA         & NA         & NA         & NA         & m          & NA        \\\\\n",
       "\t LastFM     & 1          & Pop        & 92         & 0.086      & NaN        &  3         & 0.3333333  & 0.1766667  & 0.02       & ...        & 0.03809524 & NA         & NA         & NA         & NA         & NA         & NA         & NA         & m          & 27        \\\\\n",
       "\t ... & ... & ... & ... & ... & ... & ... & ... & ... & ... &     & ... & ... & ... & ... & ... & ... & ... & ... & ... & ...\\\\\n",
       "\t LastFM     & 1          & II-B       & 358474     & 1.182      & NaN        & 20         & 0.05000000 & 0.04318182 & 0.02       & ...        & 0.03809524 & NA         & NA         & NA         & NA         & NA         & NA         & NA         & m          & 19        \\\\\n",
       "\t LastFM     & 1          & II-B       & 358502     & 1.367      & NaN        &  3         & 0.33333333 & 0.24982747 & 0.03       & ...        & 0.05714286 & NA         & NA         & NA         & NA         & NA         & NA         & NA         & f          & 21        \\\\\n",
       "\t LastFM     & 1          & II-B       & 358533     & 1.495      & NaN        &  1         & 1.00000000 & 0.36844505 & 0.03       & ...        & 0.05714286 & NA         & NA         & NA         & NA         & NA         & NA         & NA         & m          & 30        \\\\\n",
       "\t LastFM     & 1          & II-B       & 358581     & 1.551      & NaN        & 11         & 0.09090909 & 0.09090909 & 0.01       & ...        & 0.01904762 & NA         & NA         & NA         & NA         & NA         & NA         & NA         & m          & 25        \\\\\n",
       "\t LastFM     & 1          & II-B       & 358587     & 1.615      & NaN        &  1         & 1.00000000 & 1.00000000 & 0.02       & ...        & 0.03809524 & NA         & NA         & NA         & NA         & NA         & NA         & NA         & m          & NA        \\\\\n",
       "\t LastFM     & 1          & II-B       & 358646     & 1.559      & NaN        &  4         & 0.25000000 & 0.14500000 & 0.02       & ...        & 0.03809524 & NA         & NA         & NA         & NA         & NA         & NA         & NA         & f          & 26        \\\\\n",
       "\t LastFM     & 1          & II-B       & 358661     & 1.494      & NaN        & 20         & 0.05000000 & 0.04329237 & 0.03       & ...        & 0.05714286 & NA         & NA         & NA         & NA         & NA         & NA         & NA         & m          & 31        \\\\\n",
       "\t LastFM     & 1          & II-B       & 358667     & 1.588      & NaN        & 17         & 0.05882353 & 0.06181564 & 0.03       & ...        & 0.05714286 & NA         & NA         & NA         & NA         & NA         & NA         & NA         & m          & 20        \\\\\n",
       "\t LastFM     & 1          & II-B       & 358707     & 1.479      & NaN        & 37         & 0.02702703 & 0.02702703 & 0.01       & ...        & 0.01904762 & NA         & NA         & NA         & NA         & NA         & NA         & NA         & m          & 31        \\\\\n",
       "\t LastFM     & 1          & II-B       & 358714     & 1.461      & NaN        &  2         & 0.50000000 & 0.27696742 & 0.05       & ...        & 0.09523810 & NA         & NA         & NA         & NA         & NA         & NA         & NA         & m          & 21        \\\\\n",
       "\\end{tabular}\n"
      ],
      "text/markdown": [
       "\n",
       "DataSet | Partition | Algorithm | user | TestTime | TopN.nDCG | Rank | RecipRank | AvgPrec | Precision | ... | F1 | 1R.TopN.nDCG | 1R.Rank | 1R.RecipRank | 1R.AvgPrec | 1R.Precision | 1R.Recall | 1R.F1 | gender | age | \n",
       "|---|---|---|---|---|---|---|---|---|---|---|---|---|---|---|---|---|---|---|---|---|\n",
       "| LastFM.UI  | 2          | PopCt      | 11         | 0.274      | NaN        | NA         | 0.0000000  | 0.0000000  | 0.00       | ...        | 0.00000000 | NA         | NA         | NA         | NA         | NA         | NA         | NA         | m          | 27         | \n",
       "| LastFM.UI  | 2          | Pop        | 11         | 0.287      | NaN        | NA         | 0.0000000  | 0.0000000  | 0.00       | ...        | 0.00000000 | NA         | NA         | NA         | NA         | NA         | NA         | NA         | m          | 27         | \n",
       "| LastFM     | 1          | Pop        | 69         | 0.452      | NaN        | NA         | 0.0000000  | 0.0000000  | 0.00       | ...        | 0.00000000 | NA         | NA         | NA         | NA         | NA         | NA         | NA         | f          | 23         | \n",
       "| LastFM.UI  | 3          | Pop        |  1         | 0.350      | NaN        | NA         | 0.0000000  | 0.0000000  | 0.00       | ...        | 0.00000000 | NA         | NA         | NA         | NA         | NA         | NA         | NA         | f          | 22         | \n",
       "| LastFM.UI  | 3          | PopCt      |  1         | 0.341      | NaN        | NA         | 0.0000000  | 0.0000000  | 0.00       | ...        | 0.00000000 | NA         | NA         | NA         | NA         | NA         | NA         | NA         | f          | 22         | \n",
       "| LastFM.UI  | 4          | Pop        | 70         | 0.303      | NaN        | NA         | 0.0000000  | 0.0000000  | 0.00       | ...        | 0.00000000 | NA         | NA         | NA         | NA         | NA         | NA         | NA         | f          | 22         | \n",
       "| LastFM.UI  | 2          | PopCt      | 21         | 0.093      | NaN        | NA         | 0.0000000  | 0.0000000  | 0.00       | ...        | 0.00000000 | NA         | NA         | NA         | NA         | NA         | NA         | NA         | m          | NA         | \n",
       "| LastFM.UI  | 4          | PopCt      | 70         | 0.283      | NaN        | NA         | 0.0000000  | 0.0000000  | 0.00       | ...        | 0.00000000 | NA         | NA         | NA         | NA         | NA         | NA         | NA         | f          | 22         | \n",
       "| LastFM.UI  | 2          | Pop        | 21         | 0.089      | NaN        | NA         | 0.0000000  | 0.0000000  | 0.00       | ...        | 0.00000000 | NA         | NA         | NA         | NA         | NA         | NA         | NA         | m          | NA         | \n",
       "| LastFM     | 1          | Pop        | 92         | 0.086      | NaN        |  3         | 0.3333333  | 0.1766667  | 0.02       | ...        | 0.03809524 | NA         | NA         | NA         | NA         | NA         | NA         | NA         | m          | 27         | \n",
       "| ... | ... | ... | ... | ... | ... | ... | ... | ... | ... |     | ... | ... | ... | ... | ... | ... | ... | ... | ... | ... | \n",
       "| LastFM     | 1          | II-B       | 358474     | 1.182      | NaN        | 20         | 0.05000000 | 0.04318182 | 0.02       | ...        | 0.03809524 | NA         | NA         | NA         | NA         | NA         | NA         | NA         | m          | 19         | \n",
       "| LastFM     | 1          | II-B       | 358502     | 1.367      | NaN        |  3         | 0.33333333 | 0.24982747 | 0.03       | ...        | 0.05714286 | NA         | NA         | NA         | NA         | NA         | NA         | NA         | f          | 21         | \n",
       "| LastFM     | 1          | II-B       | 358533     | 1.495      | NaN        |  1         | 1.00000000 | 0.36844505 | 0.03       | ...        | 0.05714286 | NA         | NA         | NA         | NA         | NA         | NA         | NA         | m          | 30         | \n",
       "| LastFM     | 1          | II-B       | 358581     | 1.551      | NaN        | 11         | 0.09090909 | 0.09090909 | 0.01       | ...        | 0.01904762 | NA         | NA         | NA         | NA         | NA         | NA         | NA         | m          | 25         | \n",
       "| LastFM     | 1          | II-B       | 358587     | 1.615      | NaN        |  1         | 1.00000000 | 1.00000000 | 0.02       | ...        | 0.03809524 | NA         | NA         | NA         | NA         | NA         | NA         | NA         | m          | NA         | \n",
       "| LastFM     | 1          | II-B       | 358646     | 1.559      | NaN        |  4         | 0.25000000 | 0.14500000 | 0.02       | ...        | 0.03809524 | NA         | NA         | NA         | NA         | NA         | NA         | NA         | f          | 26         | \n",
       "| LastFM     | 1          | II-B       | 358661     | 1.494      | NaN        | 20         | 0.05000000 | 0.04329237 | 0.03       | ...        | 0.05714286 | NA         | NA         | NA         | NA         | NA         | NA         | NA         | m          | 31         | \n",
       "| LastFM     | 1          | II-B       | 358667     | 1.588      | NaN        | 17         | 0.05882353 | 0.06181564 | 0.03       | ...        | 0.05714286 | NA         | NA         | NA         | NA         | NA         | NA         | NA         | m          | 20         | \n",
       "| LastFM     | 1          | II-B       | 358707     | 1.479      | NaN        | 37         | 0.02702703 | 0.02702703 | 0.01       | ...        | 0.01904762 | NA         | NA         | NA         | NA         | NA         | NA         | NA         | m          | 31         | \n",
       "| LastFM     | 1          | II-B       | 358714     | 1.461      | NaN        |  2         | 0.50000000 | 0.27696742 | 0.05       | ...        | 0.09523810 | NA         | NA         | NA         | NA         | NA         | NA         | NA         | m          | 21         | \n",
       "\n",
       "\n"
      ],
      "text/plain": [
       "       DataSet   Partition Algorithm user   TestTime TopN.nDCG Rank RecipRank \n",
       "1      LastFM.UI 2         PopCt     11     0.274    NaN       NA   0.0000000 \n",
       "2      LastFM.UI 2         Pop       11     0.287    NaN       NA   0.0000000 \n",
       "3      LastFM    1         Pop       69     0.452    NaN       NA   0.0000000 \n",
       "4      LastFM.UI 3         Pop        1     0.350    NaN       NA   0.0000000 \n",
       "5      LastFM.UI 3         PopCt      1     0.341    NaN       NA   0.0000000 \n",
       "6      LastFM.UI 4         Pop       70     0.303    NaN       NA   0.0000000 \n",
       "7      LastFM.UI 2         PopCt     21     0.093    NaN       NA   0.0000000 \n",
       "8      LastFM.UI 4         PopCt     70     0.283    NaN       NA   0.0000000 \n",
       "9      LastFM.UI 2         Pop       21     0.089    NaN       NA   0.0000000 \n",
       "10     LastFM    1         Pop       92     0.086    NaN        3   0.3333333 \n",
       "...    ...       ...       ...       ...    ...      ...       ...  ...       \n",
       "296415 LastFM    1         II-B      358474 1.182    NaN       20   0.05000000\n",
       "296416 LastFM    1         II-B      358502 1.367    NaN        3   0.33333333\n",
       "296417 LastFM    1         II-B      358533 1.495    NaN        1   1.00000000\n",
       "296418 LastFM    1         II-B      358581 1.551    NaN       11   0.09090909\n",
       "296419 LastFM    1         II-B      358587 1.615    NaN        1   1.00000000\n",
       "296420 LastFM    1         II-B      358646 1.559    NaN        4   0.25000000\n",
       "296421 LastFM    1         II-B      358661 1.494    NaN       20   0.05000000\n",
       "296422 LastFM    1         II-B      358667 1.588    NaN       17   0.05882353\n",
       "296423 LastFM    1         II-B      358707 1.479    NaN       37   0.02702703\n",
       "296424 LastFM    1         II-B      358714 1.461    NaN        2   0.50000000\n",
       "       AvgPrec    Precision ... F1         1R.TopN.nDCG 1R.Rank 1R.RecipRank\n",
       "1      0.0000000  0.00      ... 0.00000000 NA           NA      NA          \n",
       "2      0.0000000  0.00      ... 0.00000000 NA           NA      NA          \n",
       "3      0.0000000  0.00      ... 0.00000000 NA           NA      NA          \n",
       "4      0.0000000  0.00      ... 0.00000000 NA           NA      NA          \n",
       "5      0.0000000  0.00      ... 0.00000000 NA           NA      NA          \n",
       "6      0.0000000  0.00      ... 0.00000000 NA           NA      NA          \n",
       "7      0.0000000  0.00      ... 0.00000000 NA           NA      NA          \n",
       "8      0.0000000  0.00      ... 0.00000000 NA           NA      NA          \n",
       "9      0.0000000  0.00      ... 0.00000000 NA           NA      NA          \n",
       "10     0.1766667  0.02      ... 0.03809524 NA           NA      NA          \n",
       "...    ...        ...           ...        ...          ...     ...         \n",
       "296415 0.04318182 0.02      ... 0.03809524 NA           NA      NA          \n",
       "296416 0.24982747 0.03      ... 0.05714286 NA           NA      NA          \n",
       "296417 0.36844505 0.03      ... 0.05714286 NA           NA      NA          \n",
       "296418 0.09090909 0.01      ... 0.01904762 NA           NA      NA          \n",
       "296419 1.00000000 0.02      ... 0.03809524 NA           NA      NA          \n",
       "296420 0.14500000 0.02      ... 0.03809524 NA           NA      NA          \n",
       "296421 0.04329237 0.03      ... 0.05714286 NA           NA      NA          \n",
       "296422 0.06181564 0.03      ... 0.05714286 NA           NA      NA          \n",
       "296423 0.02702703 0.01      ... 0.01904762 NA           NA      NA          \n",
       "296424 0.27696742 0.05      ... 0.09523810 NA           NA      NA          \n",
       "       1R.AvgPrec 1R.Precision 1R.Recall 1R.F1 gender age\n",
       "1      NA         NA           NA        NA    m      27 \n",
       "2      NA         NA           NA        NA    m      27 \n",
       "3      NA         NA           NA        NA    f      23 \n",
       "4      NA         NA           NA        NA    f      22 \n",
       "5      NA         NA           NA        NA    f      22 \n",
       "6      NA         NA           NA        NA    f      22 \n",
       "7      NA         NA           NA        NA    m      NA \n",
       "8      NA         NA           NA        NA    f      22 \n",
       "9      NA         NA           NA        NA    m      NA \n",
       "10     NA         NA           NA        NA    m      27 \n",
       "...    ...        ...          ...       ...   ...    ...\n",
       "296415 NA         NA           NA        NA    m      19 \n",
       "296416 NA         NA           NA        NA    f      21 \n",
       "296417 NA         NA           NA        NA    m      30 \n",
       "296418 NA         NA           NA        NA    m      25 \n",
       "296419 NA         NA           NA        NA    m      NA \n",
       "296420 NA         NA           NA        NA    f      26 \n",
       "296421 NA         NA           NA        NA    m      31 \n",
       "296422 NA         NA           NA        NA    m      20 \n",
       "296423 NA         NA           NA        NA    m      31 \n",
       "296424 NA         NA           NA        NA    m      21 "
      ]
     },
     "metadata": {},
     "output_type": "display_data"
    }
   ],
   "source": [
    "user.results = read_csv(\"build/lastfm-user-results.csv\", guess_max=10000) %>%\n",
    "    rename(user=User) %>%\n",
    "    inner_join(users.meta %>% rename(user=id) %>% select(-key))\n",
    "user.results"
   ]
  },
  {
   "cell_type": "markdown",
   "metadata": {},
   "source": [
    "## Analyze by Gender"
   ]
  },
  {
   "cell_type": "code",
   "execution_count": 9,
   "metadata": {
    "collapsed": false
   },
   "outputs": [
    {
     "name": "stderr",
     "output_type": "stream",
     "text": [
      "Using DataSet, Algorithm, gender as id variables\n"
     ]
    }
   ],
   "source": [
    "gender.results = user.results %>%\n",
    "    group_by(DataSet, Algorithm, gender) %>%\n",
    "    summarize(MAP=mean(AvgPrec, na.rm=TRUE), MRR=mean(RecipRank, na.rm=TRUE),\n",
    "              Precision=mean(Precision),\n",
    "              Recall=mean(Recall))\n",
    "gender.tall = melt(gender.results, variable.name = \"Metric\")"
   ]
  },
  {
   "cell_type": "code",
   "execution_count": 14,
   "metadata": {
    "collapsed": false
   },
   "outputs": [
    {
     "name": "stderr",
     "output_type": "stream",
     "text": [
      "Warning message in bind_rows_(x, .id):\n",
      "\"binding factor and character vector, coercing into character vector\"Using DataSet, Algorithm, gender as id variables\n"
     ]
    }
   ],
   "source": [
    "overall.results = user.results %>%\n",
    "    group_by(DataSet, Algorithm) %>%\n",
    "    summarize(MAP=mean(AvgPrec, na.rm=TRUE), MRR=mean(RecipRank, na.rm=TRUE),\n",
    "              Precision=mean(Precision),\n",
    "              Recall=mean(Recall))\n",
    "combined.results = rbind(gender.results, mutate(overall.results, gender='Any'))\n",
    "combined.tall = melt(combined.results, variable.name='Metric')"
   ]
  },
  {
   "cell_type": "code",
   "execution_count": 6,
   "metadata": {
    "collapsed": false
   },
   "outputs": [
    {
     "name": "stderr",
     "output_type": "stream",
     "text": [
      "Warning message:\n",
      "\"Removed 8 rows containing missing values (geom_bar).\""
     ]
    },
    {
     "data": {},
     "metadata": {},
     "output_type": "display_data"
    },
    {
     "data": {
      "image/png": "[encoded data removed]",
      "text/plain": [
       "plot without title"
      ]
     },
     "metadata": {},
     "output_type": "display_data"
    }
   ],
   "source": [
    "ggplot(gender.tall) +\n",
    "    aes(x=gender, y=value, fill=Algorithm) +\n",
    "    geom_bar(stat=\"identity\", position=\"dodge\") +\n",
    "    facet_grid(Metric ~ DataSet, scales=\"free\")"
   ]
  },
  {
   "cell_type": "code",
   "execution_count": 15,
   "metadata": {
    "collapsed": false,
    "scrolled": false
   },
   "outputs": [
    {
     "data": {},
     "metadata": {},
     "output_type": "display_data"
    },
    {
     "data": {
      "image/png": "[encoded data removed]",
      "text/plain": [
       "plot without title"
      ]
     },
     "metadata": {},
     "output_type": "display_data"
    }
   ],
   "source": [
    "ggplot(combined.tall %>% filter(DataSet == 'LastFM')) +\n",
    "    aes(x=gender, y=value, fill=Algorithm) +\n",
    "    geom_bar(stat=\"identity\", position=\"dodge\") +\n",
    "    facet_grid(Metric ~ ., scales=\"free\")"
   ]
  },
  {
   "cell_type": "code",
   "execution_count": 16,
   "metadata": {
    "collapsed": false
   },
   "outputs": [
    {
     "data": {},
     "metadata": {},
     "output_type": "display_data"
    },
    {
     "data": {
      "image/png": "[encoded data removed]",
      "text/plain": [
       "plot without title"
      ]
     },
     "metadata": {},
     "output_type": "display_data"
    }
   ],
   "source": [
    "ggplot(combined.tall %>% filter(DataSet == 'LastFM.UI')) +\n",
    "    aes(x=gender, y=value, fill=Algorithm) +\n",
    "    geom_bar(stat=\"identity\", position=\"dodge\") +\n",
    "    facet_grid(Metric ~ ., scales=\"free\")"
   ]
  },
  {
   "cell_type": "code",
   "execution_count": null,
   "metadata": {
    "collapsed": true
   },
   "outputs": [],
   "source": []
  }
 ],
 "metadata": {
  "kernelspec": {
   "display_name": "R",
   "language": "R",
   "name": "ir"
  },
  "language_info": {
   "codemirror_mode": "r",
   "file_extension": ".r",
   "mimetype": "text/x-r-source",
   "name": "R",
   "pygments_lexer": "r",
   "version": "3.3.2"
  }
 },
 "nbformat": 4,
 "nbformat_minor": 2
}
