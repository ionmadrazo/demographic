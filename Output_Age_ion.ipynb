{
 "cells": [
  {
   "cell_type": "code",
   "execution_count": 2,
   "metadata": {
    "collapsed": false
   },
   "outputs": [],
   "source": [
    "library(MASS)\n",
    "library(plyr)\n",
    "library(dplyr)\n",
    "library(readr)\n",
    "library(ggplot2)\n",
    "library(reshape2)"
   ]
  },
  {
   "cell_type": "code",
   "execution_count": 3,
   "metadata": {
    "collapsed": true
   },
   "outputs": [],
   "source": [
    "options(repr.plot.height=5)\n",
    "options(repr.matrix.max.rows=20)\n",
    "options(repr.matrix.max.columns=10)"
   ]
  },
  {
   "cell_type": "markdown",
   "metadata": {},
   "source": [
    "# Load Lenskit 1M"
   ]
  },
  {
   "cell_type": "code",
   "execution_count": 186,
   "metadata": {
    "collapsed": false,
    "scrolled": true
   },
   "outputs": [
    {
     "name": "stderr",
     "output_type": "stream",
     "text": [
      "Warning message in lenskit.meta$age[as.numeric(lenskit.meta$age) >= 18 & as.numeric(lenskit.meta$age) < :\n",
      "“NAs introduced by coercion”Warning message in lenskit.meta$age[as.numeric(lenskit.meta$age) >= 18 & as.numeric(lenskit.meta$age) < :\n",
      "“NAs introduced by coercion”Warning message in lenskit.meta$age[as.numeric(lenskit.meta$age) >= 25 & as.numeric(lenskit.meta$age) < :\n",
      "“NAs introduced by coercion”Warning message in lenskit.meta$age[as.numeric(lenskit.meta$age) >= 25 & as.numeric(lenskit.meta$age) < :\n",
      "“NAs introduced by coercion”Warning message in lenskit.meta$age[as.numeric(lenskit.meta$age) >= 35 & as.numeric(lenskit.meta$age) < :\n",
      "“NAs introduced by coercion”Warning message in lenskit.meta$age[as.numeric(lenskit.meta$age) >= 35 & as.numeric(lenskit.meta$age) < :\n",
      "“NAs introduced by coercion”Warning message in lenskit.meta$age[as.numeric(lenskit.meta$age) >= 45 & as.numeric(lenskit.meta$age) < :\n",
      "“NAs introduced by coercion”Warning message in lenskit.meta$age[as.numeric(lenskit.meta$age) >= 45 & as.numeric(lenskit.meta$age) < :\n",
      "“NAs introduced by coercion”Warning message in lenskit.meta$age[as.numeric(lenskit.meta$age) >= 56] <- \"[56+]\":\n",
      "“NAs introduced by coercion”"
     ]
    }
   ],
   "source": [
    "lenskit.meta = read_delim(\"data/lk1m/users.dat\", delim=\":\",\n",
    "                   col_names=c(\"user\", \"gender\", \"age\", \"occupation\", \"zip\"),\n",
    "                   col_types=\"i_c_c_c_c\") %>%\n",
    "    mutate(gender=as.factor(gender),\n",
    "           \n",
    "          dataset = \"Lenskit-1m\")\n",
    "\n",
    "lenskit.meta$age[ as.numeric(lenskit.meta$age) < 18] <- \"[1-17]\"\n",
    "lenskit.meta$age[as.numeric(lenskit.meta$age) >= 18 & as.numeric(lenskit.meta$age) < 25] <- \"[18-24]\"\n",
    "lenskit.meta$age[as.numeric(lenskit.meta$age) >= 25 &  as.numeric(lenskit.meta$age) < 35] <- \"[25-34]\"\n",
    "lenskit.meta$age[as.numeric(lenskit.meta$age) >= 35 &  as.numeric(lenskit.meta$age) < 45] <- \"[35-44]\"\n",
    "lenskit.meta$age[as.numeric(lenskit.meta$age) >= 45 & as.numeric(lenskit.meta$age) < 56] <- \"[45-55]\"\n",
    "lenskit.meta$age[as.numeric(lenskit.meta$age) >= 56 ] <- \"[56+]\"\n",
    "lenskit.meta$age = as.factor(lenskit.meta$age)\n",
    "#lenskit.meta\n"
   ]
  },
  {
   "cell_type": "code",
   "execution_count": 188,
   "metadata": {
    "collapsed": false
   },
   "outputs": [
    {
     "name": "stderr",
     "output_type": "stream",
     "text": [
      "Parsed with column specification:\n",
      "cols(\n",
      "  DataSet = col_character(),\n",
      "  Partition = col_integer(),\n",
      "  Algorithm = col_character(),\n",
      "  User = col_integer(),\n",
      "  TestTime = col_double(),\n",
      "  TopN.nDCG = col_double(),\n",
      "  Rank = col_integer(),\n",
      "  RecipRank = col_double(),\n",
      "  AvgPrec = col_double()\n",
      ")\n",
      "Joining, by = \"user\"\n"
     ]
    }
   ],
   "source": [
    "user.results.lenskit1m = read_csv(\"data/lk1m/eval-users.csv\", guess_max=10000) %>%\n",
    "    rename(user=User) %>%\n",
    "    inner_join(users.meta %>% rename(user=id) %>% select(-key))\n",
    "user.results.lenskit1m$DataSet=\"Lenskit1M\"\n",
    "#user.results"
   ]
  },
  {
   "cell_type": "markdown",
   "metadata": {},
   "source": [
    "# Load Last.FM"
   ]
  },
  {
   "cell_type": "code",
   "execution_count": 189,
   "metadata": {
    "collapsed": false,
    "scrolled": true
   },
   "outputs": [
    {
     "name": "stderr",
     "output_type": "stream",
     "text": [
      "Parsed with column specification:\n",
      "cols(\n",
      "  id = col_integer(),\n",
      "  key = col_character(),\n",
      "  gender = col_character(),\n",
      "  age = col_integer()\n",
      ")\n",
      "Warning message in usersLastfm$age[as.numeric(usersLastfm$age) >= 18 & as.numeric(usersLastfm$age) < :\n",
      "“NAs introduced by coercion”Warning message in usersLastfm$age[as.numeric(usersLastfm$age) >= 18 & as.numeric(usersLastfm$age) < :\n",
      "“NAs introduced by coercion”Warning message in usersLastfm$age[as.numeric(usersLastfm$age) >= 25 & as.numeric(usersLastfm$age) < :\n",
      "“NAs introduced by coercion”Warning message in usersLastfm$age[as.numeric(usersLastfm$age) >= 25 & as.numeric(usersLastfm$age) < :\n",
      "“NAs introduced by coercion”Warning message in usersLastfm$age[as.numeric(usersLastfm$age) >= 35 & as.numeric(usersLastfm$age) < :\n",
      "“NAs introduced by coercion”Warning message in usersLastfm$age[as.numeric(usersLastfm$age) >= 35 & as.numeric(usersLastfm$age) < :\n",
      "“NAs introduced by coercion”Warning message in usersLastfm$age[as.numeric(usersLastfm$age) >= 45 & as.numeric(usersLastfm$age) < :\n",
      "“NAs introduced by coercion”Warning message in usersLastfm$age[as.numeric(usersLastfm$age) >= 45 & as.numeric(usersLastfm$age) < :\n",
      "“NAs introduced by coercion”Warning message in usersLastfm$age[as.numeric(usersLastfm$age) >= 56] <- \"[56+]\":\n",
      "“NAs introduced by coercion”"
     ]
    },
    {
     "data": {
      "text/html": [
       "<table>\n",
       "<thead><tr><th scope=col>id</th><th scope=col>key</th><th scope=col>gender</th><th scope=col>age</th></tr></thead>\n",
       "<tbody>\n",
       "\t<tr><td> 1                                      </td><td>00000c289a1829a808ac09c00daf10bc3c4e223b</td><td>F                                       </td><td>[18-24]                                 </td></tr>\n",
       "\t<tr><td> 2                                      </td><td>00001411dc427966b17297bf4d69e7e193135d89</td><td>F                                       </td><td>NA                                      </td></tr>\n",
       "\t<tr><td> 3                                      </td><td>00004d2ac9316e22dc007ab2243d6fcb239e707d</td><td>NA                                      </td><td>NA                                      </td></tr>\n",
       "\t<tr><td> 4                                      </td><td>000063d3fe1cf2ba248b9e3c3f0334845a27a6bf</td><td>M                                       </td><td>[18-24]                                 </td></tr>\n",
       "\t<tr><td> 5                                      </td><td>00007a47085b9aab8af55f52ec8846ac479ac4fe</td><td>M                                       </td><td>[25-34]                                 </td></tr>\n",
       "\t<tr><td> 6                                      </td><td>0000c176103e538d5c9828e695fed4f7ae42dd01</td><td>M                                       </td><td>[18-24]                                 </td></tr>\n",
       "\t<tr><td> 7                                      </td><td>0000ee7dd906373efa37f4e1185bfe1e3f8695ae</td><td>M                                       </td><td>[1-17]                                  </td></tr>\n",
       "\t<tr><td> 8                                      </td><td>0000ef373bbd0d89ce796abae961f2705e8c1faf</td><td>F                                       </td><td>[18-24]                                 </td></tr>\n",
       "\t<tr><td> 9                                      </td><td>0000f687d4fe9c1ed49620fbc5ed5b0d7798ea20</td><td>F                                       </td><td>[18-24]                                 </td></tr>\n",
       "\t<tr><td>10                                      </td><td>0001399387da41d557219578fb08b12afa25ab67</td><td>M                                       </td><td>NA                                      </td></tr>\n",
       "\t<tr><td>⋮</td><td>⋮</td><td>⋮</td><td>⋮</td></tr>\n",
       "\t<tr><td>359338                                  </td><td>fffd3df081c03829a9ea4699e2d85e868d7a791b</td><td>F                                       </td><td>[1-17]                                  </td></tr>\n",
       "\t<tr><td>359339                                  </td><td>fffe1f0fc9eb1432b98eb25b2c950850796a4a8b</td><td>M                                       </td><td>[25-34]                                 </td></tr>\n",
       "\t<tr><td>359340                                  </td><td>fffe356b9dab2fae1f887fabb1f08ab4976c91bb</td><td>F                                       </td><td>[18-24]                                 </td></tr>\n",
       "\t<tr><td>359341                                  </td><td>fffe3e8eb1b2db8dcb3f3fe753552d5803d085f1</td><td>F                                       </td><td>[18-24]                                 </td></tr>\n",
       "\t<tr><td>359342                                  </td><td>fffe454af08a58c7bafe77491b586711f6b5e6f1</td><td>M                                       </td><td>[25-34]                                 </td></tr>\n",
       "\t<tr><td>359343                                  </td><td>fffe7823f67b433b45f22056467db921c1d3d7d0</td><td>M                                       </td><td>[25-34]                                 </td></tr>\n",
       "\t<tr><td>359344                                  </td><td>fffe8637bd8234309e871409c7ebef99a720afc1</td><td>M                                       </td><td>[25-34]                                 </td></tr>\n",
       "\t<tr><td>359345                                  </td><td>fffe8c7f952d9b960a56ed4dcb40a415d924b224</td><td>M                                       </td><td>[18-24]                                 </td></tr>\n",
       "\t<tr><td>359346                                  </td><td>ffff9af9ae04d263dae91cb838b1f3a6725f5ffb</td><td>M                                       </td><td>[18-24]                                 </td></tr>\n",
       "\t<tr><td>359347                                  </td><td>ffff9ef87a7d9494ada2f9ade4b9ff637c0759ac</td><td>M                                       </td><td>[18-24]                                 </td></tr>\n",
       "</tbody>\n",
       "</table>\n"
      ],
      "text/latex": [
       "\\begin{tabular}{r|llll}\n",
       " id & key & gender & age\\\\\n",
       "\\hline\n",
       "\t  1                                       & 00000c289a1829a808ac09c00daf10bc3c4e223b & F                                        & {[}18-24{]}                             \\\\\n",
       "\t  2                                       & 00001411dc427966b17297bf4d69e7e193135d89 & F                                        & NA                                      \\\\\n",
       "\t  3                                       & 00004d2ac9316e22dc007ab2243d6fcb239e707d & NA                                       & NA                                      \\\\\n",
       "\t  4                                       & 000063d3fe1cf2ba248b9e3c3f0334845a27a6bf & M                                        & {[}18-24{]}                             \\\\\n",
       "\t  5                                       & 00007a47085b9aab8af55f52ec8846ac479ac4fe & M                                        & {[}25-34{]}                             \\\\\n",
       "\t  6                                       & 0000c176103e538d5c9828e695fed4f7ae42dd01 & M                                        & {[}18-24{]}                             \\\\\n",
       "\t  7                                       & 0000ee7dd906373efa37f4e1185bfe1e3f8695ae & M                                        & {[}1-17{]}                              \\\\\n",
       "\t  8                                       & 0000ef373bbd0d89ce796abae961f2705e8c1faf & F                                        & {[}18-24{]}                             \\\\\n",
       "\t  9                                       & 0000f687d4fe9c1ed49620fbc5ed5b0d7798ea20 & F                                        & {[}18-24{]}                             \\\\\n",
       "\t 10                                       & 0001399387da41d557219578fb08b12afa25ab67 & M                                        & NA                                      \\\\\n",
       "\t ⋮ & ⋮ & ⋮ & ⋮\\\\\n",
       "\t 359338                                   & fffd3df081c03829a9ea4699e2d85e868d7a791b & F                                        & {[}1-17{]}                              \\\\\n",
       "\t 359339                                   & fffe1f0fc9eb1432b98eb25b2c950850796a4a8b & M                                        & {[}25-34{]}                             \\\\\n",
       "\t 359340                                   & fffe356b9dab2fae1f887fabb1f08ab4976c91bb & F                                        & {[}18-24{]}                             \\\\\n",
       "\t 359341                                   & fffe3e8eb1b2db8dcb3f3fe753552d5803d085f1 & F                                        & {[}18-24{]}                             \\\\\n",
       "\t 359342                                   & fffe454af08a58c7bafe77491b586711f6b5e6f1 & M                                        & {[}25-34{]}                             \\\\\n",
       "\t 359343                                   & fffe7823f67b433b45f22056467db921c1d3d7d0 & M                                        & {[}25-34{]}                             \\\\\n",
       "\t 359344                                   & fffe8637bd8234309e871409c7ebef99a720afc1 & M                                        & {[}25-34{]}                             \\\\\n",
       "\t 359345                                   & fffe8c7f952d9b960a56ed4dcb40a415d924b224 & M                                        & {[}18-24{]}                             \\\\\n",
       "\t 359346                                   & ffff9af9ae04d263dae91cb838b1f3a6725f5ffb & M                                        & {[}18-24{]}                             \\\\\n",
       "\t 359347                                   & ffff9ef87a7d9494ada2f9ade4b9ff637c0759ac & M                                        & {[}18-24{]}                             \\\\\n",
       "\\end{tabular}\n"
      ],
      "text/markdown": [
       "\n",
       "id | key | gender | age | \n",
       "|---|---|---|---|---|---|---|---|---|---|---|---|---|---|---|---|---|---|---|---|---|\n",
       "|  1                                       | 00000c289a1829a808ac09c00daf10bc3c4e223b | F                                        | [18-24]                                  | \n",
       "|  2                                       | 00001411dc427966b17297bf4d69e7e193135d89 | F                                        | NA                                       | \n",
       "|  3                                       | 00004d2ac9316e22dc007ab2243d6fcb239e707d | NA                                       | NA                                       | \n",
       "|  4                                       | 000063d3fe1cf2ba248b9e3c3f0334845a27a6bf | M                                        | [18-24]                                  | \n",
       "|  5                                       | 00007a47085b9aab8af55f52ec8846ac479ac4fe | M                                        | [25-34]                                  | \n",
       "|  6                                       | 0000c176103e538d5c9828e695fed4f7ae42dd01 | M                                        | [18-24]                                  | \n",
       "|  7                                       | 0000ee7dd906373efa37f4e1185bfe1e3f8695ae | M                                        | [1-17]                                   | \n",
       "|  8                                       | 0000ef373bbd0d89ce796abae961f2705e8c1faf | F                                        | [18-24]                                  | \n",
       "|  9                                       | 0000f687d4fe9c1ed49620fbc5ed5b0d7798ea20 | F                                        | [18-24]                                  | \n",
       "| 10                                       | 0001399387da41d557219578fb08b12afa25ab67 | M                                        | NA                                       | \n",
       "| ⋮ | ⋮ | ⋮ | ⋮ | \n",
       "| 359338                                   | fffd3df081c03829a9ea4699e2d85e868d7a791b | F                                        | [1-17]                                   | \n",
       "| 359339                                   | fffe1f0fc9eb1432b98eb25b2c950850796a4a8b | M                                        | [25-34]                                  | \n",
       "| 359340                                   | fffe356b9dab2fae1f887fabb1f08ab4976c91bb | F                                        | [18-24]                                  | \n",
       "| 359341                                   | fffe3e8eb1b2db8dcb3f3fe753552d5803d085f1 | F                                        | [18-24]                                  | \n",
       "| 359342                                   | fffe454af08a58c7bafe77491b586711f6b5e6f1 | M                                        | [25-34]                                  | \n",
       "| 359343                                   | fffe7823f67b433b45f22056467db921c1d3d7d0 | M                                        | [25-34]                                  | \n",
       "| 359344                                   | fffe8637bd8234309e871409c7ebef99a720afc1 | M                                        | [25-34]                                  | \n",
       "| 359345                                   | fffe8c7f952d9b960a56ed4dcb40a415d924b224 | M                                        | [18-24]                                  | \n",
       "| 359346                                   | ffff9af9ae04d263dae91cb838b1f3a6725f5ffb | M                                        | [18-24]                                  | \n",
       "| 359347                                   | ffff9ef87a7d9494ada2f9ade4b9ff637c0759ac | M                                        | [18-24]                                  | \n",
       "\n",
       "\n"
      ],
      "text/plain": [
       "       id     key                                      gender age    \n",
       "1       1     00000c289a1829a808ac09c00daf10bc3c4e223b F      [18-24]\n",
       "2       2     00001411dc427966b17297bf4d69e7e193135d89 F      NA     \n",
       "3       3     00004d2ac9316e22dc007ab2243d6fcb239e707d NA     NA     \n",
       "4       4     000063d3fe1cf2ba248b9e3c3f0334845a27a6bf M      [18-24]\n",
       "5       5     00007a47085b9aab8af55f52ec8846ac479ac4fe M      [25-34]\n",
       "6       6     0000c176103e538d5c9828e695fed4f7ae42dd01 M      [18-24]\n",
       "7       7     0000ee7dd906373efa37f4e1185bfe1e3f8695ae M      [1-17] \n",
       "8       8     0000ef373bbd0d89ce796abae961f2705e8c1faf F      [18-24]\n",
       "9       9     0000f687d4fe9c1ed49620fbc5ed5b0d7798ea20 F      [18-24]\n",
       "10     10     0001399387da41d557219578fb08b12afa25ab67 M      NA     \n",
       "⋮      ⋮      ⋮                                        ⋮      ⋮      \n",
       "359338 359338 fffd3df081c03829a9ea4699e2d85e868d7a791b F      [1-17] \n",
       "359339 359339 fffe1f0fc9eb1432b98eb25b2c950850796a4a8b M      [25-34]\n",
       "359340 359340 fffe356b9dab2fae1f887fabb1f08ab4976c91bb F      [18-24]\n",
       "359341 359341 fffe3e8eb1b2db8dcb3f3fe753552d5803d085f1 F      [18-24]\n",
       "359342 359342 fffe454af08a58c7bafe77491b586711f6b5e6f1 M      [25-34]\n",
       "359343 359343 fffe7823f67b433b45f22056467db921c1d3d7d0 M      [25-34]\n",
       "359344 359344 fffe8637bd8234309e871409c7ebef99a720afc1 M      [25-34]\n",
       "359345 359345 fffe8c7f952d9b960a56ed4dcb40a415d924b224 M      [18-24]\n",
       "359346 359346 ffff9af9ae04d263dae91cb838b1f3a6725f5ffb M      [18-24]\n",
       "359347 359347 ffff9ef87a7d9494ada2f9ade4b9ff637c0759ac M      [18-24]"
      ]
     },
     "metadata": {},
     "output_type": "display_data"
    }
   ],
   "source": [
    "##### id,key,gender,age\n",
    "\n",
    "usersLastfm = read_delim(\"data/lastfm/lastfm-users.csv\", delim=\",\", \n",
    "                   col_names=c(\"id\", \"key\", \"gender\", \"age\") )\n",
    "#usersLastfm <-  subset(usersLastfm, select = c(\"user\", \"gender\", \"age\"))\n",
    "#usersLastfm$age <- as.integer(usersLastfm$age)\n",
    "usersLastfm$age <- as.numeric(as.character(usersLastfm$age))\n",
    "usersLastfm$gender[usersLastfm$gender == \"f\"] <- \"F\"\n",
    "usersLastfm$gender[usersLastfm$gender == \"m\"] <- \"M\"\n",
    "usersLastfm$age[ as.numeric(usersLastfm$age) < 18] <- \"[1-17]\"\n",
    "usersLastfm$age[as.numeric(usersLastfm$age) >= 18 & as.numeric(usersLastfm$age) < 25] <- \"[18-24]\"\n",
    "usersLastfm$age[as.numeric(usersLastfm$age) >= 25 &  as.numeric(usersLastfm$age) < 35] <- \"[25-34]\"\n",
    "usersLastfm$age[as.numeric(usersLastfm$age) >= 35 &  as.numeric(usersLastfm$age) < 45] <- \"[35-44]\"\n",
    "usersLastfm$age[as.numeric(usersLastfm$age) >= 45 & as.numeric(usersLastfm$age) < 56] <- \"[45-55]\"\n",
    "usersLastfm$age[as.numeric(usersLastfm$age) >= 56 ] <- \"[56+]\"\n",
    "#usersLastfm$dataset = as.factor(\"LastFM\")\n",
    "usersLastfm$age = as.factor(usersLastfm$age)\n",
    "\n",
    "users.meta=usersLastfm\n",
    "usersLastfm"
   ]
  },
  {
   "cell_type": "code",
   "execution_count": 227,
   "metadata": {
    "collapsed": false
   },
   "outputs": [
    {
     "name": "stderr",
     "output_type": "stream",
     "text": [
      "Parsed with column specification:\n",
      "cols(\n",
      "  DataSet = col_character(),\n",
      "  Partition = col_integer(),\n",
      "  Algorithm = col_character(),\n",
      "  User = col_integer(),\n",
      "  TestTime = col_double(),\n",
      "  TopN.nDCG = col_double(),\n",
      "  Rank = col_integer(),\n",
      "  RecipRank = col_double(),\n",
      "  AvgPrec = col_double()\n",
      ")\n",
      "Joining, by = \"user\"\n"
     ]
    },
    {
     "data": {
      "text/html": [
       "<table>\n",
       "<thead><tr><th scope=col>DataSet</th><th scope=col>Partition</th><th scope=col>Algorithm</th><th scope=col>user</th><th scope=col>TestTime</th><th scope=col>TopN.nDCG</th><th scope=col>Rank</th><th scope=col>RecipRank</th><th scope=col>AvgPrec</th><th scope=col>gender</th><th scope=col>age</th></tr></thead>\n",
       "<tbody>\n",
       "\t<tr><td>LastFM.UI</td><td>2        </td><td>PopCt    </td><td>11       </td><td>0.274    </td><td>NaN      </td><td>NA       </td><td>0.0000000</td><td>0.0000000</td><td>M        </td><td>[25-34]  </td></tr>\n",
       "\t<tr><td>LastFM.UI</td><td>2        </td><td>Pop      </td><td>11       </td><td>0.287    </td><td>NaN      </td><td>NA       </td><td>0.0000000</td><td>0.0000000</td><td>M        </td><td>[25-34]  </td></tr>\n",
       "\t<tr><td>LastFM   </td><td>1        </td><td>Pop      </td><td>69       </td><td>0.452    </td><td>NaN      </td><td>NA       </td><td>0.0000000</td><td>0.0000000</td><td>F        </td><td>[18-24]  </td></tr>\n",
       "\t<tr><td>LastFM.UI</td><td>3        </td><td>Pop      </td><td> 1       </td><td>0.350    </td><td>NaN      </td><td>NA       </td><td>0.0000000</td><td>0.0000000</td><td>F        </td><td>[18-24]  </td></tr>\n",
       "\t<tr><td>LastFM.UI</td><td>3        </td><td>PopCt    </td><td> 1       </td><td>0.341    </td><td>NaN      </td><td>NA       </td><td>0.0000000</td><td>0.0000000</td><td>F        </td><td>[18-24]  </td></tr>\n",
       "\t<tr><td>LastFM.UI</td><td>4        </td><td>Pop      </td><td>70       </td><td>0.303    </td><td>NaN      </td><td>NA       </td><td>0.0000000</td><td>0.0000000</td><td>F        </td><td>[18-24]  </td></tr>\n",
       "\t<tr><td>LastFM.UI</td><td>2        </td><td>PopCt    </td><td>21       </td><td>0.093    </td><td>NaN      </td><td>NA       </td><td>0.0000000</td><td>0.0000000</td><td>M        </td><td>NA       </td></tr>\n",
       "\t<tr><td>LastFM.UI</td><td>4        </td><td>PopCt    </td><td>70       </td><td>0.283    </td><td>NaN      </td><td>NA       </td><td>0.0000000</td><td>0.0000000</td><td>F        </td><td>[18-24]  </td></tr>\n",
       "\t<tr><td>LastFM.UI</td><td>2        </td><td>Pop      </td><td>21       </td><td>0.089    </td><td>NaN      </td><td>NA       </td><td>0.0000000</td><td>0.0000000</td><td>M        </td><td>NA       </td></tr>\n",
       "\t<tr><td>LastFM   </td><td>1        </td><td>Pop      </td><td>92       </td><td>0.086    </td><td>NaN      </td><td> 3       </td><td>0.3333333</td><td>0.1766667</td><td>M        </td><td>[25-34]  </td></tr>\n",
       "\t<tr><td>⋮</td><td>⋮</td><td>⋮</td><td>⋮</td><td>⋮</td><td>⋮</td><td>⋮</td><td>⋮</td><td>⋮</td><td>⋮</td><td>⋮</td></tr>\n",
       "\t<tr><td>LastFM    </td><td>1         </td><td>II-B      </td><td>358474    </td><td>1.182     </td><td>NaN       </td><td>20        </td><td>0.05000000</td><td>0.04318182</td><td>M         </td><td>[18-24]   </td></tr>\n",
       "\t<tr><td>LastFM    </td><td>1         </td><td>II-B      </td><td>358502    </td><td>1.367     </td><td>NaN       </td><td> 3        </td><td>0.33333333</td><td>0.24982747</td><td>F         </td><td>[18-24]   </td></tr>\n",
       "\t<tr><td>LastFM    </td><td>1         </td><td>II-B      </td><td>358533    </td><td>1.495     </td><td>NaN       </td><td> 1        </td><td>1.00000000</td><td>0.36844505</td><td>M         </td><td>[25-34]   </td></tr>\n",
       "\t<tr><td>LastFM    </td><td>1         </td><td>II-B      </td><td>358581    </td><td>1.551     </td><td>NaN       </td><td>11        </td><td>0.09090909</td><td>0.09090909</td><td>M         </td><td>[25-34]   </td></tr>\n",
       "\t<tr><td>LastFM    </td><td>1         </td><td>II-B      </td><td>358587    </td><td>1.615     </td><td>NaN       </td><td> 1        </td><td>1.00000000</td><td>1.00000000</td><td>M         </td><td>NA        </td></tr>\n",
       "\t<tr><td>LastFM    </td><td>1         </td><td>II-B      </td><td>358646    </td><td>1.559     </td><td>NaN       </td><td> 4        </td><td>0.25000000</td><td>0.14500000</td><td>F         </td><td>[25-34]   </td></tr>\n",
       "\t<tr><td>LastFM    </td><td>1         </td><td>II-B      </td><td>358661    </td><td>1.494     </td><td>NaN       </td><td>20        </td><td>0.05000000</td><td>0.04329237</td><td>M         </td><td>[25-34]   </td></tr>\n",
       "\t<tr><td>LastFM    </td><td>1         </td><td>II-B      </td><td>358667    </td><td>1.588     </td><td>NaN       </td><td>17        </td><td>0.05882353</td><td>0.06181564</td><td>M         </td><td>[18-24]   </td></tr>\n",
       "\t<tr><td>LastFM    </td><td>1         </td><td>II-B      </td><td>358707    </td><td>1.479     </td><td>NaN       </td><td>37        </td><td>0.02702703</td><td>0.02702703</td><td>M         </td><td>[25-34]   </td></tr>\n",
       "\t<tr><td>LastFM    </td><td>1         </td><td>II-B      </td><td>358714    </td><td>1.461     </td><td>NaN       </td><td> 2        </td><td>0.50000000</td><td>0.27696742</td><td>M         </td><td>[18-24]   </td></tr>\n",
       "</tbody>\n",
       "</table>\n"
      ],
      "text/latex": [
       "\\begin{tabular}{r|lllllllllll}\n",
       " DataSet & Partition & Algorithm & user & TestTime & TopN.nDCG & Rank & RecipRank & AvgPrec & gender & age\\\\\n",
       "\\hline\n",
       "\t LastFM.UI   & 2           & PopCt       & 11          & 0.274       & NaN         & NA          & 0.0000000   & 0.0000000   & M           & {[}25-34{]}\\\\\n",
       "\t LastFM.UI   & 2           & Pop         & 11          & 0.287       & NaN         & NA          & 0.0000000   & 0.0000000   & M           & {[}25-34{]}\\\\\n",
       "\t LastFM      & 1           & Pop         & 69          & 0.452       & NaN         & NA          & 0.0000000   & 0.0000000   & F           & {[}18-24{]}\\\\\n",
       "\t LastFM.UI   & 3           & Pop         &  1          & 0.350       & NaN         & NA          & 0.0000000   & 0.0000000   & F           & {[}18-24{]}\\\\\n",
       "\t LastFM.UI   & 3           & PopCt       &  1          & 0.341       & NaN         & NA          & 0.0000000   & 0.0000000   & F           & {[}18-24{]}\\\\\n",
       "\t LastFM.UI   & 4           & Pop         & 70          & 0.303       & NaN         & NA          & 0.0000000   & 0.0000000   & F           & {[}18-24{]}\\\\\n",
       "\t LastFM.UI & 2         & PopCt     & 21        & 0.093     & NaN       & NA        & 0.0000000 & 0.0000000 & M         & NA       \\\\\n",
       "\t LastFM.UI   & 4           & PopCt       & 70          & 0.283       & NaN         & NA          & 0.0000000   & 0.0000000   & F           & {[}18-24{]}\\\\\n",
       "\t LastFM.UI & 2         & Pop       & 21        & 0.089     & NaN       & NA        & 0.0000000 & 0.0000000 & M         & NA       \\\\\n",
       "\t LastFM      & 1           & Pop         & 92          & 0.086       & NaN         &  3          & 0.3333333   & 0.1766667   & M           & {[}25-34{]}\\\\\n",
       "\t ⋮ & ⋮ & ⋮ & ⋮ & ⋮ & ⋮ & ⋮ & ⋮ & ⋮ & ⋮ & ⋮\\\\\n",
       "\t LastFM      & 1           & II-B        & 358474      & 1.182       & NaN         & 20          & 0.05000000  & 0.04318182  & M           & {[}18-24{]}\\\\\n",
       "\t LastFM      & 1           & II-B        & 358502      & 1.367       & NaN         &  3          & 0.33333333  & 0.24982747  & F           & {[}18-24{]}\\\\\n",
       "\t LastFM      & 1           & II-B        & 358533      & 1.495       & NaN         &  1          & 1.00000000  & 0.36844505  & M           & {[}25-34{]}\\\\\n",
       "\t LastFM      & 1           & II-B        & 358581      & 1.551       & NaN         & 11          & 0.09090909  & 0.09090909  & M           & {[}25-34{]}\\\\\n",
       "\t LastFM     & 1          & II-B       & 358587     & 1.615      & NaN        &  1         & 1.00000000 & 1.00000000 & M          & NA        \\\\\n",
       "\t LastFM      & 1           & II-B        & 358646      & 1.559       & NaN         &  4          & 0.25000000  & 0.14500000  & F           & {[}25-34{]}\\\\\n",
       "\t LastFM      & 1           & II-B        & 358661      & 1.494       & NaN         & 20          & 0.05000000  & 0.04329237  & M           & {[}25-34{]}\\\\\n",
       "\t LastFM      & 1           & II-B        & 358667      & 1.588       & NaN         & 17          & 0.05882353  & 0.06181564  & M           & {[}18-24{]}\\\\\n",
       "\t LastFM      & 1           & II-B        & 358707      & 1.479       & NaN         & 37          & 0.02702703  & 0.02702703  & M           & {[}25-34{]}\\\\\n",
       "\t LastFM      & 1           & II-B        & 358714      & 1.461       & NaN         &  2          & 0.50000000  & 0.27696742  & M           & {[}18-24{]}\\\\\n",
       "\\end{tabular}\n"
      ],
      "text/markdown": [
       "\n",
       "DataSet | Partition | Algorithm | user | TestTime | TopN.nDCG | Rank | RecipRank | AvgPrec | gender | age | \n",
       "|---|---|---|---|---|---|---|---|---|---|---|---|---|---|---|---|---|---|---|---|---|\n",
       "| LastFM.UI | 2         | PopCt     | 11        | 0.274     | NaN       | NA        | 0.0000000 | 0.0000000 | M         | [25-34]   | \n",
       "| LastFM.UI | 2         | Pop       | 11        | 0.287     | NaN       | NA        | 0.0000000 | 0.0000000 | M         | [25-34]   | \n",
       "| LastFM    | 1         | Pop       | 69        | 0.452     | NaN       | NA        | 0.0000000 | 0.0000000 | F         | [18-24]   | \n",
       "| LastFM.UI | 3         | Pop       |  1        | 0.350     | NaN       | NA        | 0.0000000 | 0.0000000 | F         | [18-24]   | \n",
       "| LastFM.UI | 3         | PopCt     |  1        | 0.341     | NaN       | NA        | 0.0000000 | 0.0000000 | F         | [18-24]   | \n",
       "| LastFM.UI | 4         | Pop       | 70        | 0.303     | NaN       | NA        | 0.0000000 | 0.0000000 | F         | [18-24]   | \n",
       "| LastFM.UI | 2         | PopCt     | 21        | 0.093     | NaN       | NA        | 0.0000000 | 0.0000000 | M         | NA        | \n",
       "| LastFM.UI | 4         | PopCt     | 70        | 0.283     | NaN       | NA        | 0.0000000 | 0.0000000 | F         | [18-24]   | \n",
       "| LastFM.UI | 2         | Pop       | 21        | 0.089     | NaN       | NA        | 0.0000000 | 0.0000000 | M         | NA        | \n",
       "| LastFM    | 1         | Pop       | 92        | 0.086     | NaN       |  3        | 0.3333333 | 0.1766667 | M         | [25-34]   | \n",
       "| ⋮ | ⋮ | ⋮ | ⋮ | ⋮ | ⋮ | ⋮ | ⋮ | ⋮ | ⋮ | ⋮ | \n",
       "| LastFM     | 1          | II-B       | 358474     | 1.182      | NaN        | 20         | 0.05000000 | 0.04318182 | M          | [18-24]    | \n",
       "| LastFM     | 1          | II-B       | 358502     | 1.367      | NaN        |  3         | 0.33333333 | 0.24982747 | F          | [18-24]    | \n",
       "| LastFM     | 1          | II-B       | 358533     | 1.495      | NaN        |  1         | 1.00000000 | 0.36844505 | M          | [25-34]    | \n",
       "| LastFM     | 1          | II-B       | 358581     | 1.551      | NaN        | 11         | 0.09090909 | 0.09090909 | M          | [25-34]    | \n",
       "| LastFM     | 1          | II-B       | 358587     | 1.615      | NaN        |  1         | 1.00000000 | 1.00000000 | M          | NA         | \n",
       "| LastFM     | 1          | II-B       | 358646     | 1.559      | NaN        |  4         | 0.25000000 | 0.14500000 | F          | [25-34]    | \n",
       "| LastFM     | 1          | II-B       | 358661     | 1.494      | NaN        | 20         | 0.05000000 | 0.04329237 | M          | [25-34]    | \n",
       "| LastFM     | 1          | II-B       | 358667     | 1.588      | NaN        | 17         | 0.05882353 | 0.06181564 | M          | [18-24]    | \n",
       "| LastFM     | 1          | II-B       | 358707     | 1.479      | NaN        | 37         | 0.02702703 | 0.02702703 | M          | [25-34]    | \n",
       "| LastFM     | 1          | II-B       | 358714     | 1.461      | NaN        |  2         | 0.50000000 | 0.27696742 | M          | [18-24]    | \n",
       "\n",
       "\n"
      ],
      "text/plain": [
       "       DataSet   Partition Algorithm user   TestTime TopN.nDCG Rank RecipRank \n",
       "1      LastFM.UI 2         PopCt     11     0.274    NaN       NA   0.0000000 \n",
       "2      LastFM.UI 2         Pop       11     0.287    NaN       NA   0.0000000 \n",
       "3      LastFM    1         Pop       69     0.452    NaN       NA   0.0000000 \n",
       "4      LastFM.UI 3         Pop        1     0.350    NaN       NA   0.0000000 \n",
       "5      LastFM.UI 3         PopCt      1     0.341    NaN       NA   0.0000000 \n",
       "6      LastFM.UI 4         Pop       70     0.303    NaN       NA   0.0000000 \n",
       "7      LastFM.UI 2         PopCt     21     0.093    NaN       NA   0.0000000 \n",
       "8      LastFM.UI 4         PopCt     70     0.283    NaN       NA   0.0000000 \n",
       "9      LastFM.UI 2         Pop       21     0.089    NaN       NA   0.0000000 \n",
       "10     LastFM    1         Pop       92     0.086    NaN        3   0.3333333 \n",
       "⋮      ⋮         ⋮         ⋮         ⋮      ⋮        ⋮         ⋮    ⋮         \n",
       "296415 LastFM    1         II-B      358474 1.182    NaN       20   0.05000000\n",
       "296416 LastFM    1         II-B      358502 1.367    NaN        3   0.33333333\n",
       "296417 LastFM    1         II-B      358533 1.495    NaN        1   1.00000000\n",
       "296418 LastFM    1         II-B      358581 1.551    NaN       11   0.09090909\n",
       "296419 LastFM    1         II-B      358587 1.615    NaN        1   1.00000000\n",
       "296420 LastFM    1         II-B      358646 1.559    NaN        4   0.25000000\n",
       "296421 LastFM    1         II-B      358661 1.494    NaN       20   0.05000000\n",
       "296422 LastFM    1         II-B      358667 1.588    NaN       17   0.05882353\n",
       "296423 LastFM    1         II-B      358707 1.479    NaN       37   0.02702703\n",
       "296424 LastFM    1         II-B      358714 1.461    NaN        2   0.50000000\n",
       "       AvgPrec    gender age    \n",
       "1      0.0000000  M      [25-34]\n",
       "2      0.0000000  M      [25-34]\n",
       "3      0.0000000  F      [18-24]\n",
       "4      0.0000000  F      [18-24]\n",
       "5      0.0000000  F      [18-24]\n",
       "6      0.0000000  F      [18-24]\n",
       "7      0.0000000  M      NA     \n",
       "8      0.0000000  F      [18-24]\n",
       "9      0.0000000  M      NA     \n",
       "10     0.1766667  M      [25-34]\n",
       "⋮      ⋮          ⋮      ⋮      \n",
       "296415 0.04318182 M      [18-24]\n",
       "296416 0.24982747 F      [18-24]\n",
       "296417 0.36844505 M      [25-34]\n",
       "296418 0.09090909 M      [25-34]\n",
       "296419 1.00000000 M      NA     \n",
       "296420 0.14500000 F      [25-34]\n",
       "296421 0.04329237 M      [25-34]\n",
       "296422 0.06181564 M      [18-24]\n",
       "296423 0.02702703 M      [25-34]\n",
       "296424 0.27696742 M      [18-24]"
      ]
     },
     "metadata": {},
     "output_type": "display_data"
    }
   ],
   "source": [
    "user.results.lastFm = read_csv(\"data/lastfm/lastfm-user-results.csv\", guess_max=10000) %>%\n",
    "    rename(user=User) %>%\n",
    "    inner_join(users.meta %>% rename(user=id) %>% select(-key))\n",
    "user.results.lastFm"
   ]
  },
  {
   "cell_type": "markdown",
   "metadata": {},
   "source": [
    "# Concat Datasets"
   ]
  },
  {
   "cell_type": "code",
   "execution_count": 191,
   "metadata": {
    "collapsed": false
   },
   "outputs": [
    {
     "data": {
      "text/html": [
       "<table>\n",
       "<thead><tr><th scope=col>DataSet</th><th scope=col>Partition</th><th scope=col>Algorithm</th><th scope=col>user</th><th scope=col>TestTime</th><th scope=col>TopN.nDCG</th><th scope=col>Rank</th><th scope=col>RecipRank</th><th scope=col>AvgPrec</th><th scope=col>gender</th><th scope=col>age</th></tr></thead>\n",
       "<tbody>\n",
       "\t<tr><td>LastFM.UI</td><td>2        </td><td>PopCt    </td><td>11       </td><td>0.274    </td><td>NaN      </td><td>NA       </td><td>0.0000000</td><td>0.0000000</td><td>M        </td><td>[25-34]  </td></tr>\n",
       "\t<tr><td>LastFM.UI</td><td>2        </td><td>Pop      </td><td>11       </td><td>0.287    </td><td>NaN      </td><td>NA       </td><td>0.0000000</td><td>0.0000000</td><td>M        </td><td>[25-34]  </td></tr>\n",
       "\t<tr><td>LastFM   </td><td>1        </td><td>Pop      </td><td>69       </td><td>0.452    </td><td>NaN      </td><td>NA       </td><td>0.0000000</td><td>0.0000000</td><td>F        </td><td>[18-24]  </td></tr>\n",
       "\t<tr><td>LastFM.UI</td><td>3        </td><td>Pop      </td><td> 1       </td><td>0.350    </td><td>NaN      </td><td>NA       </td><td>0.0000000</td><td>0.0000000</td><td>F        </td><td>[18-24]  </td></tr>\n",
       "\t<tr><td>LastFM.UI</td><td>3        </td><td>PopCt    </td><td> 1       </td><td>0.341    </td><td>NaN      </td><td>NA       </td><td>0.0000000</td><td>0.0000000</td><td>F        </td><td>[18-24]  </td></tr>\n",
       "\t<tr><td>LastFM.UI</td><td>4        </td><td>Pop      </td><td>70       </td><td>0.303    </td><td>NaN      </td><td>NA       </td><td>0.0000000</td><td>0.0000000</td><td>F        </td><td>[18-24]  </td></tr>\n",
       "\t<tr><td>LastFM.UI</td><td>2        </td><td>PopCt    </td><td>21       </td><td>0.093    </td><td>NaN      </td><td>NA       </td><td>0.0000000</td><td>0.0000000</td><td>M        </td><td>NA       </td></tr>\n",
       "\t<tr><td>LastFM.UI</td><td>4        </td><td>PopCt    </td><td>70       </td><td>0.283    </td><td>NaN      </td><td>NA       </td><td>0.0000000</td><td>0.0000000</td><td>F        </td><td>[18-24]  </td></tr>\n",
       "\t<tr><td>LastFM.UI</td><td>2        </td><td>Pop      </td><td>21       </td><td>0.089    </td><td>NaN      </td><td>NA       </td><td>0.0000000</td><td>0.0000000</td><td>M        </td><td>NA       </td></tr>\n",
       "\t<tr><td>LastFM   </td><td>1        </td><td>Pop      </td><td>92       </td><td>0.086    </td><td>NaN      </td><td> 3       </td><td>0.3333333</td><td>0.1766667</td><td>M        </td><td>[25-34]  </td></tr>\n",
       "\t<tr><td>⋮</td><td>⋮</td><td>⋮</td><td>⋮</td><td>⋮</td><td>⋮</td><td>⋮</td><td>⋮</td><td>⋮</td><td>⋮</td><td>⋮</td></tr>\n",
       "\t<tr><td>Lenskit1M</td><td>1        </td><td>UU       </td><td>5999     </td><td>0.690    </td><td>0        </td><td>NA       </td><td>0        </td><td>0        </td><td>F        </td><td>NA       </td></tr>\n",
       "\t<tr><td>Lenskit1M</td><td>1        </td><td>UU       </td><td>6007     </td><td>0.787    </td><td>0        </td><td>NA       </td><td>0        </td><td>0        </td><td>M        </td><td>[18-24]  </td></tr>\n",
       "\t<tr><td>Lenskit1M</td><td>1        </td><td>UU       </td><td>6008     </td><td>0.859    </td><td>0        </td><td>NA       </td><td>0        </td><td>0        </td><td>NA       </td><td>[25-34]  </td></tr>\n",
       "\t<tr><td>Lenskit1M</td><td>1        </td><td>UU       </td><td>6012     </td><td>0.681    </td><td>0        </td><td>NA       </td><td>0        </td><td>0        </td><td>M        </td><td>[18-24]  </td></tr>\n",
       "\t<tr><td>Lenskit1M</td><td>1        </td><td>UU       </td><td>6013     </td><td>0.820    </td><td>0        </td><td>NA       </td><td>0        </td><td>0        </td><td>M        </td><td>[25-34]  </td></tr>\n",
       "\t<tr><td>Lenskit1M</td><td>1        </td><td>UU       </td><td>6018     </td><td>0.907    </td><td>0        </td><td>NA       </td><td>0        </td><td>0        </td><td>NA       </td><td>NA       </td></tr>\n",
       "\t<tr><td>Lenskit1M</td><td>1        </td><td>UU       </td><td>6022     </td><td>0.856    </td><td>0        </td><td>NA       </td><td>0        </td><td>0        </td><td>F        </td><td>[18-24]  </td></tr>\n",
       "\t<tr><td>Lenskit1M</td><td>1        </td><td>UU       </td><td>6032     </td><td>0.788    </td><td>0        </td><td>NA       </td><td>0        </td><td>0        </td><td>M        </td><td>[18-24]  </td></tr>\n",
       "\t<tr><td>Lenskit1M</td><td>1        </td><td>UU       </td><td>6034     </td><td>0.762    </td><td>0        </td><td>NA       </td><td>0        </td><td>0        </td><td>M        </td><td>NA       </td></tr>\n",
       "\t<tr><td>Lenskit1M</td><td>1        </td><td>UU       </td><td>6035     </td><td>0.868    </td><td>0        </td><td>NA       </td><td>0        </td><td>0        </td><td>M        </td><td>[25-34]  </td></tr>\n",
       "</tbody>\n",
       "</table>\n"
      ],
      "text/latex": [
       "\\begin{tabular}{r|lllllllllll}\n",
       " DataSet & Partition & Algorithm & user & TestTime & TopN.nDCG & Rank & RecipRank & AvgPrec & gender & age\\\\\n",
       "\\hline\n",
       "\t LastFM.UI   & 2           & PopCt       & 11          & 0.274       & NaN         & NA          & 0.0000000   & 0.0000000   & M           & {[}25-34{]}\\\\\n",
       "\t LastFM.UI   & 2           & Pop         & 11          & 0.287       & NaN         & NA          & 0.0000000   & 0.0000000   & M           & {[}25-34{]}\\\\\n",
       "\t LastFM      & 1           & Pop         & 69          & 0.452       & NaN         & NA          & 0.0000000   & 0.0000000   & F           & {[}18-24{]}\\\\\n",
       "\t LastFM.UI   & 3           & Pop         &  1          & 0.350       & NaN         & NA          & 0.0000000   & 0.0000000   & F           & {[}18-24{]}\\\\\n",
       "\t LastFM.UI   & 3           & PopCt       &  1          & 0.341       & NaN         & NA          & 0.0000000   & 0.0000000   & F           & {[}18-24{]}\\\\\n",
       "\t LastFM.UI   & 4           & Pop         & 70          & 0.303       & NaN         & NA          & 0.0000000   & 0.0000000   & F           & {[}18-24{]}\\\\\n",
       "\t LastFM.UI & 2         & PopCt     & 21        & 0.093     & NaN       & NA        & 0.0000000 & 0.0000000 & M         & NA       \\\\\n",
       "\t LastFM.UI   & 4           & PopCt       & 70          & 0.283       & NaN         & NA          & 0.0000000   & 0.0000000   & F           & {[}18-24{]}\\\\\n",
       "\t LastFM.UI & 2         & Pop       & 21        & 0.089     & NaN       & NA        & 0.0000000 & 0.0000000 & M         & NA       \\\\\n",
       "\t LastFM      & 1           & Pop         & 92          & 0.086       & NaN         &  3          & 0.3333333   & 0.1766667   & M           & {[}25-34{]}\\\\\n",
       "\t ⋮ & ⋮ & ⋮ & ⋮ & ⋮ & ⋮ & ⋮ & ⋮ & ⋮ & ⋮ & ⋮\\\\\n",
       "\t Lenskit1M & 1         & UU        & 5999      & 0.690     & 0         & NA        & 0         & 0         & F         & NA       \\\\\n",
       "\t Lenskit1M   & 1           & UU          & 6007        & 0.787       & 0           & NA          & 0           & 0           & M           & {[}18-24{]}\\\\\n",
       "\t Lenskit1M   & 1           & UU          & 6008        & 0.859       & 0           & NA          & 0           & 0           & NA          & {[}25-34{]}\\\\\n",
       "\t Lenskit1M   & 1           & UU          & 6012        & 0.681       & 0           & NA          & 0           & 0           & M           & {[}18-24{]}\\\\\n",
       "\t Lenskit1M   & 1           & UU          & 6013        & 0.820       & 0           & NA          & 0           & 0           & M           & {[}25-34{]}\\\\\n",
       "\t Lenskit1M & 1         & UU        & 6018      & 0.907     & 0         & NA        & 0         & 0         & NA        & NA       \\\\\n",
       "\t Lenskit1M   & 1           & UU          & 6022        & 0.856       & 0           & NA          & 0           & 0           & F           & {[}18-24{]}\\\\\n",
       "\t Lenskit1M   & 1           & UU          & 6032        & 0.788       & 0           & NA          & 0           & 0           & M           & {[}18-24{]}\\\\\n",
       "\t Lenskit1M & 1         & UU        & 6034      & 0.762     & 0         & NA        & 0         & 0         & M         & NA       \\\\\n",
       "\t Lenskit1M   & 1           & UU          & 6035        & 0.868       & 0           & NA          & 0           & 0           & M           & {[}25-34{]}\\\\\n",
       "\\end{tabular}\n"
      ],
      "text/markdown": [
       "\n",
       "DataSet | Partition | Algorithm | user | TestTime | TopN.nDCG | Rank | RecipRank | AvgPrec | gender | age | \n",
       "|---|---|---|---|---|---|---|---|---|---|---|---|---|---|---|---|---|---|---|---|---|\n",
       "| LastFM.UI | 2         | PopCt     | 11        | 0.274     | NaN       | NA        | 0.0000000 | 0.0000000 | M         | [25-34]   | \n",
       "| LastFM.UI | 2         | Pop       | 11        | 0.287     | NaN       | NA        | 0.0000000 | 0.0000000 | M         | [25-34]   | \n",
       "| LastFM    | 1         | Pop       | 69        | 0.452     | NaN       | NA        | 0.0000000 | 0.0000000 | F         | [18-24]   | \n",
       "| LastFM.UI | 3         | Pop       |  1        | 0.350     | NaN       | NA        | 0.0000000 | 0.0000000 | F         | [18-24]   | \n",
       "| LastFM.UI | 3         | PopCt     |  1        | 0.341     | NaN       | NA        | 0.0000000 | 0.0000000 | F         | [18-24]   | \n",
       "| LastFM.UI | 4         | Pop       | 70        | 0.303     | NaN       | NA        | 0.0000000 | 0.0000000 | F         | [18-24]   | \n",
       "| LastFM.UI | 2         | PopCt     | 21        | 0.093     | NaN       | NA        | 0.0000000 | 0.0000000 | M         | NA        | \n",
       "| LastFM.UI | 4         | PopCt     | 70        | 0.283     | NaN       | NA        | 0.0000000 | 0.0000000 | F         | [18-24]   | \n",
       "| LastFM.UI | 2         | Pop       | 21        | 0.089     | NaN       | NA        | 0.0000000 | 0.0000000 | M         | NA        | \n",
       "| LastFM    | 1         | Pop       | 92        | 0.086     | NaN       |  3        | 0.3333333 | 0.1766667 | M         | [25-34]   | \n",
       "| ⋮ | ⋮ | ⋮ | ⋮ | ⋮ | ⋮ | ⋮ | ⋮ | ⋮ | ⋮ | ⋮ | \n",
       "| Lenskit1M | 1         | UU        | 5999      | 0.690     | 0         | NA        | 0         | 0         | F         | NA        | \n",
       "| Lenskit1M | 1         | UU        | 6007      | 0.787     | 0         | NA        | 0         | 0         | M         | [18-24]   | \n",
       "| Lenskit1M | 1         | UU        | 6008      | 0.859     | 0         | NA        | 0         | 0         | NA        | [25-34]   | \n",
       "| Lenskit1M | 1         | UU        | 6012      | 0.681     | 0         | NA        | 0         | 0         | M         | [18-24]   | \n",
       "| Lenskit1M | 1         | UU        | 6013      | 0.820     | 0         | NA        | 0         | 0         | M         | [25-34]   | \n",
       "| Lenskit1M | 1         | UU        | 6018      | 0.907     | 0         | NA        | 0         | 0         | NA        | NA        | \n",
       "| Lenskit1M | 1         | UU        | 6022      | 0.856     | 0         | NA        | 0         | 0         | F         | [18-24]   | \n",
       "| Lenskit1M | 1         | UU        | 6032      | 0.788     | 0         | NA        | 0         | 0         | M         | [18-24]   | \n",
       "| Lenskit1M | 1         | UU        | 6034      | 0.762     | 0         | NA        | 0         | 0         | M         | NA        | \n",
       "| Lenskit1M | 1         | UU        | 6035      | 0.868     | 0         | NA        | 0         | 0         | M         | [25-34]   | \n",
       "\n",
       "\n"
      ],
      "text/plain": [
       "       DataSet   Partition Algorithm user TestTime TopN.nDCG Rank RecipRank\n",
       "1      LastFM.UI 2         PopCt     11   0.274    NaN       NA   0.0000000\n",
       "2      LastFM.UI 2         Pop       11   0.287    NaN       NA   0.0000000\n",
       "3      LastFM    1         Pop       69   0.452    NaN       NA   0.0000000\n",
       "4      LastFM.UI 3         Pop        1   0.350    NaN       NA   0.0000000\n",
       "5      LastFM.UI 3         PopCt      1   0.341    NaN       NA   0.0000000\n",
       "6      LastFM.UI 4         Pop       70   0.303    NaN       NA   0.0000000\n",
       "7      LastFM.UI 2         PopCt     21   0.093    NaN       NA   0.0000000\n",
       "8      LastFM.UI 4         PopCt     70   0.283    NaN       NA   0.0000000\n",
       "9      LastFM.UI 2         Pop       21   0.089    NaN       NA   0.0000000\n",
       "10     LastFM    1         Pop       92   0.086    NaN        3   0.3333333\n",
       "⋮      ⋮         ⋮         ⋮         ⋮    ⋮        ⋮         ⋮    ⋮        \n",
       "362855 Lenskit1M 1         UU        5999 0.690    0         NA   0        \n",
       "362856 Lenskit1M 1         UU        6007 0.787    0         NA   0        \n",
       "362857 Lenskit1M 1         UU        6008 0.859    0         NA   0        \n",
       "362858 Lenskit1M 1         UU        6012 0.681    0         NA   0        \n",
       "362859 Lenskit1M 1         UU        6013 0.820    0         NA   0        \n",
       "362860 Lenskit1M 1         UU        6018 0.907    0         NA   0        \n",
       "362861 Lenskit1M 1         UU        6022 0.856    0         NA   0        \n",
       "362862 Lenskit1M 1         UU        6032 0.788    0         NA   0        \n",
       "362863 Lenskit1M 1         UU        6034 0.762    0         NA   0        \n",
       "362864 Lenskit1M 1         UU        6035 0.868    0         NA   0        \n",
       "       AvgPrec   gender age    \n",
       "1      0.0000000 M      [25-34]\n",
       "2      0.0000000 M      [25-34]\n",
       "3      0.0000000 F      [18-24]\n",
       "4      0.0000000 F      [18-24]\n",
       "5      0.0000000 F      [18-24]\n",
       "6      0.0000000 F      [18-24]\n",
       "7      0.0000000 M      NA     \n",
       "8      0.0000000 F      [18-24]\n",
       "9      0.0000000 M      NA     \n",
       "10     0.1766667 M      [25-34]\n",
       "⋮      ⋮         ⋮      ⋮      \n",
       "362855 0         F      NA     \n",
       "362856 0         M      [18-24]\n",
       "362857 0         NA     [25-34]\n",
       "362858 0         M      [18-24]\n",
       "362859 0         M      [25-34]\n",
       "362860 0         NA     NA     \n",
       "362861 0         F      [18-24]\n",
       "362862 0         M      [18-24]\n",
       "362863 0         M      NA     \n",
       "362864 0         M      [25-34]"
      ]
     },
     "metadata": {},
     "output_type": "display_data"
    }
   ],
   "source": [
    "user.results <- rbind.fill(user.results.lastFm,user.results.lenskit1m)\n",
    "user.results"
   ]
  },
  {
   "cell_type": "markdown",
   "metadata": {},
   "source": [
    "# Analyze by Gender"
   ]
  },
  {
   "cell_type": "code",
   "execution_count": 220,
   "metadata": {
    "collapsed": false
   },
   "outputs": [
    {
     "name": "stderr",
     "output_type": "stream",
     "text": [
      "Using DataSet, Algorithm, gender as id variables\n"
     ]
    }
   ],
   "source": [
    "gender.results = user.results %>%\n",
    "    group_by(DataSet, Algorithm, gender) %>%\n",
    "    summarize( MRR=mean(RecipRank, na.rm=TRUE))\n",
    "gender.tall = melt(gender.results, variable.name = \"Metric\")\n"
   ]
  },
  {
   "cell_type": "code",
   "execution_count": 221,
   "metadata": {
    "collapsed": false
   },
   "outputs": [
    {
     "name": "stderr",
     "output_type": "stream",
     "text": [
      "Using DataSet, Algorithm, gender as id variables\n"
     ]
    }
   ],
   "source": [
    "overall.results = user.results %>%\n",
    "    group_by(DataSet, Algorithm) %>%\n",
    "    summarize( MRR=mean(RecipRank, na.rm=TRUE))\n",
    "combined.results = rbind(gender.results, mutate(overall.results))\n",
    "combined.tall = melt(combined.results, variable.name='Metric')\n"
   ]
  },
  {
   "cell_type": "code",
   "execution_count": 222,
   "metadata": {
    "collapsed": true
   },
   "outputs": [],
   "source": [
    "combined.tall$Algorithm[combined.tall$Algorithm == \"Pop\"] <- \"POP-B\"\n",
    "combined.tall$Algorithm[combined.tall$Algorithm == \"PopCt\"] <- \"PoP-C\""
   ]
  },
  {
   "cell_type": "code",
   "execution_count": 225,
   "metadata": {
    "collapsed": false
   },
   "outputs": [
    {
     "data": {},
     "metadata": {},
     "output_type": "display_data"
    },
    {
     "data": {
      "image/png": "[encoded data removed]",
      "text/plain": [
       "plot without title"
      ]
     },
     "metadata": {},
     "output_type": "display_data"
    }
   ],
   "source": [
    "\n",
    "ggplot(combined.tall %>% filter((DataSet == \"LastFM\" | DataSet == \"MovieLens-1M\"))) +\n",
    "    aes(x=gender, y=value, fill=Algorithm) +\n",
    "    geom_bar(stat=\"identity\", position=\"dodge\") +\n",
    "    facet_grid(DataSet ~., scales=\"free\")"
   ]
  },
  {
   "cell_type": "markdown",
   "metadata": {},
   "source": [
    "# Analyze by Age"
   ]
  },
  {
   "cell_type": "code",
   "execution_count": 237,
   "metadata": {
    "collapsed": false
   },
   "outputs": [
    {
     "name": "stderr",
     "output_type": "stream",
     "text": [
      "Using DataSet, Algorithm, age as id variables\n"
     ]
    }
   ],
   "source": [
    "age.results = user.results %>%\n",
    "    group_by(DataSet, Algorithm, age) %>%\n",
    "   summarize( MRR=mean(RecipRank, na.rm=TRUE))\n",
    "age.tall = melt(age.results, variable.name = \"Metric\")\n"
   ]
  },
  {
   "cell_type": "code",
   "execution_count": 238,
   "metadata": {
    "collapsed": false
   },
   "outputs": [
    {
     "name": "stderr",
     "output_type": "stream",
     "text": [
      "Using DataSet, Algorithm, age as id variables\n"
     ]
    }
   ],
   "source": [
    "overall.results = user.results %>%\n",
    "    group_by(DataSet, Algorithm) %>%\n",
    "    summarize( MRR=mean(RecipRank, na.rm=TRUE))\n",
    "combined.results = rbind(age.results, mutate(overall.results))\n",
    "combined.tall = melt(combined.results, variable.name='Metric')\n",
    "combined.tall$Algorithm[combined.tall$Algorithm == \"Pop\"] <- \"POP-B\"\n",
    "combined.tall$Algorithm[combined.tall$Algorithm == \"PopCt\"] <- \"POP-C\""
   ]
  },
  {
   "cell_type": "code",
   "execution_count": 239,
   "metadata": {
    "collapsed": false
   },
   "outputs": [
    {
     "data": {},
     "metadata": {},
     "output_type": "display_data"
    },
    {
     "data": {
      "image/png": "[encoded data removed]",
      "text/plain": [
       "plot without title"
      ]
     },
     "metadata": {},
     "output_type": "display_data"
    }
   ],
   "source": [
    "ggplot(combined.tall %>% filter(Metric == 'MRR', DataSet==c(\"LastFM\",\"Lenskit1M\"),\n",
    "                                grepl(\"(-B)|(-C)\", Algorithm)  )) +\n",
    "    aes(x=age, y=value, fill=Algorithm) +\n",
    "    geom_bar(stat=\"identity\", position=\"dodge\") +\n",
    "    facet_grid(DataSet ~ Metric, scales=\"free\")"
   ]
  },
  {
   "cell_type": "code",
   "execution_count": null,
   "metadata": {
    "collapsed": true
   },
   "outputs": [],
   "source": []
  },
  {
   "cell_type": "code",
   "execution_count": null,
   "metadata": {
    "collapsed": true
   },
   "outputs": [],
   "source": []
  }
 ],
 "metadata": {
  "anaconda-cloud": {},
  "kernelspec": {
   "display_name": "R [conda env:my-r-env]",
   "language": "R",
   "name": "conda-env-my-r-env-r"
  },
  "language_info": {
   "codemirror_mode": "r",
   "file_extension": ".r",
   "mimetype": "text/x-r-source",
   "name": "R",
   "pygments_lexer": "r",
   "version": "3.3.2"
  }
 },
 "nbformat": 4,
 "nbformat_minor": 1
}
