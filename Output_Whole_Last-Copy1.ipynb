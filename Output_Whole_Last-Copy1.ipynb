{
 "cells": [
  {
   "cell_type": "code",
   "execution_count": 2,
   "metadata": {
    "collapsed": false
   },
   "outputs": [
    {
     "name": "stderr",
     "output_type": "stream",
     "text": [
      "\n",
      "Attaching package: ‘dplyr’\n",
      "\n",
      "The following objects are masked from ‘package:plyr’:\n",
      "\n",
      "    arrange, count, desc, failwith, id, mutate, rename, summarise,\n",
      "    summarize\n",
      "\n",
      "The following object is masked from ‘package:MASS’:\n",
      "\n",
      "    select\n",
      "\n",
      "The following objects are masked from ‘package:stats’:\n",
      "\n",
      "    filter, lag\n",
      "\n",
      "The following objects are masked from ‘package:base’:\n",
      "\n",
      "    intersect, setdiff, setequal, union\n",
      "\n"
     ]
    }
   ],
   "source": [
    "library(MASS)\n",
    "library(plyr)\n",
    "library(dplyr)\n",
    "library(readr)\n",
    "library(ggplot2)\n",
    "library(reshape2)"
   ]
  },
  {
   "cell_type": "code",
   "execution_count": 3,
   "metadata": {
    "collapsed": true
   },
   "outputs": [],
   "source": [
    "options(repr.plot.height=5)\n",
    "options(repr.matrix.max.rows=20)\n",
    "options(repr.matrix.max.columns=10)\n",
    "lenskitFile <- \"data/demographic-eval/eval-users.csv\"\n",
    "lastFmFile <- \"data/demographic-eval/lastfm-user-results.csv\""
   ]
  },
  {
   "cell_type": "markdown",
   "metadata": {},
   "source": [
    "# Load Lenskit 1M"
   ]
  },
  {
   "cell_type": "code",
   "execution_count": 11,
   "metadata": {
    "collapsed": false,
    "scrolled": true
   },
   "outputs": [
    {
     "data": {
      "text/html": [
       "<table>\n",
       "<thead><tr><th scope=col>id</th><th scope=col>gender</th><th scope=col>age</th><th scope=col>occupation</th><th scope=col>zip</th><th scope=col>dataset</th></tr></thead>\n",
       "<tbody>\n",
       "\t<tr><td> 1        </td><td>F         </td><td>1         </td><td>10        </td><td>48067     </td><td>Lenskit-1m</td></tr>\n",
       "\t<tr><td> 2        </td><td>M         </td><td>56        </td><td>16        </td><td>70072     </td><td>Lenskit-1m</td></tr>\n",
       "\t<tr><td> 3        </td><td>M         </td><td>25        </td><td>15        </td><td>55117     </td><td>Lenskit-1m</td></tr>\n",
       "\t<tr><td> 4        </td><td>M         </td><td>45        </td><td>7         </td><td>02460     </td><td>Lenskit-1m</td></tr>\n",
       "\t<tr><td> 5        </td><td>M         </td><td>25        </td><td>20        </td><td>55455     </td><td>Lenskit-1m</td></tr>\n",
       "\t<tr><td> 6        </td><td>F         </td><td>50        </td><td>9         </td><td>55117     </td><td>Lenskit-1m</td></tr>\n",
       "\t<tr><td> 7        </td><td>M         </td><td>35        </td><td>1         </td><td>06810     </td><td>Lenskit-1m</td></tr>\n",
       "\t<tr><td> 8        </td><td>M         </td><td>25        </td><td>12        </td><td>11413     </td><td>Lenskit-1m</td></tr>\n",
       "\t<tr><td> 9        </td><td>M         </td><td>25        </td><td>17        </td><td>61614     </td><td>Lenskit-1m</td></tr>\n",
       "\t<tr><td>10        </td><td>F         </td><td>35        </td><td>1         </td><td>95370     </td><td>Lenskit-1m</td></tr>\n",
       "\t<tr><td>⋮</td><td>⋮</td><td>⋮</td><td>⋮</td><td>⋮</td><td>⋮</td></tr>\n",
       "\t<tr><td>6031      </td><td>F         </td><td>18        </td><td>0         </td><td>45123     </td><td>Lenskit-1m</td></tr>\n",
       "\t<tr><td>6032      </td><td>M         </td><td>45        </td><td>7         </td><td>55108     </td><td>Lenskit-1m</td></tr>\n",
       "\t<tr><td>6033      </td><td>M         </td><td>50        </td><td>13        </td><td>78232     </td><td>Lenskit-1m</td></tr>\n",
       "\t<tr><td>6034      </td><td>M         </td><td>25        </td><td>14        </td><td>94117     </td><td>Lenskit-1m</td></tr>\n",
       "\t<tr><td>6035      </td><td>F         </td><td>25        </td><td>1         </td><td>78734     </td><td>Lenskit-1m</td></tr>\n",
       "\t<tr><td>6036      </td><td>F         </td><td>25        </td><td>15        </td><td>32603     </td><td>Lenskit-1m</td></tr>\n",
       "\t<tr><td>6037      </td><td>F         </td><td>45        </td><td>1         </td><td>76006     </td><td>Lenskit-1m</td></tr>\n",
       "\t<tr><td>6038      </td><td>F         </td><td>56        </td><td>1         </td><td>14706     </td><td>Lenskit-1m</td></tr>\n",
       "\t<tr><td>6039      </td><td>F         </td><td>45        </td><td>0         </td><td>01060     </td><td>Lenskit-1m</td></tr>\n",
       "\t<tr><td>6040      </td><td>M         </td><td>25        </td><td>6         </td><td>11106     </td><td>Lenskit-1m</td></tr>\n",
       "</tbody>\n",
       "</table>\n"
      ],
      "text/latex": [
       "\\begin{tabular}{r|llllll}\n",
       " id & gender & age & occupation & zip & dataset\\\\\n",
       "\\hline\n",
       "\t  1         & F          & 1          & 10         & 48067      & Lenskit-1m\\\\\n",
       "\t  2         & M          & 56         & 16         & 70072      & Lenskit-1m\\\\\n",
       "\t  3         & M          & 25         & 15         & 55117      & Lenskit-1m\\\\\n",
       "\t  4         & M          & 45         & 7          & 02460      & Lenskit-1m\\\\\n",
       "\t  5         & M          & 25         & 20         & 55455      & Lenskit-1m\\\\\n",
       "\t  6         & F          & 50         & 9          & 55117      & Lenskit-1m\\\\\n",
       "\t  7         & M          & 35         & 1          & 06810      & Lenskit-1m\\\\\n",
       "\t  8         & M          & 25         & 12         & 11413      & Lenskit-1m\\\\\n",
       "\t  9         & M          & 25         & 17         & 61614      & Lenskit-1m\\\\\n",
       "\t 10         & F          & 35         & 1          & 95370      & Lenskit-1m\\\\\n",
       "\t ⋮ & ⋮ & ⋮ & ⋮ & ⋮ & ⋮\\\\\n",
       "\t 6031       & F          & 18         & 0          & 45123      & Lenskit-1m\\\\\n",
       "\t 6032       & M          & 45         & 7          & 55108      & Lenskit-1m\\\\\n",
       "\t 6033       & M          & 50         & 13         & 78232      & Lenskit-1m\\\\\n",
       "\t 6034       & M          & 25         & 14         & 94117      & Lenskit-1m\\\\\n",
       "\t 6035       & F          & 25         & 1          & 78734      & Lenskit-1m\\\\\n",
       "\t 6036       & F          & 25         & 15         & 32603      & Lenskit-1m\\\\\n",
       "\t 6037       & F          & 45         & 1          & 76006      & Lenskit-1m\\\\\n",
       "\t 6038       & F          & 56         & 1          & 14706      & Lenskit-1m\\\\\n",
       "\t 6039       & F          & 45         & 0          & 01060      & Lenskit-1m\\\\\n",
       "\t 6040       & M          & 25         & 6          & 11106      & Lenskit-1m\\\\\n",
       "\\end{tabular}\n"
      ],
      "text/markdown": [
       "\n",
       "id | gender | age | occupation | zip | dataset | \n",
       "|---|---|---|---|---|---|---|---|---|---|---|---|---|---|---|---|---|---|---|---|---|\n",
       "|  1         | F          | 1          | 10         | 48067      | Lenskit-1m | \n",
       "|  2         | M          | 56         | 16         | 70072      | Lenskit-1m | \n",
       "|  3         | M          | 25         | 15         | 55117      | Lenskit-1m | \n",
       "|  4         | M          | 45         | 7          | 02460      | Lenskit-1m | \n",
       "|  5         | M          | 25         | 20         | 55455      | Lenskit-1m | \n",
       "|  6         | F          | 50         | 9          | 55117      | Lenskit-1m | \n",
       "|  7         | M          | 35         | 1          | 06810      | Lenskit-1m | \n",
       "|  8         | M          | 25         | 12         | 11413      | Lenskit-1m | \n",
       "|  9         | M          | 25         | 17         | 61614      | Lenskit-1m | \n",
       "| 10         | F          | 35         | 1          | 95370      | Lenskit-1m | \n",
       "| ⋮ | ⋮ | ⋮ | ⋮ | ⋮ | ⋮ | \n",
       "| 6031       | F          | 18         | 0          | 45123      | Lenskit-1m | \n",
       "| 6032       | M          | 45         | 7          | 55108      | Lenskit-1m | \n",
       "| 6033       | M          | 50         | 13         | 78232      | Lenskit-1m | \n",
       "| 6034       | M          | 25         | 14         | 94117      | Lenskit-1m | \n",
       "| 6035       | F          | 25         | 1          | 78734      | Lenskit-1m | \n",
       "| 6036       | F          | 25         | 15         | 32603      | Lenskit-1m | \n",
       "| 6037       | F          | 45         | 1          | 76006      | Lenskit-1m | \n",
       "| 6038       | F          | 56         | 1          | 14706      | Lenskit-1m | \n",
       "| 6039       | F          | 45         | 0          | 01060      | Lenskit-1m | \n",
       "| 6040       | M          | 25         | 6          | 11106      | Lenskit-1m | \n",
       "\n",
       "\n"
      ],
      "text/plain": [
       "     id   gender age occupation zip   dataset   \n",
       "1     1   F      1   10         48067 Lenskit-1m\n",
       "2     2   M      56  16         70072 Lenskit-1m\n",
       "3     3   M      25  15         55117 Lenskit-1m\n",
       "4     4   M      45  7          02460 Lenskit-1m\n",
       "5     5   M      25  20         55455 Lenskit-1m\n",
       "6     6   F      50  9          55117 Lenskit-1m\n",
       "7     7   M      35  1          06810 Lenskit-1m\n",
       "8     8   M      25  12         11413 Lenskit-1m\n",
       "9     9   M      25  17         61614 Lenskit-1m\n",
       "10   10   F      35  1          95370 Lenskit-1m\n",
       "⋮    ⋮    ⋮      ⋮   ⋮          ⋮     ⋮         \n",
       "6031 6031 F      18  0          45123 Lenskit-1m\n",
       "6032 6032 M      45  7          55108 Lenskit-1m\n",
       "6033 6033 M      50  13         78232 Lenskit-1m\n",
       "6034 6034 M      25  14         94117 Lenskit-1m\n",
       "6035 6035 F      25  1          78734 Lenskit-1m\n",
       "6036 6036 F      25  15         32603 Lenskit-1m\n",
       "6037 6037 F      45  1          76006 Lenskit-1m\n",
       "6038 6038 F      56  1          14706 Lenskit-1m\n",
       "6039 6039 F      45  0          01060 Lenskit-1m\n",
       "6040 6040 M      25  6          11106 Lenskit-1m"
      ]
     },
     "metadata": {},
     "output_type": "display_data"
    },
    {
     "name": "stderr",
     "output_type": "stream",
     "text": [
      "Warning message in lenskit.meta$age[as.numeric(lenskit.meta$age) >= 18 & as.numeric(lenskit.meta$age) < :\n",
      "“NAs introduced by coercion”Warning message in lenskit.meta$age[as.numeric(lenskit.meta$age) >= 18 & as.numeric(lenskit.meta$age) < :\n",
      "“NAs introduced by coercion”Warning message in lenskit.meta$age[as.numeric(lenskit.meta$age) >= 25 & as.numeric(lenskit.meta$age) < :\n",
      "“NAs introduced by coercion”Warning message in lenskit.meta$age[as.numeric(lenskit.meta$age) >= 25 & as.numeric(lenskit.meta$age) < :\n",
      "“NAs introduced by coercion”Warning message in lenskit.meta$age[as.numeric(lenskit.meta$age) >= 35 & as.numeric(lenskit.meta$age) < :\n",
      "“NAs introduced by coercion”Warning message in lenskit.meta$age[as.numeric(lenskit.meta$age) >= 35 & as.numeric(lenskit.meta$age) < :\n",
      "“NAs introduced by coercion”Warning message in lenskit.meta$age[as.numeric(lenskit.meta$age) >= 45 & as.numeric(lenskit.meta$age) < :\n",
      "“NAs introduced by coercion”Warning message in lenskit.meta$age[as.numeric(lenskit.meta$age) >= 45 & as.numeric(lenskit.meta$age) < :\n",
      "“NAs introduced by coercion”Warning message in lenskit.meta$age[as.numeric(lenskit.meta$age) >= 56] <- \"[56+]\":\n",
      "“NAs introduced by coercion”"
     ]
    }
   ],
   "source": [
    "lenskit.meta = read_delim(\"data/lk1m/users.dat\", delim=\":\",\n",
    "                   col_names=c(\"id\", \"gender\", \"age\", \"occupation\", \"zip\"),\n",
    "                   col_types=\"i_c_c_c_c\") %>%\n",
    "    mutate(gender=as.factor(gender),\n",
    "           \n",
    "          dataset = \"Lenskit-1m\")\n",
    "lenskit.meta\n",
    "lenskit.meta$age[ as.numeric(lenskit.meta$age) < 18] <- \"[1-17]\"\n",
    "lenskit.meta$age[as.numeric(lenskit.meta$age) >= 18 & as.numeric(lenskit.meta$age) < 25] <- \"[18-24]\"\n",
    "lenskit.meta$age[as.numeric(lenskit.meta$age) >= 25 &  as.numeric(lenskit.meta$age) < 35] <- \"[25-34]\"\n",
    "lenskit.meta$age[as.numeric(lenskit.meta$age) >= 35 &  as.numeric(lenskit.meta$age) < 45] <- \"[35-44]\"\n",
    "lenskit.meta$age[as.numeric(lenskit.meta$age) >= 45 & as.numeric(lenskit.meta$age) < 56] <- \"[45-55]\"\n",
    "lenskit.meta$age[as.numeric(lenskit.meta$age) >= 56 ] <- \"[56+]\"\n",
    "lenskit.meta$age = as.factor(lenskit.meta$age)\n",
    "#lenskit.meta\n"
   ]
  },
  {
   "cell_type": "code",
   "execution_count": 14,
   "metadata": {
    "collapsed": false
   },
   "outputs": [
    {
     "name": "stderr",
     "output_type": "stream",
     "text": [
      "Parsed with column specification:\n",
      "cols(\n",
      "  DataSet = col_character(),\n",
      "  Partition = col_integer(),\n",
      "  Algorithm = col_character(),\n",
      "  User = col_integer(),\n",
      "  TestTime = col_double(),\n",
      "  RMSE = col_double(),\n",
      "  Predict.nDCG = col_double(),\n",
      "  Predict.nDCG.Raw = col_double(),\n",
      "  TopN.nDCG = col_double(),\n",
      "  Rank = col_integer(),\n",
      "  RecipRank = col_double(),\n",
      "  AvgPrec = col_double()\n",
      ")\n",
      "Joining, by = \"user\"\n"
     ]
    },
    {
     "data": {
      "text/html": [
       "<table>\n",
       "<thead><tr><th scope=col>DataSet</th><th scope=col>Partition</th><th scope=col>Algorithm</th><th scope=col>user</th><th scope=col>TestTime</th><th scope=col>RMSE</th><th scope=col>Predict.nDCG</th><th scope=col>Predict.nDCG.Raw</th><th scope=col>TopN.nDCG</th><th scope=col>Rank</th><th scope=col>RecipRank</th><th scope=col>AvgPrec</th><th scope=col>gender</th><th scope=col>age</th><th scope=col>occupation</th><th scope=col>zip</th><th scope=col>dataset</th></tr></thead>\n",
       "<tbody>\n",
       "\t<tr><td>Lenskit1M </td><td>5         </td><td>Pop       </td><td> 2        </td><td>0.108     </td><td>NA        </td><td>NA        </td><td>NA        </td><td>0.3475825 </td><td> 2        </td><td>0.5       </td><td>0.5       </td><td>M         </td><td>[56+]     </td><td>16        </td><td>70072     </td><td>Lenskit-1m</td></tr>\n",
       "\t<tr><td>Lenskit1M </td><td>1         </td><td>Pop       </td><td> 8        </td><td>0.022     </td><td>NA        </td><td>NA        </td><td>NA        </td><td>0.0000000 </td><td>NA        </td><td>0.0       </td><td>0.0       </td><td>M         </td><td>[25-34]   </td><td>12        </td><td>11413     </td><td>Lenskit-1m</td></tr>\n",
       "\t<tr><td>Lenskit1M </td><td>1         </td><td>Pop       </td><td>19        </td><td>0.004     </td><td>NA        </td><td>NA        </td><td>NA        </td><td>0.3459155 </td><td> 2        </td><td>0.5       </td><td>0.5       </td><td>M         </td><td>[1-17]    </td><td>10        </td><td>48073     </td><td>Lenskit-1m</td></tr>\n",
       "\t<tr><td>Lenskit1M </td><td>1         </td><td>Pop       </td><td>20        </td><td>0.015     </td><td>NA        </td><td>NA        </td><td>NA        </td><td>0.1124794 </td><td> 5        </td><td>0.2       </td><td>0.2       </td><td>M         </td><td>[25-34]   </td><td>14        </td><td>55113     </td><td>Lenskit-1m</td></tr>\n",
       "\t<tr><td>Lenskit1M </td><td>5         </td><td>Pop       </td><td> 5        </td><td>0.022     </td><td>NA        </td><td>NA        </td><td>NA        </td><td>0.0000000 </td><td>NA        </td><td>0.0       </td><td>0.0       </td><td>M         </td><td>[25-34]   </td><td>20        </td><td>55455     </td><td>Lenskit-1m</td></tr>\n",
       "\t<tr><td>Lenskit1M </td><td>1         </td><td>Pop       </td><td>21        </td><td>0.008     </td><td>NA        </td><td>NA        </td><td>NA        </td><td>0.0000000 </td><td>NA        </td><td>0.0       </td><td>0.0       </td><td>M         </td><td>[18-24]   </td><td>16        </td><td>99353     </td><td>Lenskit-1m</td></tr>\n",
       "\t<tr><td>Lenskit1M </td><td>5         </td><td>Pop       </td><td>12        </td><td>0.003     </td><td>NA        </td><td>NA        </td><td>NA        </td><td>0.1221369 </td><td>10        </td><td>0.1       </td><td>0.1       </td><td>M         </td><td>[25-34]   </td><td>12        </td><td>32793     </td><td>Lenskit-1m</td></tr>\n",
       "\t<tr><td>Lenskit1M </td><td>1         </td><td>Pop       </td><td>25        </td><td>0.004     </td><td>NA        </td><td>NA        </td><td>NA        </td><td>0.0000000 </td><td>NA        </td><td>0.0       </td><td>0.0       </td><td>M         </td><td>[18-24]   </td><td>4         </td><td>01609     </td><td>Lenskit-1m</td></tr>\n",
       "\t<tr><td>Lenskit1M </td><td>5         </td><td>Pop       </td><td>16        </td><td>0.003     </td><td>NA        </td><td>NA        </td><td>NA        </td><td>0.0000000 </td><td>NA        </td><td>0.0       </td><td>0.0       </td><td>F         </td><td>[35-44]   </td><td>0         </td><td>20670     </td><td>Lenskit-1m</td></tr>\n",
       "\t<tr><td>Lenskit1M </td><td>1         </td><td>Pop       </td><td>27        </td><td>0.003     </td><td>NA        </td><td>NA        </td><td>NA        </td><td>0.0000000 </td><td>NA        </td><td>0.0       </td><td>0.0       </td><td>M         </td><td>[25-34]   </td><td>11        </td><td>19130     </td><td>Lenskit-1m</td></tr>\n",
       "\t<tr><td>⋮</td><td>⋮</td><td>⋮</td><td>⋮</td><td>⋮</td><td>⋮</td><td>⋮</td><td>⋮</td><td>⋮</td><td>⋮</td><td>⋮</td><td>⋮</td><td>⋮</td><td>⋮</td><td>⋮</td><td>⋮</td><td>⋮</td></tr>\n",
       "\t<tr><td>Lenskit1M </td><td>1         </td><td>UU        </td><td>5999      </td><td>0.690     </td><td>0.9520709 </td><td>1.0000000 </td><td>13.95440  </td><td>0         </td><td>NA        </td><td>0         </td><td>0         </td><td>F         </td><td>[25-34]   </td><td>1         </td><td>55455     </td><td>Lenskit-1m</td></tr>\n",
       "\t<tr><td>Lenskit1M </td><td>1         </td><td>UU        </td><td>6007      </td><td>0.787     </td><td>0.7108850 </td><td>0.9836583 </td><td>12.05389  </td><td>0         </td><td>NA        </td><td>0         </td><td>0         </td><td>M         </td><td>[35-44]   </td><td>17        </td><td>80537     </td><td>Lenskit-1m</td></tr>\n",
       "\t<tr><td>Lenskit1M </td><td>1         </td><td>UU        </td><td>6008      </td><td>0.859     </td><td>0.7900990 </td><td>0.9649570 </td><td>15.67710  </td><td>0         </td><td>NA        </td><td>0         </td><td>0         </td><td>M         </td><td>[18-24]   </td><td>4         </td><td>78705     </td><td>Lenskit-1m</td></tr>\n",
       "\t<tr><td>Lenskit1M </td><td>1         </td><td>UU        </td><td>6012      </td><td>0.681     </td><td>0.6534683 </td><td>0.9698820 </td><td>11.88507  </td><td>0         </td><td>NA        </td><td>0         </td><td>0         </td><td>M         </td><td>[35-44]   </td><td>15        </td><td>02871     </td><td>Lenskit-1m</td></tr>\n",
       "\t<tr><td>Lenskit1M </td><td>1         </td><td>UU        </td><td>6013      </td><td>0.820     </td><td>0.4356744 </td><td>1.0000000 </td><td>17.80803  </td><td>0         </td><td>NA        </td><td>0         </td><td>0         </td><td>F         </td><td>[25-34]   </td><td>20        </td><td>32301     </td><td>Lenskit-1m</td></tr>\n",
       "\t<tr><td>Lenskit1M </td><td>1         </td><td>UU        </td><td>6018      </td><td>0.907     </td><td>1.0807445 </td><td>0.9015577 </td><td>13.80803  </td><td>0         </td><td>NA        </td><td>0         </td><td>0         </td><td>M         </td><td>[35-44]   </td><td>1         </td><td>48906     </td><td>Lenskit-1m</td></tr>\n",
       "\t<tr><td>Lenskit1M </td><td>1         </td><td>UU        </td><td>6022      </td><td>0.856     </td><td>0.5980294 </td><td>1.0000000 </td><td>16.87736  </td><td>0         </td><td>NA        </td><td>0         </td><td>0         </td><td>M         </td><td>[25-34]   </td><td>17        </td><td>57006     </td><td>Lenskit-1m</td></tr>\n",
       "\t<tr><td>Lenskit1M </td><td>1         </td><td>UU        </td><td>6032      </td><td>0.788     </td><td>0.8062843 </td><td>1.0000000 </td><td>16.01600  </td><td>0         </td><td>NA        </td><td>0         </td><td>0         </td><td>M         </td><td>[45-55]   </td><td>7         </td><td>55108     </td><td>Lenskit-1m</td></tr>\n",
       "\t<tr><td>Lenskit1M </td><td>1         </td><td>UU        </td><td>6034      </td><td>0.762     </td><td>0.7586538 </td><td>1.0000000 </td><td>14.38507  </td><td>0         </td><td>NA        </td><td>0         </td><td>0         </td><td>M         </td><td>[25-34]   </td><td>14        </td><td>94117     </td><td>Lenskit-1m</td></tr>\n",
       "\t<tr><td>Lenskit1M </td><td>1         </td><td>UU        </td><td>6035      </td><td>0.868     </td><td>0.9101502 </td><td>0.9821083 </td><td>10.99228  </td><td>0         </td><td>NA        </td><td>0         </td><td>0         </td><td>F         </td><td>[25-34]   </td><td>1         </td><td>78734     </td><td>Lenskit-1m</td></tr>\n",
       "</tbody>\n",
       "</table>\n"
      ],
      "text/latex": [
       "\\begin{tabular}{r|lllllllllllllllll}\n",
       " DataSet & Partition & Algorithm & user & TestTime & RMSE & Predict.nDCG & Predict.nDCG.Raw & TopN.nDCG & Rank & RecipRank & AvgPrec & gender & age & occupation & zip & dataset\\\\\n",
       "\\hline\n",
       "\t Lenskit1M   & 5           & Pop         &  2          & 0.108       & NA          & NA          & NA          & 0.3475825   &  2          & 0.5         & 0.5         & M           & {[}56+{]}   & 16          & 70072       & Lenskit-1m \\\\\n",
       "\t Lenskit1M   & 1           & Pop         &  8          & 0.022       & NA          & NA          & NA          & 0.0000000   & NA          & 0.0         & 0.0         & M           & {[}25-34{]} & 12          & 11413       & Lenskit-1m \\\\\n",
       "\t Lenskit1M   & 1           & Pop         & 19          & 0.004       & NA          & NA          & NA          & 0.3459155   &  2          & 0.5         & 0.5         & M           & {[}1-17{]}  & 10          & 48073       & Lenskit-1m \\\\\n",
       "\t Lenskit1M   & 1           & Pop         & 20          & 0.015       & NA          & NA          & NA          & 0.1124794   &  5          & 0.2         & 0.2         & M           & {[}25-34{]} & 14          & 55113       & Lenskit-1m \\\\\n",
       "\t Lenskit1M   & 5           & Pop         &  5          & 0.022       & NA          & NA          & NA          & 0.0000000   & NA          & 0.0         & 0.0         & M           & {[}25-34{]} & 20          & 55455       & Lenskit-1m \\\\\n",
       "\t Lenskit1M   & 1           & Pop         & 21          & 0.008       & NA          & NA          & NA          & 0.0000000   & NA          & 0.0         & 0.0         & M           & {[}18-24{]} & 16          & 99353       & Lenskit-1m \\\\\n",
       "\t Lenskit1M   & 5           & Pop         & 12          & 0.003       & NA          & NA          & NA          & 0.1221369   & 10          & 0.1         & 0.1         & M           & {[}25-34{]} & 12          & 32793       & Lenskit-1m \\\\\n",
       "\t Lenskit1M   & 1           & Pop         & 25          & 0.004       & NA          & NA          & NA          & 0.0000000   & NA          & 0.0         & 0.0         & M           & {[}18-24{]} & 4           & 01609       & Lenskit-1m \\\\\n",
       "\t Lenskit1M   & 5           & Pop         & 16          & 0.003       & NA          & NA          & NA          & 0.0000000   & NA          & 0.0         & 0.0         & F           & {[}35-44{]} & 0           & 20670       & Lenskit-1m \\\\\n",
       "\t Lenskit1M   & 1           & Pop         & 27          & 0.003       & NA          & NA          & NA          & 0.0000000   & NA          & 0.0         & 0.0         & M           & {[}25-34{]} & 11          & 19130       & Lenskit-1m \\\\\n",
       "\t ⋮ & ⋮ & ⋮ & ⋮ & ⋮ & ⋮ & ⋮ & ⋮ & ⋮ & ⋮ & ⋮ & ⋮ & ⋮ & ⋮ & ⋮ & ⋮ & ⋮\\\\\n",
       "\t Lenskit1M   & 1           & UU          & 5999        & 0.690       & 0.9520709   & 1.0000000   & 13.95440    & 0           & NA          & 0           & 0           & F           & {[}25-34{]} & 1           & 55455       & Lenskit-1m \\\\\n",
       "\t Lenskit1M   & 1           & UU          & 6007        & 0.787       & 0.7108850   & 0.9836583   & 12.05389    & 0           & NA          & 0           & 0           & M           & {[}35-44{]} & 17          & 80537       & Lenskit-1m \\\\\n",
       "\t Lenskit1M   & 1           & UU          & 6008        & 0.859       & 0.7900990   & 0.9649570   & 15.67710    & 0           & NA          & 0           & 0           & M           & {[}18-24{]} & 4           & 78705       & Lenskit-1m \\\\\n",
       "\t Lenskit1M   & 1           & UU          & 6012        & 0.681       & 0.6534683   & 0.9698820   & 11.88507    & 0           & NA          & 0           & 0           & M           & {[}35-44{]} & 15          & 02871       & Lenskit-1m \\\\\n",
       "\t Lenskit1M   & 1           & UU          & 6013        & 0.820       & 0.4356744   & 1.0000000   & 17.80803    & 0           & NA          & 0           & 0           & F           & {[}25-34{]} & 20          & 32301       & Lenskit-1m \\\\\n",
       "\t Lenskit1M   & 1           & UU          & 6018        & 0.907       & 1.0807445   & 0.9015577   & 13.80803    & 0           & NA          & 0           & 0           & M           & {[}35-44{]} & 1           & 48906       & Lenskit-1m \\\\\n",
       "\t Lenskit1M   & 1           & UU          & 6022        & 0.856       & 0.5980294   & 1.0000000   & 16.87736    & 0           & NA          & 0           & 0           & M           & {[}25-34{]} & 17          & 57006       & Lenskit-1m \\\\\n",
       "\t Lenskit1M   & 1           & UU          & 6032        & 0.788       & 0.8062843   & 1.0000000   & 16.01600    & 0           & NA          & 0           & 0           & M           & {[}45-55{]} & 7           & 55108       & Lenskit-1m \\\\\n",
       "\t Lenskit1M   & 1           & UU          & 6034        & 0.762       & 0.7586538   & 1.0000000   & 14.38507    & 0           & NA          & 0           & 0           & M           & {[}25-34{]} & 14          & 94117       & Lenskit-1m \\\\\n",
       "\t Lenskit1M   & 1           & UU          & 6035        & 0.868       & 0.9101502   & 0.9821083   & 10.99228    & 0           & NA          & 0           & 0           & F           & {[}25-34{]} & 1           & 78734       & Lenskit-1m \\\\\n",
       "\\end{tabular}\n"
      ],
      "text/markdown": [
       "\n",
       "DataSet | Partition | Algorithm | user | TestTime | RMSE | Predict.nDCG | Predict.nDCG.Raw | TopN.nDCG | Rank | RecipRank | AvgPrec | gender | age | occupation | zip | dataset | \n",
       "|---|---|---|---|---|---|---|---|---|---|---|---|---|---|---|---|---|---|---|---|---|\n",
       "| Lenskit1M  | 5          | Pop        |  2         | 0.108      | NA         | NA         | NA         | 0.3475825  |  2         | 0.5        | 0.5        | M          | [56+]      | 16         | 70072      | Lenskit-1m | \n",
       "| Lenskit1M  | 1          | Pop        |  8         | 0.022      | NA         | NA         | NA         | 0.0000000  | NA         | 0.0        | 0.0        | M          | [25-34]    | 12         | 11413      | Lenskit-1m | \n",
       "| Lenskit1M  | 1          | Pop        | 19         | 0.004      | NA         | NA         | NA         | 0.3459155  |  2         | 0.5        | 0.5        | M          | [1-17]     | 10         | 48073      | Lenskit-1m | \n",
       "| Lenskit1M  | 1          | Pop        | 20         | 0.015      | NA         | NA         | NA         | 0.1124794  |  5         | 0.2        | 0.2        | M          | [25-34]    | 14         | 55113      | Lenskit-1m | \n",
       "| Lenskit1M  | 5          | Pop        |  5         | 0.022      | NA         | NA         | NA         | 0.0000000  | NA         | 0.0        | 0.0        | M          | [25-34]    | 20         | 55455      | Lenskit-1m | \n",
       "| Lenskit1M  | 1          | Pop        | 21         | 0.008      | NA         | NA         | NA         | 0.0000000  | NA         | 0.0        | 0.0        | M          | [18-24]    | 16         | 99353      | Lenskit-1m | \n",
       "| Lenskit1M  | 5          | Pop        | 12         | 0.003      | NA         | NA         | NA         | 0.1221369  | 10         | 0.1        | 0.1        | M          | [25-34]    | 12         | 32793      | Lenskit-1m | \n",
       "| Lenskit1M  | 1          | Pop        | 25         | 0.004      | NA         | NA         | NA         | 0.0000000  | NA         | 0.0        | 0.0        | M          | [18-24]    | 4          | 01609      | Lenskit-1m | \n",
       "| Lenskit1M  | 5          | Pop        | 16         | 0.003      | NA         | NA         | NA         | 0.0000000  | NA         | 0.0        | 0.0        | F          | [35-44]    | 0          | 20670      | Lenskit-1m | \n",
       "| Lenskit1M  | 1          | Pop        | 27         | 0.003      | NA         | NA         | NA         | 0.0000000  | NA         | 0.0        | 0.0        | M          | [25-34]    | 11         | 19130      | Lenskit-1m | \n",
       "| ⋮ | ⋮ | ⋮ | ⋮ | ⋮ | ⋮ | ⋮ | ⋮ | ⋮ | ⋮ | ⋮ | ⋮ | ⋮ | ⋮ | ⋮ | ⋮ | ⋮ | \n",
       "| Lenskit1M  | 1          | UU         | 5999       | 0.690      | 0.9520709  | 1.0000000  | 13.95440   | 0          | NA         | 0          | 0          | F          | [25-34]    | 1          | 55455      | Lenskit-1m | \n",
       "| Lenskit1M  | 1          | UU         | 6007       | 0.787      | 0.7108850  | 0.9836583  | 12.05389   | 0          | NA         | 0          | 0          | M          | [35-44]    | 17         | 80537      | Lenskit-1m | \n",
       "| Lenskit1M  | 1          | UU         | 6008       | 0.859      | 0.7900990  | 0.9649570  | 15.67710   | 0          | NA         | 0          | 0          | M          | [18-24]    | 4          | 78705      | Lenskit-1m | \n",
       "| Lenskit1M  | 1          | UU         | 6012       | 0.681      | 0.6534683  | 0.9698820  | 11.88507   | 0          | NA         | 0          | 0          | M          | [35-44]    | 15         | 02871      | Lenskit-1m | \n",
       "| Lenskit1M  | 1          | UU         | 6013       | 0.820      | 0.4356744  | 1.0000000  | 17.80803   | 0          | NA         | 0          | 0          | F          | [25-34]    | 20         | 32301      | Lenskit-1m | \n",
       "| Lenskit1M  | 1          | UU         | 6018       | 0.907      | 1.0807445  | 0.9015577  | 13.80803   | 0          | NA         | 0          | 0          | M          | [35-44]    | 1          | 48906      | Lenskit-1m | \n",
       "| Lenskit1M  | 1          | UU         | 6022       | 0.856      | 0.5980294  | 1.0000000  | 16.87736   | 0          | NA         | 0          | 0          | M          | [25-34]    | 17         | 57006      | Lenskit-1m | \n",
       "| Lenskit1M  | 1          | UU         | 6032       | 0.788      | 0.8062843  | 1.0000000  | 16.01600   | 0          | NA         | 0          | 0          | M          | [45-55]    | 7          | 55108      | Lenskit-1m | \n",
       "| Lenskit1M  | 1          | UU         | 6034       | 0.762      | 0.7586538  | 1.0000000  | 14.38507   | 0          | NA         | 0          | 0          | M          | [25-34]    | 14         | 94117      | Lenskit-1m | \n",
       "| Lenskit1M  | 1          | UU         | 6035       | 0.868      | 0.9101502  | 0.9821083  | 10.99228   | 0          | NA         | 0          | 0          | F          | [25-34]    | 1          | 78734      | Lenskit-1m | \n",
       "\n",
       "\n"
      ],
      "text/plain": [
       "      DataSet   Partition Algorithm user TestTime RMSE      Predict.nDCG\n",
       "1     Lenskit1M 5         Pop        2   0.108    NA        NA          \n",
       "2     Lenskit1M 1         Pop        8   0.022    NA        NA          \n",
       "3     Lenskit1M 1         Pop       19   0.004    NA        NA          \n",
       "4     Lenskit1M 1         Pop       20   0.015    NA        NA          \n",
       "5     Lenskit1M 5         Pop        5   0.022    NA        NA          \n",
       "6     Lenskit1M 1         Pop       21   0.008    NA        NA          \n",
       "7     Lenskit1M 5         Pop       12   0.003    NA        NA          \n",
       "8     Lenskit1M 1         Pop       25   0.004    NA        NA          \n",
       "9     Lenskit1M 5         Pop       16   0.003    NA        NA          \n",
       "10    Lenskit1M 1         Pop       27   0.003    NA        NA          \n",
       "⋮     ⋮         ⋮         ⋮         ⋮    ⋮        ⋮         ⋮           \n",
       "66431 Lenskit1M 1         UU        5999 0.690    0.9520709 1.0000000   \n",
       "66432 Lenskit1M 1         UU        6007 0.787    0.7108850 0.9836583   \n",
       "66433 Lenskit1M 1         UU        6008 0.859    0.7900990 0.9649570   \n",
       "66434 Lenskit1M 1         UU        6012 0.681    0.6534683 0.9698820   \n",
       "66435 Lenskit1M 1         UU        6013 0.820    0.4356744 1.0000000   \n",
       "66436 Lenskit1M 1         UU        6018 0.907    1.0807445 0.9015577   \n",
       "66437 Lenskit1M 1         UU        6022 0.856    0.5980294 1.0000000   \n",
       "66438 Lenskit1M 1         UU        6032 0.788    0.8062843 1.0000000   \n",
       "66439 Lenskit1M 1         UU        6034 0.762    0.7586538 1.0000000   \n",
       "66440 Lenskit1M 1         UU        6035 0.868    0.9101502 0.9821083   \n",
       "      Predict.nDCG.Raw TopN.nDCG Rank RecipRank AvgPrec gender age    \n",
       "1     NA               0.3475825  2   0.5       0.5     M      [56+]  \n",
       "2     NA               0.0000000 NA   0.0       0.0     M      [25-34]\n",
       "3     NA               0.3459155  2   0.5       0.5     M      [1-17] \n",
       "4     NA               0.1124794  5   0.2       0.2     M      [25-34]\n",
       "5     NA               0.0000000 NA   0.0       0.0     M      [25-34]\n",
       "6     NA               0.0000000 NA   0.0       0.0     M      [18-24]\n",
       "7     NA               0.1221369 10   0.1       0.1     M      [25-34]\n",
       "8     NA               0.0000000 NA   0.0       0.0     M      [18-24]\n",
       "9     NA               0.0000000 NA   0.0       0.0     F      [35-44]\n",
       "10    NA               0.0000000 NA   0.0       0.0     M      [25-34]\n",
       "⋮     ⋮                ⋮         ⋮    ⋮         ⋮       ⋮      ⋮      \n",
       "66431 13.95440         0         NA   0         0       F      [25-34]\n",
       "66432 12.05389         0         NA   0         0       M      [35-44]\n",
       "66433 15.67710         0         NA   0         0       M      [18-24]\n",
       "66434 11.88507         0         NA   0         0       M      [35-44]\n",
       "66435 17.80803         0         NA   0         0       F      [25-34]\n",
       "66436 13.80803         0         NA   0         0       M      [35-44]\n",
       "66437 16.87736         0         NA   0         0       M      [25-34]\n",
       "66438 16.01600         0         NA   0         0       M      [45-55]\n",
       "66439 14.38507         0         NA   0         0       M      [25-34]\n",
       "66440 10.99228         0         NA   0         0       F      [25-34]\n",
       "      occupation zip   dataset   \n",
       "1     16         70072 Lenskit-1m\n",
       "2     12         11413 Lenskit-1m\n",
       "3     10         48073 Lenskit-1m\n",
       "4     14         55113 Lenskit-1m\n",
       "5     20         55455 Lenskit-1m\n",
       "6     16         99353 Lenskit-1m\n",
       "7     12         32793 Lenskit-1m\n",
       "8     4          01609 Lenskit-1m\n",
       "9     0          20670 Lenskit-1m\n",
       "10    11         19130 Lenskit-1m\n",
       "⋮     ⋮          ⋮     ⋮         \n",
       "66431 1          55455 Lenskit-1m\n",
       "66432 17         80537 Lenskit-1m\n",
       "66433 4          78705 Lenskit-1m\n",
       "66434 15         02871 Lenskit-1m\n",
       "66435 20         32301 Lenskit-1m\n",
       "66436 1          48906 Lenskit-1m\n",
       "66437 17         57006 Lenskit-1m\n",
       "66438 7          55108 Lenskit-1m\n",
       "66439 14         94117 Lenskit-1m\n",
       "66440 1          78734 Lenskit-1m"
      ]
     },
     "metadata": {},
     "output_type": "display_data"
    }
   ],
   "source": [
    "user.results.lenskit1m = read_csv(\"data/demographic-eval/eval-users.csv\", guess_max=10000) %>%\n",
    "    rename(user=User) %>%\n",
    "    inner_join(lenskit.meta %>% rename(user=id))\n",
    "user.results.lenskit1m$DataSet=\"Lenskit1M\"\n",
    "user.results.lenskit1m"
   ]
  },
  {
   "cell_type": "markdown",
   "metadata": {},
   "source": [
    "# Load Last.FM"
   ]
  },
  {
   "cell_type": "code",
   "execution_count": 9,
   "metadata": {
    "collapsed": false,
    "scrolled": true
   },
   "outputs": [
    {
     "name": "stderr",
     "output_type": "stream",
     "text": [
      "Parsed with column specification:\n",
      "cols(\n",
      "  id = col_integer(),\n",
      "  key = col_character(),\n",
      "  gender = col_character(),\n",
      "  age = col_integer()\n",
      ")\n",
      "Warning message in usersLastfm$age[as.numeric(usersLastfm$age) >= 18 & as.numeric(usersLastfm$age) < :\n",
      "“NAs introduced by coercion”Warning message in usersLastfm$age[as.numeric(usersLastfm$age) >= 18 & as.numeric(usersLastfm$age) < :\n",
      "“NAs introduced by coercion”Warning message in usersLastfm$age[as.numeric(usersLastfm$age) >= 25 & as.numeric(usersLastfm$age) < :\n",
      "“NAs introduced by coercion”Warning message in usersLastfm$age[as.numeric(usersLastfm$age) >= 25 & as.numeric(usersLastfm$age) < :\n",
      "“NAs introduced by coercion”Warning message in usersLastfm$age[as.numeric(usersLastfm$age) >= 35 & as.numeric(usersLastfm$age) < :\n",
      "“NAs introduced by coercion”Warning message in usersLastfm$age[as.numeric(usersLastfm$age) >= 35 & as.numeric(usersLastfm$age) < :\n",
      "“NAs introduced by coercion”Warning message in usersLastfm$age[as.numeric(usersLastfm$age) >= 45 & as.numeric(usersLastfm$age) < :\n",
      "“NAs introduced by coercion”Warning message in usersLastfm$age[as.numeric(usersLastfm$age) >= 45 & as.numeric(usersLastfm$age) < :\n",
      "“NAs introduced by coercion”Warning message in usersLastfm$age[as.numeric(usersLastfm$age) >= 56] <- \"[56+]\":\n",
      "“NAs introduced by coercion”"
     ]
    },
    {
     "data": {
      "text/html": [
       "<table>\n",
       "<thead><tr><th scope=col>id</th><th scope=col>key</th><th scope=col>gender</th><th scope=col>age</th></tr></thead>\n",
       "<tbody>\n",
       "\t<tr><td> 1                                      </td><td>00000c289a1829a808ac09c00daf10bc3c4e223b</td><td>F                                       </td><td>[18-24]                                 </td></tr>\n",
       "\t<tr><td> 2                                      </td><td>00001411dc427966b17297bf4d69e7e193135d89</td><td>F                                       </td><td>NA                                      </td></tr>\n",
       "\t<tr><td> 3                                      </td><td>00004d2ac9316e22dc007ab2243d6fcb239e707d</td><td>NA                                      </td><td>NA                                      </td></tr>\n",
       "\t<tr><td> 4                                      </td><td>000063d3fe1cf2ba248b9e3c3f0334845a27a6bf</td><td>M                                       </td><td>[18-24]                                 </td></tr>\n",
       "\t<tr><td> 5                                      </td><td>00007a47085b9aab8af55f52ec8846ac479ac4fe</td><td>M                                       </td><td>[25-34]                                 </td></tr>\n",
       "\t<tr><td> 6                                      </td><td>0000c176103e538d5c9828e695fed4f7ae42dd01</td><td>M                                       </td><td>[18-24]                                 </td></tr>\n",
       "\t<tr><td> 7                                      </td><td>0000ee7dd906373efa37f4e1185bfe1e3f8695ae</td><td>M                                       </td><td>[1-17]                                  </td></tr>\n",
       "\t<tr><td> 8                                      </td><td>0000ef373bbd0d89ce796abae961f2705e8c1faf</td><td>F                                       </td><td>[18-24]                                 </td></tr>\n",
       "\t<tr><td> 9                                      </td><td>0000f687d4fe9c1ed49620fbc5ed5b0d7798ea20</td><td>F                                       </td><td>[18-24]                                 </td></tr>\n",
       "\t<tr><td>10                                      </td><td>0001399387da41d557219578fb08b12afa25ab67</td><td>M                                       </td><td>NA                                      </td></tr>\n",
       "\t<tr><td>⋮</td><td>⋮</td><td>⋮</td><td>⋮</td></tr>\n",
       "\t<tr><td>359338                                  </td><td>fffd3df081c03829a9ea4699e2d85e868d7a791b</td><td>F                                       </td><td>[1-17]                                  </td></tr>\n",
       "\t<tr><td>359339                                  </td><td>fffe1f0fc9eb1432b98eb25b2c950850796a4a8b</td><td>M                                       </td><td>[25-34]                                 </td></tr>\n",
       "\t<tr><td>359340                                  </td><td>fffe356b9dab2fae1f887fabb1f08ab4976c91bb</td><td>F                                       </td><td>[18-24]                                 </td></tr>\n",
       "\t<tr><td>359341                                  </td><td>fffe3e8eb1b2db8dcb3f3fe753552d5803d085f1</td><td>F                                       </td><td>[18-24]                                 </td></tr>\n",
       "\t<tr><td>359342                                  </td><td>fffe454af08a58c7bafe77491b586711f6b5e6f1</td><td>M                                       </td><td>[25-34]                                 </td></tr>\n",
       "\t<tr><td>359343                                  </td><td>fffe7823f67b433b45f22056467db921c1d3d7d0</td><td>M                                       </td><td>[25-34]                                 </td></tr>\n",
       "\t<tr><td>359344                                  </td><td>fffe8637bd8234309e871409c7ebef99a720afc1</td><td>M                                       </td><td>[25-34]                                 </td></tr>\n",
       "\t<tr><td>359345                                  </td><td>fffe8c7f952d9b960a56ed4dcb40a415d924b224</td><td>M                                       </td><td>[18-24]                                 </td></tr>\n",
       "\t<tr><td>359346                                  </td><td>ffff9af9ae04d263dae91cb838b1f3a6725f5ffb</td><td>M                                       </td><td>[18-24]                                 </td></tr>\n",
       "\t<tr><td>359347                                  </td><td>ffff9ef87a7d9494ada2f9ade4b9ff637c0759ac</td><td>M                                       </td><td>[18-24]                                 </td></tr>\n",
       "</tbody>\n",
       "</table>\n"
      ],
      "text/latex": [
       "\\begin{tabular}{r|llll}\n",
       " id & key & gender & age\\\\\n",
       "\\hline\n",
       "\t  1                                       & 00000c289a1829a808ac09c00daf10bc3c4e223b & F                                        & {[}18-24{]}                             \\\\\n",
       "\t  2                                       & 00001411dc427966b17297bf4d69e7e193135d89 & F                                        & NA                                      \\\\\n",
       "\t  3                                       & 00004d2ac9316e22dc007ab2243d6fcb239e707d & NA                                       & NA                                      \\\\\n",
       "\t  4                                       & 000063d3fe1cf2ba248b9e3c3f0334845a27a6bf & M                                        & {[}18-24{]}                             \\\\\n",
       "\t  5                                       & 00007a47085b9aab8af55f52ec8846ac479ac4fe & M                                        & {[}25-34{]}                             \\\\\n",
       "\t  6                                       & 0000c176103e538d5c9828e695fed4f7ae42dd01 & M                                        & {[}18-24{]}                             \\\\\n",
       "\t  7                                       & 0000ee7dd906373efa37f4e1185bfe1e3f8695ae & M                                        & {[}1-17{]}                              \\\\\n",
       "\t  8                                       & 0000ef373bbd0d89ce796abae961f2705e8c1faf & F                                        & {[}18-24{]}                             \\\\\n",
       "\t  9                                       & 0000f687d4fe9c1ed49620fbc5ed5b0d7798ea20 & F                                        & {[}18-24{]}                             \\\\\n",
       "\t 10                                       & 0001399387da41d557219578fb08b12afa25ab67 & M                                        & NA                                      \\\\\n",
       "\t ⋮ & ⋮ & ⋮ & ⋮\\\\\n",
       "\t 359338                                   & fffd3df081c03829a9ea4699e2d85e868d7a791b & F                                        & {[}1-17{]}                              \\\\\n",
       "\t 359339                                   & fffe1f0fc9eb1432b98eb25b2c950850796a4a8b & M                                        & {[}25-34{]}                             \\\\\n",
       "\t 359340                                   & fffe356b9dab2fae1f887fabb1f08ab4976c91bb & F                                        & {[}18-24{]}                             \\\\\n",
       "\t 359341                                   & fffe3e8eb1b2db8dcb3f3fe753552d5803d085f1 & F                                        & {[}18-24{]}                             \\\\\n",
       "\t 359342                                   & fffe454af08a58c7bafe77491b586711f6b5e6f1 & M                                        & {[}25-34{]}                             \\\\\n",
       "\t 359343                                   & fffe7823f67b433b45f22056467db921c1d3d7d0 & M                                        & {[}25-34{]}                             \\\\\n",
       "\t 359344                                   & fffe8637bd8234309e871409c7ebef99a720afc1 & M                                        & {[}25-34{]}                             \\\\\n",
       "\t 359345                                   & fffe8c7f952d9b960a56ed4dcb40a415d924b224 & M                                        & {[}18-24{]}                             \\\\\n",
       "\t 359346                                   & ffff9af9ae04d263dae91cb838b1f3a6725f5ffb & M                                        & {[}18-24{]}                             \\\\\n",
       "\t 359347                                   & ffff9ef87a7d9494ada2f9ade4b9ff637c0759ac & M                                        & {[}18-24{]}                             \\\\\n",
       "\\end{tabular}\n"
      ],
      "text/markdown": [
       "\n",
       "id | key | gender | age | \n",
       "|---|---|---|---|---|---|---|---|---|---|---|---|---|---|---|---|---|---|---|---|---|\n",
       "|  1                                       | 00000c289a1829a808ac09c00daf10bc3c4e223b | F                                        | [18-24]                                  | \n",
       "|  2                                       | 00001411dc427966b17297bf4d69e7e193135d89 | F                                        | NA                                       | \n",
       "|  3                                       | 00004d2ac9316e22dc007ab2243d6fcb239e707d | NA                                       | NA                                       | \n",
       "|  4                                       | 000063d3fe1cf2ba248b9e3c3f0334845a27a6bf | M                                        | [18-24]                                  | \n",
       "|  5                                       | 00007a47085b9aab8af55f52ec8846ac479ac4fe | M                                        | [25-34]                                  | \n",
       "|  6                                       | 0000c176103e538d5c9828e695fed4f7ae42dd01 | M                                        | [18-24]                                  | \n",
       "|  7                                       | 0000ee7dd906373efa37f4e1185bfe1e3f8695ae | M                                        | [1-17]                                   | \n",
       "|  8                                       | 0000ef373bbd0d89ce796abae961f2705e8c1faf | F                                        | [18-24]                                  | \n",
       "|  9                                       | 0000f687d4fe9c1ed49620fbc5ed5b0d7798ea20 | F                                        | [18-24]                                  | \n",
       "| 10                                       | 0001399387da41d557219578fb08b12afa25ab67 | M                                        | NA                                       | \n",
       "| ⋮ | ⋮ | ⋮ | ⋮ | \n",
       "| 359338                                   | fffd3df081c03829a9ea4699e2d85e868d7a791b | F                                        | [1-17]                                   | \n",
       "| 359339                                   | fffe1f0fc9eb1432b98eb25b2c950850796a4a8b | M                                        | [25-34]                                  | \n",
       "| 359340                                   | fffe356b9dab2fae1f887fabb1f08ab4976c91bb | F                                        | [18-24]                                  | \n",
       "| 359341                                   | fffe3e8eb1b2db8dcb3f3fe753552d5803d085f1 | F                                        | [18-24]                                  | \n",
       "| 359342                                   | fffe454af08a58c7bafe77491b586711f6b5e6f1 | M                                        | [25-34]                                  | \n",
       "| 359343                                   | fffe7823f67b433b45f22056467db921c1d3d7d0 | M                                        | [25-34]                                  | \n",
       "| 359344                                   | fffe8637bd8234309e871409c7ebef99a720afc1 | M                                        | [25-34]                                  | \n",
       "| 359345                                   | fffe8c7f952d9b960a56ed4dcb40a415d924b224 | M                                        | [18-24]                                  | \n",
       "| 359346                                   | ffff9af9ae04d263dae91cb838b1f3a6725f5ffb | M                                        | [18-24]                                  | \n",
       "| 359347                                   | ffff9ef87a7d9494ada2f9ade4b9ff637c0759ac | M                                        | [18-24]                                  | \n",
       "\n",
       "\n"
      ],
      "text/plain": [
       "       id     key                                      gender age    \n",
       "1       1     00000c289a1829a808ac09c00daf10bc3c4e223b F      [18-24]\n",
       "2       2     00001411dc427966b17297bf4d69e7e193135d89 F      NA     \n",
       "3       3     00004d2ac9316e22dc007ab2243d6fcb239e707d NA     NA     \n",
       "4       4     000063d3fe1cf2ba248b9e3c3f0334845a27a6bf M      [18-24]\n",
       "5       5     00007a47085b9aab8af55f52ec8846ac479ac4fe M      [25-34]\n",
       "6       6     0000c176103e538d5c9828e695fed4f7ae42dd01 M      [18-24]\n",
       "7       7     0000ee7dd906373efa37f4e1185bfe1e3f8695ae M      [1-17] \n",
       "8       8     0000ef373bbd0d89ce796abae961f2705e8c1faf F      [18-24]\n",
       "9       9     0000f687d4fe9c1ed49620fbc5ed5b0d7798ea20 F      [18-24]\n",
       "10     10     0001399387da41d557219578fb08b12afa25ab67 M      NA     \n",
       "⋮      ⋮      ⋮                                        ⋮      ⋮      \n",
       "359338 359338 fffd3df081c03829a9ea4699e2d85e868d7a791b F      [1-17] \n",
       "359339 359339 fffe1f0fc9eb1432b98eb25b2c950850796a4a8b M      [25-34]\n",
       "359340 359340 fffe356b9dab2fae1f887fabb1f08ab4976c91bb F      [18-24]\n",
       "359341 359341 fffe3e8eb1b2db8dcb3f3fe753552d5803d085f1 F      [18-24]\n",
       "359342 359342 fffe454af08a58c7bafe77491b586711f6b5e6f1 M      [25-34]\n",
       "359343 359343 fffe7823f67b433b45f22056467db921c1d3d7d0 M      [25-34]\n",
       "359344 359344 fffe8637bd8234309e871409c7ebef99a720afc1 M      [25-34]\n",
       "359345 359345 fffe8c7f952d9b960a56ed4dcb40a415d924b224 M      [18-24]\n",
       "359346 359346 ffff9af9ae04d263dae91cb838b1f3a6725f5ffb M      [18-24]\n",
       "359347 359347 ffff9ef87a7d9494ada2f9ade4b9ff637c0759ac M      [18-24]"
      ]
     },
     "metadata": {},
     "output_type": "display_data"
    }
   ],
   "source": [
    "##### id,key,gender,age\n",
    "\n",
    "usersLastfm = read_delim(\"data/lastfm/lastfm-users.csv\", delim=\",\", \n",
    "                   col_names=c(\"id\", \"key\", \"gender\", \"age\") )\n",
    "#usersLastfm <-  subset(usersLastfm, select = c(\"user\", \"gender\", \"age\"))\n",
    "#usersLastfm$age <- as.integer(usersLastfm$age)\n",
    "usersLastfm$age <- as.numeric(as.character(usersLastfm$age))\n",
    "usersLastfm$gender[usersLastfm$gender == \"f\"] <- \"F\"\n",
    "usersLastfm$gender[usersLastfm$gender == \"m\"] <- \"M\"\n",
    "usersLastfm$age[ as.numeric(usersLastfm$age) < 18] <- \"[1-17]\"\n",
    "usersLastfm$age[as.numeric(usersLastfm$age) >= 18 & as.numeric(usersLastfm$age) < 25] <- \"[18-24]\"\n",
    "usersLastfm$age[as.numeric(usersLastfm$age) >= 25 &  as.numeric(usersLastfm$age) < 35] <- \"[25-34]\"\n",
    "usersLastfm$age[as.numeric(usersLastfm$age) >= 35 &  as.numeric(usersLastfm$age) < 45] <- \"[35-44]\"\n",
    "usersLastfm$age[as.numeric(usersLastfm$age) >= 45 & as.numeric(usersLastfm$age) < 56] <- \"[45-55]\"\n",
    "usersLastfm$age[as.numeric(usersLastfm$age) >= 56 ] <- \"[56+]\"\n",
    "#usersLastfm$dataset = as.factor(\"LastFM\")\n",
    "usersLastfm$age = as.factor(usersLastfm$age)\n",
    "\n",
    "users.meta=usersLastfm\n",
    "usersLastfm"
   ]
  },
  {
   "cell_type": "code",
   "execution_count": 10,
   "metadata": {
    "collapsed": false
   },
   "outputs": [
    {
     "name": "stderr",
     "output_type": "stream",
     "text": [
      "Parsed with column specification:\n",
      "cols(\n",
      "  DataSet = col_character(),\n",
      "  Partition = col_integer(),\n",
      "  Algorithm = col_character(),\n",
      "  User = col_integer(),\n",
      "  TestTime = col_double(),\n",
      "  Rank = col_integer(),\n",
      "  RecipRank = col_double(),\n",
      "  `1R.Rank` = col_character(),\n",
      "  `1R.RecipRank` = col_character()\n",
      ")\n",
      "Joining, by = \"user\"\n"
     ]
    },
    {
     "data": {
      "text/html": [
       "<table>\n",
       "<thead><tr><th scope=col>DataSet</th><th scope=col>Partition</th><th scope=col>Algorithm</th><th scope=col>user</th><th scope=col>TestTime</th><th scope=col>Rank</th><th scope=col>RecipRank</th><th scope=col>1R.Rank</th><th scope=col>1R.RecipRank</th><th scope=col>gender</th><th scope=col>age</th></tr></thead>\n",
       "<tbody>\n",
       "\t<tr><td>LastFM.UI</td><td>5        </td><td>Pop-C    </td><td>244377   </td><td>0.408    </td><td>NA       </td><td>0.00     </td><td>NA       </td><td>NA       </td><td>M        </td><td>[35-44]  </td></tr>\n",
       "\t<tr><td>LastFM.UI</td><td>5        </td><td>Pop-B    </td><td>244377   </td><td>0.415    </td><td>NA       </td><td>0.00     </td><td>NA       </td><td>NA       </td><td>M        </td><td>[35-44]  </td></tr>\n",
       "\t<tr><td>LastFM.UI</td><td>3        </td><td>Pop-B    </td><td>247474   </td><td>0.426    </td><td>NA       </td><td>0.00     </td><td>NA       </td><td>NA       </td><td>M        </td><td>[25-34]  </td></tr>\n",
       "\t<tr><td>LastFM.UI</td><td>3        </td><td>Pop-C    </td><td>247474   </td><td>0.427    </td><td>NA       </td><td>0.00     </td><td>NA       </td><td>NA       </td><td>M        </td><td>[25-34]  </td></tr>\n",
       "\t<tr><td>LastFM.UI</td><td>2        </td><td>Pop-B    </td><td>244210   </td><td>0.423    </td><td> 4       </td><td>0.25     </td><td>NA       </td><td>NA       </td><td>M        </td><td>NA       </td></tr>\n",
       "\t<tr><td>LastFM.UI</td><td>2        </td><td>Pop-C    </td><td>244210   </td><td>0.432    </td><td> 4       </td><td>0.25     </td><td>NA       </td><td>NA       </td><td>M        </td><td>NA       </td></tr>\n",
       "\t<tr><td>LastFM.UI</td><td>5        </td><td>Pop-C    </td><td>244394   </td><td>0.043    </td><td>NA       </td><td>0.00     </td><td>NA       </td><td>NA       </td><td>M        </td><td>[25-34]  </td></tr>\n",
       "\t<tr><td>LastFM.UI</td><td>5        </td><td>Pop-B    </td><td>244394   </td><td>0.049    </td><td>NA       </td><td>0.00     </td><td>NA       </td><td>NA       </td><td>M        </td><td>[25-34]  </td></tr>\n",
       "\t<tr><td>LastFM.UI</td><td>2        </td><td>Pop-B    </td><td>244251   </td><td>0.044    </td><td>NA       </td><td>0.00     </td><td>NA       </td><td>NA       </td><td>NA       </td><td>NA       </td></tr>\n",
       "\t<tr><td>LastFM.UI</td><td>2        </td><td>Pop-C    </td><td>244251   </td><td>0.029    </td><td>NA       </td><td>0.00     </td><td>NA       </td><td>NA       </td><td>NA       </td><td>NA       </td></tr>\n",
       "\t<tr><td>⋮</td><td>⋮</td><td>⋮</td><td>⋮</td><td>⋮</td><td>⋮</td><td>⋮</td><td>⋮</td><td>⋮</td><td>⋮</td><td>⋮</td></tr>\n",
       "\t<tr><td>LastFM    </td><td>3         </td><td>II-B      </td><td>294810    </td><td>1.695     </td><td> 9        </td><td>0.11111111</td><td>NA        </td><td>NA        </td><td>M         </td><td>[35-44]   </td></tr>\n",
       "\t<tr><td>LastFM    </td><td>2         </td><td>II-C      </td><td> 40158    </td><td>1.468     </td><td>NA        </td><td>0.00000000</td><td>NA        </td><td>NA        </td><td>M         </td><td>NA        </td></tr>\n",
       "\t<tr><td>LastFM    </td><td>3         </td><td>II-B      </td><td>288498    </td><td>1.529     </td><td> 1        </td><td>1.00000000</td><td>NA        </td><td>NA        </td><td>M         </td><td>[18-24]   </td></tr>\n",
       "\t<tr><td>LastFM    </td><td>2         </td><td>II-CS     </td><td>342294    </td><td>1.517     </td><td> 5        </td><td>0.20000000</td><td>NA        </td><td>NA        </td><td>NA        </td><td>NA        </td></tr>\n",
       "\t<tr><td>LastFM    </td><td>3         </td><td>II-B      </td><td>294815    </td><td>1.324     </td><td> 5        </td><td>0.20000000</td><td>NA        </td><td>NA        </td><td>M         </td><td>[35-44]   </td></tr>\n",
       "\t<tr><td>LastFM    </td><td>2         </td><td>II-C      </td><td> 40533    </td><td>1.450     </td><td>NA        </td><td>0.00000000</td><td>NA        </td><td>NA        </td><td>F         </td><td>[25-34]   </td></tr>\n",
       "\t<tr><td>LastFM    </td><td>3         </td><td>II-B      </td><td>288509    </td><td>1.489     </td><td> 1        </td><td>1.00000000</td><td>NA        </td><td>NA        </td><td>M         </td><td>[35-44]   </td></tr>\n",
       "\t<tr><td>LastFM    </td><td>3         </td><td>II-B      </td><td>294827    </td><td>1.202     </td><td> 4        </td><td>0.25000000</td><td>NA        </td><td>NA        </td><td>M         </td><td>[18-24]   </td></tr>\n",
       "\t<tr><td>LastFM    </td><td>2         </td><td>II-C      </td><td> 40595    </td><td>1.275     </td><td>NA        </td><td>0.00000000</td><td>NA        </td><td>NA        </td><td>M         </td><td>[18-24]   </td></tr>\n",
       "\t<tr><td>LastFM    </td><td>3         </td><td>II-B      </td><td>288515    </td><td>1.357     </td><td>52        </td><td>0.01923077</td><td>NA        </td><td>NA        </td><td>F         </td><td>NA        </td></tr>\n",
       "</tbody>\n",
       "</table>\n"
      ],
      "text/latex": [
       "\\begin{tabular}{r|lllllllllll}\n",
       " DataSet & Partition & Algorithm & user & TestTime & Rank & RecipRank & 1R.Rank & 1R.RecipRank & gender & age\\\\\n",
       "\\hline\n",
       "\t LastFM.UI   & 5           & Pop-C       & 244377      & 0.408       & NA          & 0.00        & NA          & NA          & M           & {[}35-44{]}\\\\\n",
       "\t LastFM.UI   & 5           & Pop-B       & 244377      & 0.415       & NA          & 0.00        & NA          & NA          & M           & {[}35-44{]}\\\\\n",
       "\t LastFM.UI   & 3           & Pop-B       & 247474      & 0.426       & NA          & 0.00        & NA          & NA          & M           & {[}25-34{]}\\\\\n",
       "\t LastFM.UI   & 3           & Pop-C       & 247474      & 0.427       & NA          & 0.00        & NA          & NA          & M           & {[}25-34{]}\\\\\n",
       "\t LastFM.UI & 2         & Pop-B     & 244210    & 0.423     &  4        & 0.25      & NA        & NA        & M         & NA       \\\\\n",
       "\t LastFM.UI & 2         & Pop-C     & 244210    & 0.432     &  4        & 0.25      & NA        & NA        & M         & NA       \\\\\n",
       "\t LastFM.UI   & 5           & Pop-C       & 244394      & 0.043       & NA          & 0.00        & NA          & NA          & M           & {[}25-34{]}\\\\\n",
       "\t LastFM.UI   & 5           & Pop-B       & 244394      & 0.049       & NA          & 0.00        & NA          & NA          & M           & {[}25-34{]}\\\\\n",
       "\t LastFM.UI & 2         & Pop-B     & 244251    & 0.044     & NA        & 0.00      & NA        & NA        & NA        & NA       \\\\\n",
       "\t LastFM.UI & 2         & Pop-C     & 244251    & 0.029     & NA        & 0.00      & NA        & NA        & NA        & NA       \\\\\n",
       "\t ⋮ & ⋮ & ⋮ & ⋮ & ⋮ & ⋮ & ⋮ & ⋮ & ⋮ & ⋮ & ⋮\\\\\n",
       "\t LastFM      & 3           & II-B        & 294810      & 1.695       &  9          & 0.11111111  & NA          & NA          & M           & {[}35-44{]}\\\\\n",
       "\t LastFM     & 2          & II-C       &  40158     & 1.468      & NA         & 0.00000000 & NA         & NA         & M          & NA        \\\\\n",
       "\t LastFM      & 3           & II-B        & 288498      & 1.529       &  1          & 1.00000000  & NA          & NA          & M           & {[}18-24{]}\\\\\n",
       "\t LastFM     & 2          & II-CS      & 342294     & 1.517      &  5         & 0.20000000 & NA         & NA         & NA         & NA        \\\\\n",
       "\t LastFM      & 3           & II-B        & 294815      & 1.324       &  5          & 0.20000000  & NA          & NA          & M           & {[}35-44{]}\\\\\n",
       "\t LastFM      & 2           & II-C        &  40533      & 1.450       & NA          & 0.00000000  & NA          & NA          & F           & {[}25-34{]}\\\\\n",
       "\t LastFM      & 3           & II-B        & 288509      & 1.489       &  1          & 1.00000000  & NA          & NA          & M           & {[}35-44{]}\\\\\n",
       "\t LastFM      & 3           & II-B        & 294827      & 1.202       &  4          & 0.25000000  & NA          & NA          & M           & {[}18-24{]}\\\\\n",
       "\t LastFM      & 2           & II-C        &  40595      & 1.275       & NA          & 0.00000000  & NA          & NA          & M           & {[}18-24{]}\\\\\n",
       "\t LastFM     & 3          & II-B       & 288515     & 1.357      & 52         & 0.01923077 & NA         & NA         & F          & NA        \\\\\n",
       "\\end{tabular}\n"
      ],
      "text/markdown": [
       "\n",
       "DataSet | Partition | Algorithm | user | TestTime | Rank | RecipRank | 1R.Rank | 1R.RecipRank | gender | age | \n",
       "|---|---|---|---|---|---|---|---|---|---|---|---|---|---|---|---|---|---|---|---|---|\n",
       "| LastFM.UI | 5         | Pop-C     | 244377    | 0.408     | NA        | 0.00      | NA        | NA        | M         | [35-44]   | \n",
       "| LastFM.UI | 5         | Pop-B     | 244377    | 0.415     | NA        | 0.00      | NA        | NA        | M         | [35-44]   | \n",
       "| LastFM.UI | 3         | Pop-B     | 247474    | 0.426     | NA        | 0.00      | NA        | NA        | M         | [25-34]   | \n",
       "| LastFM.UI | 3         | Pop-C     | 247474    | 0.427     | NA        | 0.00      | NA        | NA        | M         | [25-34]   | \n",
       "| LastFM.UI | 2         | Pop-B     | 244210    | 0.423     |  4        | 0.25      | NA        | NA        | M         | NA        | \n",
       "| LastFM.UI | 2         | Pop-C     | 244210    | 0.432     |  4        | 0.25      | NA        | NA        | M         | NA        | \n",
       "| LastFM.UI | 5         | Pop-C     | 244394    | 0.043     | NA        | 0.00      | NA        | NA        | M         | [25-34]   | \n",
       "| LastFM.UI | 5         | Pop-B     | 244394    | 0.049     | NA        | 0.00      | NA        | NA        | M         | [25-34]   | \n",
       "| LastFM.UI | 2         | Pop-B     | 244251    | 0.044     | NA        | 0.00      | NA        | NA        | NA        | NA        | \n",
       "| LastFM.UI | 2         | Pop-C     | 244251    | 0.029     | NA        | 0.00      | NA        | NA        | NA        | NA        | \n",
       "| ⋮ | ⋮ | ⋮ | ⋮ | ⋮ | ⋮ | ⋮ | ⋮ | ⋮ | ⋮ | ⋮ | \n",
       "| LastFM     | 3          | II-B       | 294810     | 1.695      |  9         | 0.11111111 | NA         | NA         | M          | [35-44]    | \n",
       "| LastFM     | 2          | II-C       |  40158     | 1.468      | NA         | 0.00000000 | NA         | NA         | M          | NA         | \n",
       "| LastFM     | 3          | II-B       | 288498     | 1.529      |  1         | 1.00000000 | NA         | NA         | M          | [18-24]    | \n",
       "| LastFM     | 2          | II-CS      | 342294     | 1.517      |  5         | 0.20000000 | NA         | NA         | NA         | NA         | \n",
       "| LastFM     | 3          | II-B       | 294815     | 1.324      |  5         | 0.20000000 | NA         | NA         | M          | [35-44]    | \n",
       "| LastFM     | 2          | II-C       |  40533     | 1.450      | NA         | 0.00000000 | NA         | NA         | F          | [25-34]    | \n",
       "| LastFM     | 3          | II-B       | 288509     | 1.489      |  1         | 1.00000000 | NA         | NA         | M          | [35-44]    | \n",
       "| LastFM     | 3          | II-B       | 294827     | 1.202      |  4         | 0.25000000 | NA         | NA         | M          | [18-24]    | \n",
       "| LastFM     | 2          | II-C       |  40595     | 1.275      | NA         | 0.00000000 | NA         | NA         | M          | [18-24]    | \n",
       "| LastFM     | 3          | II-B       | 288515     | 1.357      | 52         | 0.01923077 | NA         | NA         | F          | NA         | \n",
       "\n",
       "\n"
      ],
      "text/plain": [
       "       DataSet   Partition Algorithm user   TestTime Rank RecipRank  1R.Rank\n",
       "1      LastFM.UI 5         Pop-C     244377 0.408    NA   0.00       NA     \n",
       "2      LastFM.UI 5         Pop-B     244377 0.415    NA   0.00       NA     \n",
       "3      LastFM.UI 3         Pop-B     247474 0.426    NA   0.00       NA     \n",
       "4      LastFM.UI 3         Pop-C     247474 0.427    NA   0.00       NA     \n",
       "5      LastFM.UI 2         Pop-B     244210 0.423     4   0.25       NA     \n",
       "6      LastFM.UI 2         Pop-C     244210 0.432     4   0.25       NA     \n",
       "7      LastFM.UI 5         Pop-C     244394 0.043    NA   0.00       NA     \n",
       "8      LastFM.UI 5         Pop-B     244394 0.049    NA   0.00       NA     \n",
       "9      LastFM.UI 2         Pop-B     244251 0.044    NA   0.00       NA     \n",
       "10     LastFM.UI 2         Pop-C     244251 0.029    NA   0.00       NA     \n",
       "⋮      ⋮         ⋮         ⋮         ⋮      ⋮        ⋮    ⋮          ⋮      \n",
       "345819 LastFM    3         II-B      294810 1.695     9   0.11111111 NA     \n",
       "345820 LastFM    2         II-C       40158 1.468    NA   0.00000000 NA     \n",
       "345821 LastFM    3         II-B      288498 1.529     1   1.00000000 NA     \n",
       "345822 LastFM    2         II-CS     342294 1.517     5   0.20000000 NA     \n",
       "345823 LastFM    3         II-B      294815 1.324     5   0.20000000 NA     \n",
       "345824 LastFM    2         II-C       40533 1.450    NA   0.00000000 NA     \n",
       "345825 LastFM    3         II-B      288509 1.489     1   1.00000000 NA     \n",
       "345826 LastFM    3         II-B      294827 1.202     4   0.25000000 NA     \n",
       "345827 LastFM    2         II-C       40595 1.275    NA   0.00000000 NA     \n",
       "345828 LastFM    3         II-B      288515 1.357    52   0.01923077 NA     \n",
       "       1R.RecipRank gender age    \n",
       "1      NA           M      [35-44]\n",
       "2      NA           M      [35-44]\n",
       "3      NA           M      [25-34]\n",
       "4      NA           M      [25-34]\n",
       "5      NA           M      NA     \n",
       "6      NA           M      NA     \n",
       "7      NA           M      [25-34]\n",
       "8      NA           M      [25-34]\n",
       "9      NA           NA     NA     \n",
       "10     NA           NA     NA     \n",
       "⋮      ⋮            ⋮      ⋮      \n",
       "345819 NA           M      [35-44]\n",
       "345820 NA           M      NA     \n",
       "345821 NA           M      [18-24]\n",
       "345822 NA           NA     NA     \n",
       "345823 NA           M      [35-44]\n",
       "345824 NA           F      [25-34]\n",
       "345825 NA           M      [35-44]\n",
       "345826 NA           M      [18-24]\n",
       "345827 NA           M      [18-24]\n",
       "345828 NA           F      NA     "
      ]
     },
     "metadata": {},
     "output_type": "display_data"
    }
   ],
   "source": [
    "user.results.lastFm = read_csv(\"data/demographic-eval/lastfm-user-results.csv\", guess_max=10000) %>%\n",
    "    rename(user=User) %>%\n",
    "    inner_join(users.meta %>% rename(user=id) %>% select(-key))\n",
    "user.results.lastFm"
   ]
  },
  {
   "cell_type": "markdown",
   "metadata": {},
   "source": [
    "# Concat Datasets"
   ]
  },
  {
   "cell_type": "code",
   "execution_count": 23,
   "metadata": {
    "collapsed": false
   },
   "outputs": [
    {
     "data": {
      "text/plain": [
       "   DataSet            Partition  Algorithm              user       \n",
       " Length:412268      Min.   :1   Length:412268      Min.   :     1  \n",
       " Class :character   1st Qu.:2   Class :character   1st Qu.: 42165  \n",
       " Mode  :character   Median :3   Mode  :character   Median :148742  \n",
       "                    Mean   :3                      Mean   :155566  \n",
       "                    3rd Qu.:4                      3rd Qu.:258765  \n",
       "                    Max.   :5                      Max.   :358714  \n",
       "                                                                   \n",
       "    TestTime            Rank          RecipRank         1R.Rank         \n",
       " Min.   : 0.0000   Min.   :  1.00   Min.   :0.00000   Length:412268     \n",
       " 1st Qu.: 0.0900   1st Qu.:  3.00   1st Qu.:0.00000   Class :character  \n",
       " Median : 0.5200   Median : 11.00   Median :0.00000   Mode  :character  \n",
       " Mean   : 0.9454   Mean   : 21.43   Mean   :0.07207                     \n",
       " 3rd Qu.: 1.6000   3rd Qu.: 30.00   3rd Qu.:0.01923                     \n",
       " Max.   :20.9730   Max.   :100.00   Max.   :1.00000                     \n",
       "                   NA's   :292770                                       \n",
       " 1R.RecipRank          gender               age              RMSE       \n",
       " Length:412268      Length:412268      [1-17] : 23232   Min.   :0.1     \n",
       " Class :character   Class :character   [18-24]:153512   1st Qu.:0.7     \n",
       " Mode  :character   Mode  :character   [25-34]:105285   Median :1.2     \n",
       "                                       [35-44]: 33465   Mean   :2.1     \n",
       "                                       [45-55]: 17288   3rd Qu.:3.7     \n",
       "                                       [56+]  :  7372   Max.   :5.0     \n",
       "                                       NA's   : 72114   NA's   :369989  \n",
       "  Predict.nDCG    Predict.nDCG.Raw   TopN.nDCG         AvgPrec      \n",
       " Min.   :0.6      Min.   : 3.6     Min.   :0.0      Min.   :0.0     \n",
       " 1st Qu.:0.9      1st Qu.:12.2     1st Qu.:0.0      1st Qu.:0.0     \n",
       " Median :1.0      Median :13.7     Median :0.0      Median :0.0     \n",
       " Mean   :1.0      Mean   :13.5     Mean   :0.1      Mean   :0.1     \n",
       " 3rd Qu.:1.0      3rd Qu.:15.1     3rd Qu.:0.1      3rd Qu.:0.1     \n",
       " Max.   :1.0      Max.   :17.8     Max.   :1.0      Max.   :1.0     \n",
       " NA's   :369989   NA's   :369989   NA's   :345828   NA's   :345828  \n",
       "  occupation            zip              dataset         \n",
       " Length:412268      Length:412268      Length:412268     \n",
       " Class :character   Class :character   Class :character  \n",
       " Mode  :character   Mode  :character   Mode  :character  \n",
       "                                                         \n",
       "                                                         \n",
       "                                                         \n",
       "                                                         "
      ]
     },
     "metadata": {},
     "output_type": "display_data"
    }
   ],
   "source": [
    "user.results <- rbind.fill(user.results.lastFm,user.results.lenskit1m)\n",
    "summary(user.results)"
   ]
  },
  {
   "cell_type": "markdown",
   "metadata": {},
   "source": [
    "# Analyze by Gender"
   ]
  },
  {
   "cell_type": "code",
   "execution_count": 16,
   "metadata": {
    "collapsed": false
   },
   "outputs": [
    {
     "name": "stderr",
     "output_type": "stream",
     "text": [
      "Using DataSet, Algorithm, gender as id variables\n"
     ]
    }
   ],
   "source": [
    "gender.results = user.results %>%\n",
    "    group_by(DataSet, Algorithm, gender) %>%\n",
    "    summarize( MRR=mean(RecipRank, na.rm=TRUE))\n",
    "gender.tall = melt(gender.results, variable.name = \"Metric\")\n"
   ]
  },
  {
   "cell_type": "code",
   "execution_count": 17,
   "metadata": {
    "collapsed": false
   },
   "outputs": [
    {
     "name": "stderr",
     "output_type": "stream",
     "text": [
      "Using DataSet, Algorithm, gender as id variables\n"
     ]
    }
   ],
   "source": [
    "overall.results = user.results %>%\n",
    "    group_by(DataSet, Algorithm) %>%\n",
    "    summarize( MRR=mean(RecipRank, na.rm=TRUE))\n",
    "combined.results = rbind(gender.results, mutate(overall.results))\n",
    "combined.tall = melt(combined.results, variable.name='Metric')\n"
   ]
  },
  {
   "cell_type": "code",
   "execution_count": 18,
   "metadata": {
    "collapsed": true
   },
   "outputs": [],
   "source": [
    "combined.tall$Algorithm[combined.tall$Algorithm == \"Pop\"] <- \"POP-B\"\n",
    "combined.tall$Algorithm[combined.tall$Algorithm == \"PopCt\"] <- \"POP-C\""
   ]
  },
  {
   "cell_type": "code",
   "execution_count": 19,
   "metadata": {
    "collapsed": false
   },
   "outputs": [
    {
     "name": "stderr",
     "output_type": "stream",
     "text": [
      "Warning message in c(\"LastFM\", \"LastFM\", \"LastFM\", \"LastFM\", \"LastFM\", \"LastFM\", :\n",
      "“longer object length is not a multiple of shorter object length”"
     ]
    },
    {
     "data": {},
     "metadata": {},
     "output_type": "display_data"
    },
    {
     "data": {
      "image/png": "[encoded data removed]",
      "text/plain": [
       "plot without title"
      ]
     },
     "metadata": {},
     "output_type": "display_data"
    }
   ],
   "source": [
    "\n",
    "ggplot(combined.tall %>% filter(Metric == 'MRR', DataSet==c(\"LastFM\",\"Lenskit1M\"),\n",
    "                                grepl(\"(-B)|(-C)\", Algorithm)                             \n",
    "                               \n",
    "                               )) +\n",
    "    aes(x=gender, y=value, fill=Algorithm) +\n",
    "    geom_bar(stat=\"identity\", position=\"dodge\") +\n",
    "    facet_grid(DataSet ~  Metric\n",
    "               , scales=\"free\")"
   ]
  },
  {
   "cell_type": "markdown",
   "metadata": {},
   "source": [
    "# Analyze by Age"
   ]
  },
  {
   "cell_type": "code",
   "execution_count": 20,
   "metadata": {
    "collapsed": false
   },
   "outputs": [
    {
     "name": "stderr",
     "output_type": "stream",
     "text": [
      "Using DataSet, Algorithm, age as id variables\n"
     ]
    }
   ],
   "source": [
    "age.results = user.results %>%\n",
    "    group_by(DataSet, Algorithm, age) %>%\n",
    "   summarize( MRR=mean(RecipRank, na.rm=TRUE))\n",
    "age.tall = melt(age.results, variable.name = \"Metric\")\n"
   ]
  },
  {
   "cell_type": "code",
   "execution_count": 21,
   "metadata": {
    "collapsed": false
   },
   "outputs": [
    {
     "name": "stderr",
     "output_type": "stream",
     "text": [
      "Using DataSet, Algorithm, age as id variables\n"
     ]
    }
   ],
   "source": [
    "overall.results = user.results %>%\n",
    "    group_by(DataSet, Algorithm) %>%\n",
    "    summarize( MRR=mean(RecipRank, na.rm=TRUE))\n",
    "combined.results = rbind(age.results, mutate(overall.results))\n",
    "combined.tall = melt(combined.results, variable.name='Metric')\n",
    "combined.tall$Algorithm[combined.tall$Algorithm == \"Pop\"] <- \"POP-B\"\n",
    "combined.tall$Algorithm[combined.tall$Algorithm == \"PopCt\"] <- \"POP-C\""
   ]
  },
  {
   "cell_type": "code",
   "execution_count": 22,
   "metadata": {
    "collapsed": false
   },
   "outputs": [
    {
     "name": "stderr",
     "output_type": "stream",
     "text": [
      "Warning message in c(\"LastFM\", \"LastFM\", \"LastFM\", \"LastFM\", \"LastFM\", \"LastFM\", :\n",
      "“longer object length is not a multiple of shorter object length”"
     ]
    },
    {
     "data": {},
     "metadata": {},
     "output_type": "display_data"
    },
    {
     "data": {
      "image/png": "[encoded data removed]",
      "text/plain": [
       "plot without title"
      ]
     },
     "metadata": {},
     "output_type": "display_data"
    }
   ],
   "source": [
    "ggplot(combined.tall %>% filter(Metric == 'MRR', DataSet==c(\"LastFM\",\"Lenskit1M\"),\n",
    "                                grepl(\"(-B)|(-C)\", Algorithm)  )) +\n",
    "    aes(x=age, y=value, fill=Algorithm) +\n",
    "    geom_bar(stat=\"identity\", position=\"dodge\") +\n",
    "    facet_grid(DataSet ~ Metric, scales=\"free\")"
   ]
  },
  {
   "cell_type": "code",
   "execution_count": null,
   "metadata": {
    "collapsed": true
   },
   "outputs": [],
   "source": []
  },
  {
   "cell_type": "code",
   "execution_count": null,
   "metadata": {
    "collapsed": true
   },
   "outputs": [],
   "source": []
  }
 ],
 "metadata": {
  "anaconda-cloud": {},
  "kernelspec": {
   "display_name": "R [conda env:my-r-env]",
   "language": "R",
   "name": "conda-env-my-r-env-r"
  },
  "language_info": {
   "codemirror_mode": "r",
   "file_extension": ".r",
   "mimetype": "text/x-r-source",
   "name": "R",
   "pygments_lexer": "r",
   "version": "3.3.2"
  }
 },
 "nbformat": 4,
 "nbformat_minor": 1
}
